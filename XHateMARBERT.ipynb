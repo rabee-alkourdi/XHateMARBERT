{
  "cells": [
    {
      "cell_type": "markdown",
      "metadata": {
        "id": "view-in-github",
        "colab_type": "text"
      },
      "source": [
        "<a href=\"https://colab.research.google.com/github/rabee-alkourdi/XHateMARBERT/blob/main/XHateMARBERT.ipynb\" target=\"_parent\"><img src=\"https://colab.research.google.com/assets/colab-badge.svg\" alt=\"Open In Colab\"/></a>"
      ]
    },
    {
      "cell_type": "markdown",
      "metadata": {
        "id": "hQ6Xeo01j5GY"
      },
      "source": [
        "## **1. Experiment Preparation**\n",
        "---"
      ]
    },
    {
      "cell_type": "markdown",
      "metadata": {
        "id": "nj7fqF7jOFs-"
      },
      "source": [
        ">### **1.1. Connect Google Drive**"
      ]
    },
    {
      "cell_type": "code",
      "execution_count": null,
      "metadata": {
        "colab": {
          "base_uri": "https://localhost:8080/"
        },
        "id": "Ndg6wt4XLL4J",
        "outputId": "318b3197-ca9a-43c1-eca7-47e967cc7f7d"
      },
      "outputs": [
        {
          "output_type": "stream",
          "name": "stdout",
          "text": [
            "Mounted at /content/drive\n"
          ]
        }
      ],
      "source": [
        "from google.colab import drive\n",
        "drive.mount('/content/drive')"
      ]
    },
    {
      "cell_type": "code",
      "execution_count": null,
      "metadata": {
        "id": "zdlKfwjRnwqN"
      },
      "outputs": [],
      "source": [
        "# Insert the directory\n",
        "import sys\n",
        "sys.path.insert(0, '/content/drive/My Drive/Shared/Colab Notebooks/')\n",
        "\n",
        "DATASETS_PATH     = sys.path[0] + 'Datasets'\n",
        "MODELS_PATH       = sys.path[0] + 'Models'\n",
        "LOGS_PATH         = sys.path[0] + \"Models/Logs\"\n",
        "ATTRIBUTIONS_PATH = sys.path[0] + 'Attributions'"
      ]
    },
    {
      "cell_type": "markdown",
      "metadata": {
        "id": "bTFlkVO2N-gT"
      },
      "source": [
        ">### **1.2. Install required packages**"
      ]
    },
    {
      "cell_type": "code",
      "execution_count": null,
      "metadata": {
        "colab": {
          "base_uri": "https://localhost:8080/"
        },
        "id": "nvYD9m5a8i5F",
        "outputId": "05609def-87e5-40ab-d915-bad9a5eec9fe",
        "collapsed": true
      },
      "outputs": [
        {
          "output_type": "stream",
          "name": "stdout",
          "text": [
            "Requirement already satisfied: transformers in /usr/local/lib/python3.10/dist-packages (4.40.1)\n",
            "Collecting transformers\n",
            "  Downloading transformers-4.40.2-py3-none-any.whl (9.0 MB)\n",
            "\u001b[2K     \u001b[90m━━━━━━━━━━━━━━━━━━━━━━━━━━━━━━━━━━━━━━━━\u001b[0m \u001b[32m9.0/9.0 MB\u001b[0m \u001b[31m25.3 MB/s\u001b[0m eta \u001b[36m0:00:00\u001b[0m\n",
            "\u001b[?25hRequirement already satisfied: filelock in /usr/local/lib/python3.10/dist-packages (from transformers) (3.14.0)\n",
            "Requirement already satisfied: huggingface-hub<1.0,>=0.19.3 in /usr/local/lib/python3.10/dist-packages (from transformers) (0.20.3)\n",
            "Requirement already satisfied: numpy>=1.17 in /usr/local/lib/python3.10/dist-packages (from transformers) (1.25.2)\n",
            "Requirement already satisfied: packaging>=20.0 in /usr/local/lib/python3.10/dist-packages (from transformers) (24.0)\n",
            "Requirement already satisfied: pyyaml>=5.1 in /usr/local/lib/python3.10/dist-packages (from transformers) (6.0.1)\n",
            "Requirement already satisfied: regex!=2019.12.17 in /usr/local/lib/python3.10/dist-packages (from transformers) (2023.12.25)\n",
            "Requirement already satisfied: requests in /usr/local/lib/python3.10/dist-packages (from transformers) (2.31.0)\n",
            "Requirement already satisfied: tokenizers<0.20,>=0.19 in /usr/local/lib/python3.10/dist-packages (from transformers) (0.19.1)\n",
            "Requirement already satisfied: safetensors>=0.4.1 in /usr/local/lib/python3.10/dist-packages (from transformers) (0.4.3)\n",
            "Requirement already satisfied: tqdm>=4.27 in /usr/local/lib/python3.10/dist-packages (from transformers) (4.66.4)\n",
            "Requirement already satisfied: fsspec>=2023.5.0 in /usr/local/lib/python3.10/dist-packages (from huggingface-hub<1.0,>=0.19.3->transformers) (2023.6.0)\n",
            "Requirement already satisfied: typing-extensions>=3.7.4.3 in /usr/local/lib/python3.10/dist-packages (from huggingface-hub<1.0,>=0.19.3->transformers) (4.11.0)\n",
            "Requirement already satisfied: charset-normalizer<4,>=2 in /usr/local/lib/python3.10/dist-packages (from requests->transformers) (3.3.2)\n",
            "Requirement already satisfied: idna<4,>=2.5 in /usr/local/lib/python3.10/dist-packages (from requests->transformers) (3.7)\n",
            "Requirement already satisfied: urllib3<3,>=1.21.1 in /usr/local/lib/python3.10/dist-packages (from requests->transformers) (2.0.7)\n",
            "Requirement already satisfied: certifi>=2017.4.17 in /usr/local/lib/python3.10/dist-packages (from requests->transformers) (2024.2.2)\n",
            "Installing collected packages: transformers\n",
            "  Attempting uninstall: transformers\n",
            "    Found existing installation: transformers 4.40.1\n",
            "    Uninstalling transformers-4.40.1:\n",
            "      Successfully uninstalled transformers-4.40.1\n",
            "Successfully installed transformers-4.40.2\n",
            "Requirement already satisfied: sentencepiece in /usr/local/lib/python3.10/dist-packages (0.1.99)\n",
            "Collecting sentencepiece\n",
            "  Downloading sentencepiece-0.2.0-cp310-cp310-manylinux_2_17_x86_64.manylinux2014_x86_64.whl (1.3 MB)\n",
            "\u001b[2K     \u001b[90m━━━━━━━━━━━━━━━━━━━━━━━━━━━━━━━━━━━━━━━━\u001b[0m \u001b[32m1.3/1.3 MB\u001b[0m \u001b[31m5.7 MB/s\u001b[0m eta \u001b[36m0:00:00\u001b[0m\n",
            "\u001b[?25hInstalling collected packages: sentencepiece\n",
            "  Attempting uninstall: sentencepiece\n",
            "    Found existing installation: sentencepiece 0.1.99\n",
            "    Uninstalling sentencepiece-0.1.99:\n",
            "      Successfully uninstalled sentencepiece-0.1.99\n",
            "Successfully installed sentencepiece-0.2.0\n",
            "Collecting accelerate\n",
            "  Downloading accelerate-0.30.0-py3-none-any.whl (302 kB)\n",
            "\u001b[2K     \u001b[90m━━━━━━━━━━━━━━━━━━━━━━━━━━━━━━━━━━━━━━━━\u001b[0m \u001b[32m302.4/302.4 kB\u001b[0m \u001b[31m2.4 MB/s\u001b[0m eta \u001b[36m0:00:00\u001b[0m\n",
            "\u001b[?25hRequirement already satisfied: numpy>=1.17 in /usr/local/lib/python3.10/dist-packages (from accelerate) (1.25.2)\n",
            "Requirement already satisfied: packaging>=20.0 in /usr/local/lib/python3.10/dist-packages (from accelerate) (24.0)\n",
            "Requirement already satisfied: psutil in /usr/local/lib/python3.10/dist-packages (from accelerate) (5.9.5)\n",
            "Requirement already satisfied: pyyaml in /usr/local/lib/python3.10/dist-packages (from accelerate) (6.0.1)\n",
            "Requirement already satisfied: torch>=1.10.0 in /usr/local/lib/python3.10/dist-packages (from accelerate) (2.2.1+cu121)\n",
            "Requirement already satisfied: huggingface-hub in /usr/local/lib/python3.10/dist-packages (from accelerate) (0.20.3)\n",
            "Requirement already satisfied: safetensors>=0.3.1 in /usr/local/lib/python3.10/dist-packages (from accelerate) (0.4.3)\n",
            "Requirement already satisfied: filelock in /usr/local/lib/python3.10/dist-packages (from torch>=1.10.0->accelerate) (3.14.0)\n",
            "Requirement already satisfied: typing-extensions>=4.8.0 in /usr/local/lib/python3.10/dist-packages (from torch>=1.10.0->accelerate) (4.11.0)\n",
            "Requirement already satisfied: sympy in /usr/local/lib/python3.10/dist-packages (from torch>=1.10.0->accelerate) (1.12)\n",
            "Requirement already satisfied: networkx in /usr/local/lib/python3.10/dist-packages (from torch>=1.10.0->accelerate) (3.3)\n",
            "Requirement already satisfied: jinja2 in /usr/local/lib/python3.10/dist-packages (from torch>=1.10.0->accelerate) (3.1.3)\n",
            "Requirement already satisfied: fsspec in /usr/local/lib/python3.10/dist-packages (from torch>=1.10.0->accelerate) (2023.6.0)\n",
            "Collecting nvidia-cuda-nvrtc-cu12==12.1.105 (from torch>=1.10.0->accelerate)\n",
            "  Using cached nvidia_cuda_nvrtc_cu12-12.1.105-py3-none-manylinux1_x86_64.whl (23.7 MB)\n",
            "Collecting nvidia-cuda-runtime-cu12==12.1.105 (from torch>=1.10.0->accelerate)\n",
            "  Using cached nvidia_cuda_runtime_cu12-12.1.105-py3-none-manylinux1_x86_64.whl (823 kB)\n",
            "Collecting nvidia-cuda-cupti-cu12==12.1.105 (from torch>=1.10.0->accelerate)\n",
            "  Using cached nvidia_cuda_cupti_cu12-12.1.105-py3-none-manylinux1_x86_64.whl (14.1 MB)\n",
            "Collecting nvidia-cudnn-cu12==8.9.2.26 (from torch>=1.10.0->accelerate)\n",
            "  Using cached nvidia_cudnn_cu12-8.9.2.26-py3-none-manylinux1_x86_64.whl (731.7 MB)\n",
            "Collecting nvidia-cublas-cu12==12.1.3.1 (from torch>=1.10.0->accelerate)\n",
            "  Using cached nvidia_cublas_cu12-12.1.3.1-py3-none-manylinux1_x86_64.whl (410.6 MB)\n",
            "Collecting nvidia-cufft-cu12==11.0.2.54 (from torch>=1.10.0->accelerate)\n",
            "  Using cached nvidia_cufft_cu12-11.0.2.54-py3-none-manylinux1_x86_64.whl (121.6 MB)\n",
            "Collecting nvidia-curand-cu12==10.3.2.106 (from torch>=1.10.0->accelerate)\n",
            "  Using cached nvidia_curand_cu12-10.3.2.106-py3-none-manylinux1_x86_64.whl (56.5 MB)\n",
            "Collecting nvidia-cusolver-cu12==11.4.5.107 (from torch>=1.10.0->accelerate)\n",
            "  Using cached nvidia_cusolver_cu12-11.4.5.107-py3-none-manylinux1_x86_64.whl (124.2 MB)\n",
            "Collecting nvidia-cusparse-cu12==12.1.0.106 (from torch>=1.10.0->accelerate)\n",
            "  Using cached nvidia_cusparse_cu12-12.1.0.106-py3-none-manylinux1_x86_64.whl (196.0 MB)\n",
            "Collecting nvidia-nccl-cu12==2.19.3 (from torch>=1.10.0->accelerate)\n",
            "  Using cached nvidia_nccl_cu12-2.19.3-py3-none-manylinux1_x86_64.whl (166.0 MB)\n",
            "Collecting nvidia-nvtx-cu12==12.1.105 (from torch>=1.10.0->accelerate)\n",
            "  Using cached nvidia_nvtx_cu12-12.1.105-py3-none-manylinux1_x86_64.whl (99 kB)\n",
            "Requirement already satisfied: triton==2.2.0 in /usr/local/lib/python3.10/dist-packages (from torch>=1.10.0->accelerate) (2.2.0)\n",
            "Collecting nvidia-nvjitlink-cu12 (from nvidia-cusolver-cu12==11.4.5.107->torch>=1.10.0->accelerate)\n",
            "  Using cached nvidia_nvjitlink_cu12-12.4.127-py3-none-manylinux2014_x86_64.whl (21.1 MB)\n",
            "Requirement already satisfied: requests in /usr/local/lib/python3.10/dist-packages (from huggingface-hub->accelerate) (2.31.0)\n",
            "Requirement already satisfied: tqdm>=4.42.1 in /usr/local/lib/python3.10/dist-packages (from huggingface-hub->accelerate) (4.66.4)\n",
            "Requirement already satisfied: MarkupSafe>=2.0 in /usr/local/lib/python3.10/dist-packages (from jinja2->torch>=1.10.0->accelerate) (2.1.5)\n",
            "Requirement already satisfied: charset-normalizer<4,>=2 in /usr/local/lib/python3.10/dist-packages (from requests->huggingface-hub->accelerate) (3.3.2)\n",
            "Requirement already satisfied: idna<4,>=2.5 in /usr/local/lib/python3.10/dist-packages (from requests->huggingface-hub->accelerate) (3.7)\n",
            "Requirement already satisfied: urllib3<3,>=1.21.1 in /usr/local/lib/python3.10/dist-packages (from requests->huggingface-hub->accelerate) (2.0.7)\n",
            "Requirement already satisfied: certifi>=2017.4.17 in /usr/local/lib/python3.10/dist-packages (from requests->huggingface-hub->accelerate) (2024.2.2)\n",
            "Requirement already satisfied: mpmath>=0.19 in /usr/local/lib/python3.10/dist-packages (from sympy->torch>=1.10.0->accelerate) (1.3.0)\n",
            "Installing collected packages: nvidia-nvtx-cu12, nvidia-nvjitlink-cu12, nvidia-nccl-cu12, nvidia-curand-cu12, nvidia-cufft-cu12, nvidia-cuda-runtime-cu12, nvidia-cuda-nvrtc-cu12, nvidia-cuda-cupti-cu12, nvidia-cublas-cu12, nvidia-cusparse-cu12, nvidia-cudnn-cu12, nvidia-cusolver-cu12, accelerate\n",
            "Successfully installed accelerate-0.30.0 nvidia-cublas-cu12-12.1.3.1 nvidia-cuda-cupti-cu12-12.1.105 nvidia-cuda-nvrtc-cu12-12.1.105 nvidia-cuda-runtime-cu12-12.1.105 nvidia-cudnn-cu12-8.9.2.26 nvidia-cufft-cu12-11.0.2.54 nvidia-curand-cu12-10.3.2.106 nvidia-cusolver-cu12-11.4.5.107 nvidia-cusparse-cu12-12.1.0.106 nvidia-nccl-cu12-2.19.3 nvidia-nvjitlink-cu12-12.4.127 nvidia-nvtx-cu12-12.1.105\n",
            "Collecting datasets\n",
            "  Downloading datasets-2.19.1-py3-none-any.whl (542 kB)\n",
            "\u001b[2K     \u001b[90m━━━━━━━━━━━━━━━━━━━━━━━━━━━━━━━━━━━━━━━━\u001b[0m \u001b[32m542.0/542.0 kB\u001b[0m \u001b[31m3.4 MB/s\u001b[0m eta \u001b[36m0:00:00\u001b[0m\n",
            "\u001b[?25hRequirement already satisfied: filelock in /usr/local/lib/python3.10/dist-packages (from datasets) (3.14.0)\n",
            "Requirement already satisfied: numpy>=1.17 in /usr/local/lib/python3.10/dist-packages (from datasets) (1.25.2)\n",
            "Requirement already satisfied: pyarrow>=12.0.0 in /usr/local/lib/python3.10/dist-packages (from datasets) (14.0.2)\n",
            "Requirement already satisfied: pyarrow-hotfix in /usr/local/lib/python3.10/dist-packages (from datasets) (0.6)\n",
            "Collecting dill<0.3.9,>=0.3.0 (from datasets)\n",
            "  Downloading dill-0.3.8-py3-none-any.whl (116 kB)\n",
            "\u001b[2K     \u001b[90m━━━━━━━━━━━━━━━━━━━━━━━━━━━━━━━━━━━━━━━━\u001b[0m \u001b[32m116.3/116.3 kB\u001b[0m \u001b[31m9.3 MB/s\u001b[0m eta \u001b[36m0:00:00\u001b[0m\n",
            "\u001b[?25hRequirement already satisfied: pandas in /usr/local/lib/python3.10/dist-packages (from datasets) (2.0.3)\n",
            "Requirement already satisfied: requests>=2.19.0 in /usr/local/lib/python3.10/dist-packages (from datasets) (2.31.0)\n",
            "Requirement already satisfied: tqdm>=4.62.1 in /usr/local/lib/python3.10/dist-packages (from datasets) (4.66.4)\n",
            "Collecting xxhash (from datasets)\n",
            "  Downloading xxhash-3.4.1-cp310-cp310-manylinux_2_17_x86_64.manylinux2014_x86_64.whl (194 kB)\n",
            "\u001b[2K     \u001b[90m━━━━━━━━━━━━━━━━━━━━━━━━━━━━━━━━━━━━━━━━\u001b[0m \u001b[32m194.1/194.1 kB\u001b[0m \u001b[31m9.4 MB/s\u001b[0m eta \u001b[36m0:00:00\u001b[0m\n",
            "\u001b[?25hCollecting multiprocess (from datasets)\n",
            "  Downloading multiprocess-0.70.16-py310-none-any.whl (134 kB)\n",
            "\u001b[2K     \u001b[90m━━━━━━━━━━━━━━━━━━━━━━━━━━━━━━━━━━━━━━━━\u001b[0m \u001b[32m134.8/134.8 kB\u001b[0m \u001b[31m9.8 MB/s\u001b[0m eta \u001b[36m0:00:00\u001b[0m\n",
            "\u001b[?25hRequirement already satisfied: fsspec[http]<=2024.3.1,>=2023.1.0 in /usr/local/lib/python3.10/dist-packages (from datasets) (2023.6.0)\n",
            "Requirement already satisfied: aiohttp in /usr/local/lib/python3.10/dist-packages (from datasets) (3.9.5)\n",
            "Collecting huggingface-hub>=0.21.2 (from datasets)\n",
            "  Downloading huggingface_hub-0.23.0-py3-none-any.whl (401 kB)\n",
            "\u001b[2K     \u001b[90m━━━━━━━━━━━━━━━━━━━━━━━━━━━━━━━━━━━━━━━━\u001b[0m \u001b[32m401.2/401.2 kB\u001b[0m \u001b[31m8.6 MB/s\u001b[0m eta \u001b[36m0:00:00\u001b[0m\n",
            "\u001b[?25hRequirement already satisfied: packaging in /usr/local/lib/python3.10/dist-packages (from datasets) (24.0)\n",
            "Requirement already satisfied: pyyaml>=5.1 in /usr/local/lib/python3.10/dist-packages (from datasets) (6.0.1)\n",
            "Requirement already satisfied: aiosignal>=1.1.2 in /usr/local/lib/python3.10/dist-packages (from aiohttp->datasets) (1.3.1)\n",
            "Requirement already satisfied: attrs>=17.3.0 in /usr/local/lib/python3.10/dist-packages (from aiohttp->datasets) (23.2.0)\n",
            "Requirement already satisfied: frozenlist>=1.1.1 in /usr/local/lib/python3.10/dist-packages (from aiohttp->datasets) (1.4.1)\n",
            "Requirement already satisfied: multidict<7.0,>=4.5 in /usr/local/lib/python3.10/dist-packages (from aiohttp->datasets) (6.0.5)\n",
            "Requirement already satisfied: yarl<2.0,>=1.0 in /usr/local/lib/python3.10/dist-packages (from aiohttp->datasets) (1.9.4)\n",
            "Requirement already satisfied: async-timeout<5.0,>=4.0 in /usr/local/lib/python3.10/dist-packages (from aiohttp->datasets) (4.0.3)\n",
            "Requirement already satisfied: typing-extensions>=3.7.4.3 in /usr/local/lib/python3.10/dist-packages (from huggingface-hub>=0.21.2->datasets) (4.11.0)\n",
            "Requirement already satisfied: charset-normalizer<4,>=2 in /usr/local/lib/python3.10/dist-packages (from requests>=2.19.0->datasets) (3.3.2)\n",
            "Requirement already satisfied: idna<4,>=2.5 in /usr/local/lib/python3.10/dist-packages (from requests>=2.19.0->datasets) (3.7)\n",
            "Requirement already satisfied: urllib3<3,>=1.21.1 in /usr/local/lib/python3.10/dist-packages (from requests>=2.19.0->datasets) (2.0.7)\n",
            "Requirement already satisfied: certifi>=2017.4.17 in /usr/local/lib/python3.10/dist-packages (from requests>=2.19.0->datasets) (2024.2.2)\n",
            "Requirement already satisfied: python-dateutil>=2.8.2 in /usr/local/lib/python3.10/dist-packages (from pandas->datasets) (2.8.2)\n",
            "Requirement already satisfied: pytz>=2020.1 in /usr/local/lib/python3.10/dist-packages (from pandas->datasets) (2023.4)\n",
            "Requirement already satisfied: tzdata>=2022.1 in /usr/local/lib/python3.10/dist-packages (from pandas->datasets) (2024.1)\n",
            "Requirement already satisfied: six>=1.5 in /usr/local/lib/python3.10/dist-packages (from python-dateutil>=2.8.2->pandas->datasets) (1.16.0)\n",
            "Installing collected packages: xxhash, dill, multiprocess, huggingface-hub, datasets\n",
            "  Attempting uninstall: huggingface-hub\n",
            "    Found existing installation: huggingface-hub 0.20.3\n",
            "    Uninstalling huggingface-hub-0.20.3:\n",
            "      Successfully uninstalled huggingface-hub-0.20.3\n",
            "Successfully installed datasets-2.19.1 dill-0.3.8 huggingface-hub-0.23.0 multiprocess-0.70.16 xxhash-3.4.1\n",
            "Collecting evaluate\n",
            "  Downloading evaluate-0.4.2-py3-none-any.whl (84 kB)\n",
            "\u001b[2K     \u001b[90m━━━━━━━━━━━━━━━━━━━━━━━━━━━━━━━━━━━━━━━━\u001b[0m \u001b[32m84.1/84.1 kB\u001b[0m \u001b[31m1.3 MB/s\u001b[0m eta \u001b[36m0:00:00\u001b[0m\n",
            "\u001b[?25hRequirement already satisfied: datasets>=2.0.0 in /usr/local/lib/python3.10/dist-packages (from evaluate) (2.19.1)\n",
            "Requirement already satisfied: numpy>=1.17 in /usr/local/lib/python3.10/dist-packages (from evaluate) (1.25.2)\n",
            "Requirement already satisfied: dill in /usr/local/lib/python3.10/dist-packages (from evaluate) (0.3.8)\n",
            "Requirement already satisfied: pandas in /usr/local/lib/python3.10/dist-packages (from evaluate) (2.0.3)\n",
            "Requirement already satisfied: requests>=2.19.0 in /usr/local/lib/python3.10/dist-packages (from evaluate) (2.31.0)\n",
            "Requirement already satisfied: tqdm>=4.62.1 in /usr/local/lib/python3.10/dist-packages (from evaluate) (4.66.4)\n",
            "Requirement already satisfied: xxhash in /usr/local/lib/python3.10/dist-packages (from evaluate) (3.4.1)\n",
            "Requirement already satisfied: multiprocess in /usr/local/lib/python3.10/dist-packages (from evaluate) (0.70.16)\n",
            "Requirement already satisfied: fsspec[http]>=2021.05.0 in /usr/local/lib/python3.10/dist-packages (from evaluate) (2023.6.0)\n",
            "Requirement already satisfied: huggingface-hub>=0.7.0 in /usr/local/lib/python3.10/dist-packages (from evaluate) (0.23.0)\n",
            "Requirement already satisfied: packaging in /usr/local/lib/python3.10/dist-packages (from evaluate) (24.0)\n",
            "Requirement already satisfied: filelock in /usr/local/lib/python3.10/dist-packages (from datasets>=2.0.0->evaluate) (3.14.0)\n",
            "Requirement already satisfied: pyarrow>=12.0.0 in /usr/local/lib/python3.10/dist-packages (from datasets>=2.0.0->evaluate) (14.0.2)\n",
            "Requirement already satisfied: pyarrow-hotfix in /usr/local/lib/python3.10/dist-packages (from datasets>=2.0.0->evaluate) (0.6)\n",
            "Requirement already satisfied: aiohttp in /usr/local/lib/python3.10/dist-packages (from datasets>=2.0.0->evaluate) (3.9.5)\n",
            "Requirement already satisfied: pyyaml>=5.1 in /usr/local/lib/python3.10/dist-packages (from datasets>=2.0.0->evaluate) (6.0.1)\n",
            "Requirement already satisfied: typing-extensions>=3.7.4.3 in /usr/local/lib/python3.10/dist-packages (from huggingface-hub>=0.7.0->evaluate) (4.11.0)\n",
            "Requirement already satisfied: charset-normalizer<4,>=2 in /usr/local/lib/python3.10/dist-packages (from requests>=2.19.0->evaluate) (3.3.2)\n",
            "Requirement already satisfied: idna<4,>=2.5 in /usr/local/lib/python3.10/dist-packages (from requests>=2.19.0->evaluate) (3.7)\n",
            "Requirement already satisfied: urllib3<3,>=1.21.1 in /usr/local/lib/python3.10/dist-packages (from requests>=2.19.0->evaluate) (2.0.7)\n",
            "Requirement already satisfied: certifi>=2017.4.17 in /usr/local/lib/python3.10/dist-packages (from requests>=2.19.0->evaluate) (2024.2.2)\n",
            "Requirement already satisfied: python-dateutil>=2.8.2 in /usr/local/lib/python3.10/dist-packages (from pandas->evaluate) (2.8.2)\n",
            "Requirement already satisfied: pytz>=2020.1 in /usr/local/lib/python3.10/dist-packages (from pandas->evaluate) (2023.4)\n",
            "Requirement already satisfied: tzdata>=2022.1 in /usr/local/lib/python3.10/dist-packages (from pandas->evaluate) (2024.1)\n",
            "Requirement already satisfied: aiosignal>=1.1.2 in /usr/local/lib/python3.10/dist-packages (from aiohttp->datasets>=2.0.0->evaluate) (1.3.1)\n",
            "Requirement already satisfied: attrs>=17.3.0 in /usr/local/lib/python3.10/dist-packages (from aiohttp->datasets>=2.0.0->evaluate) (23.2.0)\n",
            "Requirement already satisfied: frozenlist>=1.1.1 in /usr/local/lib/python3.10/dist-packages (from aiohttp->datasets>=2.0.0->evaluate) (1.4.1)\n",
            "Requirement already satisfied: multidict<7.0,>=4.5 in /usr/local/lib/python3.10/dist-packages (from aiohttp->datasets>=2.0.0->evaluate) (6.0.5)\n",
            "Requirement already satisfied: yarl<2.0,>=1.0 in /usr/local/lib/python3.10/dist-packages (from aiohttp->datasets>=2.0.0->evaluate) (1.9.4)\n",
            "Requirement already satisfied: async-timeout<5.0,>=4.0 in /usr/local/lib/python3.10/dist-packages (from aiohttp->datasets>=2.0.0->evaluate) (4.0.3)\n",
            "Requirement already satisfied: six>=1.5 in /usr/local/lib/python3.10/dist-packages (from python-dateutil>=2.8.2->pandas->evaluate) (1.16.0)\n",
            "Installing collected packages: evaluate\n",
            "Successfully installed evaluate-0.4.2\n",
            "Collecting Keras-Preprocessing\n",
            "  Downloading Keras_Preprocessing-1.1.2-py2.py3-none-any.whl (42 kB)\n",
            "\u001b[2K     \u001b[90m━━━━━━━━━━━━━━━━━━━━━━━━━━━━━━━━━━━━━━━━\u001b[0m \u001b[32m42.6/42.6 kB\u001b[0m \u001b[31m922.7 kB/s\u001b[0m eta \u001b[36m0:00:00\u001b[0m\n",
            "\u001b[?25hRequirement already satisfied: numpy>=1.9.1 in /usr/local/lib/python3.10/dist-packages (from Keras-Preprocessing) (1.25.2)\n",
            "Requirement already satisfied: six>=1.9.0 in /usr/local/lib/python3.10/dist-packages (from Keras-Preprocessing) (1.16.0)\n",
            "Installing collected packages: Keras-Preprocessing\n",
            "Successfully installed Keras-Preprocessing-1.1.2\n",
            "Collecting demoji\n",
            "  Downloading demoji-1.1.0-py3-none-any.whl (42 kB)\n",
            "\u001b[2K     \u001b[90m━━━━━━━━━━━━━━━━━━━━━━━━━━━━━━━━━━━━━━━━\u001b[0m \u001b[32m42.9/42.9 kB\u001b[0m \u001b[31m875.9 kB/s\u001b[0m eta \u001b[36m0:00:00\u001b[0m\n",
            "\u001b[?25hInstalling collected packages: demoji\n",
            "Successfully installed demoji-1.1.0\n",
            "Collecting captum\n",
            "  Downloading captum-0.7.0-py3-none-any.whl (1.3 MB)\n",
            "\u001b[2K     \u001b[90m━━━━━━━━━━━━━━━━━━━━━━━━━━━━━━━━━━━━━━━━\u001b[0m \u001b[32m1.3/1.3 MB\u001b[0m \u001b[31m6.3 MB/s\u001b[0m eta \u001b[36m0:00:00\u001b[0m\n",
            "\u001b[?25hRequirement already satisfied: matplotlib in /usr/local/lib/python3.10/dist-packages (from captum) (3.7.1)\n",
            "Requirement already satisfied: numpy in /usr/local/lib/python3.10/dist-packages (from captum) (1.25.2)\n",
            "Requirement already satisfied: torch>=1.6 in /usr/local/lib/python3.10/dist-packages (from captum) (2.2.1+cu121)\n",
            "Requirement already satisfied: tqdm in /usr/local/lib/python3.10/dist-packages (from captum) (4.66.4)\n",
            "Requirement already satisfied: filelock in /usr/local/lib/python3.10/dist-packages (from torch>=1.6->captum) (3.14.0)\n",
            "Requirement already satisfied: typing-extensions>=4.8.0 in /usr/local/lib/python3.10/dist-packages (from torch>=1.6->captum) (4.11.0)\n",
            "Requirement already satisfied: sympy in /usr/local/lib/python3.10/dist-packages (from torch>=1.6->captum) (1.12)\n",
            "Requirement already satisfied: networkx in /usr/local/lib/python3.10/dist-packages (from torch>=1.6->captum) (3.3)\n",
            "Requirement already satisfied: jinja2 in /usr/local/lib/python3.10/dist-packages (from torch>=1.6->captum) (3.1.3)\n",
            "Requirement already satisfied: fsspec in /usr/local/lib/python3.10/dist-packages (from torch>=1.6->captum) (2023.6.0)\n",
            "Requirement already satisfied: nvidia-cuda-nvrtc-cu12==12.1.105 in /usr/local/lib/python3.10/dist-packages (from torch>=1.6->captum) (12.1.105)\n",
            "Requirement already satisfied: nvidia-cuda-runtime-cu12==12.1.105 in /usr/local/lib/python3.10/dist-packages (from torch>=1.6->captum) (12.1.105)\n",
            "Requirement already satisfied: nvidia-cuda-cupti-cu12==12.1.105 in /usr/local/lib/python3.10/dist-packages (from torch>=1.6->captum) (12.1.105)\n",
            "Requirement already satisfied: nvidia-cudnn-cu12==8.9.2.26 in /usr/local/lib/python3.10/dist-packages (from torch>=1.6->captum) (8.9.2.26)\n",
            "Requirement already satisfied: nvidia-cublas-cu12==12.1.3.1 in /usr/local/lib/python3.10/dist-packages (from torch>=1.6->captum) (12.1.3.1)\n",
            "Requirement already satisfied: nvidia-cufft-cu12==11.0.2.54 in /usr/local/lib/python3.10/dist-packages (from torch>=1.6->captum) (11.0.2.54)\n",
            "Requirement already satisfied: nvidia-curand-cu12==10.3.2.106 in /usr/local/lib/python3.10/dist-packages (from torch>=1.6->captum) (10.3.2.106)\n",
            "Requirement already satisfied: nvidia-cusolver-cu12==11.4.5.107 in /usr/local/lib/python3.10/dist-packages (from torch>=1.6->captum) (11.4.5.107)\n",
            "Requirement already satisfied: nvidia-cusparse-cu12==12.1.0.106 in /usr/local/lib/python3.10/dist-packages (from torch>=1.6->captum) (12.1.0.106)\n",
            "Requirement already satisfied: nvidia-nccl-cu12==2.19.3 in /usr/local/lib/python3.10/dist-packages (from torch>=1.6->captum) (2.19.3)\n",
            "Requirement already satisfied: nvidia-nvtx-cu12==12.1.105 in /usr/local/lib/python3.10/dist-packages (from torch>=1.6->captum) (12.1.105)\n",
            "Requirement already satisfied: triton==2.2.0 in /usr/local/lib/python3.10/dist-packages (from torch>=1.6->captum) (2.2.0)\n",
            "Requirement already satisfied: nvidia-nvjitlink-cu12 in /usr/local/lib/python3.10/dist-packages (from nvidia-cusolver-cu12==11.4.5.107->torch>=1.6->captum) (12.4.127)\n",
            "Requirement already satisfied: contourpy>=1.0.1 in /usr/local/lib/python3.10/dist-packages (from matplotlib->captum) (1.2.1)\n",
            "Requirement already satisfied: cycler>=0.10 in /usr/local/lib/python3.10/dist-packages (from matplotlib->captum) (0.12.1)\n",
            "Requirement already satisfied: fonttools>=4.22.0 in /usr/local/lib/python3.10/dist-packages (from matplotlib->captum) (4.51.0)\n",
            "Requirement already satisfied: kiwisolver>=1.0.1 in /usr/local/lib/python3.10/dist-packages (from matplotlib->captum) (1.4.5)\n",
            "Requirement already satisfied: packaging>=20.0 in /usr/local/lib/python3.10/dist-packages (from matplotlib->captum) (24.0)\n",
            "Requirement already satisfied: pillow>=6.2.0 in /usr/local/lib/python3.10/dist-packages (from matplotlib->captum) (9.4.0)\n",
            "Requirement already satisfied: pyparsing>=2.3.1 in /usr/local/lib/python3.10/dist-packages (from matplotlib->captum) (3.1.2)\n",
            "Requirement already satisfied: python-dateutil>=2.7 in /usr/local/lib/python3.10/dist-packages (from matplotlib->captum) (2.8.2)\n",
            "Requirement already satisfied: six>=1.5 in /usr/local/lib/python3.10/dist-packages (from python-dateutil>=2.7->matplotlib->captum) (1.16.0)\n",
            "Requirement already satisfied: MarkupSafe>=2.0 in /usr/local/lib/python3.10/dist-packages (from jinja2->torch>=1.6->captum) (2.1.5)\n",
            "Requirement already satisfied: mpmath>=0.19 in /usr/local/lib/python3.10/dist-packages (from sympy->torch>=1.6->captum) (1.3.0)\n",
            "Installing collected packages: captum\n",
            "Successfully installed captum-0.7.0\n",
            "Collecting arabic_reshaper\n",
            "  Downloading arabic_reshaper-3.0.0-py3-none-any.whl (20 kB)\n",
            "Installing collected packages: arabic_reshaper\n",
            "Successfully installed arabic_reshaper-3.0.0\n",
            "Collecting python-bidi\n",
            "  Downloading python_bidi-0.4.2-py2.py3-none-any.whl (30 kB)\n",
            "Requirement already satisfied: six in /usr/local/lib/python3.10/dist-packages (from python-bidi) (1.16.0)\n",
            "Installing collected packages: python-bidi\n",
            "Successfully installed python-bidi-0.4.2\n",
            "Collecting annoy\n",
            "  Downloading annoy-1.17.3.tar.gz (647 kB)\n",
            "\u001b[2K     \u001b[90m━━━━━━━━━━━━━━━━━━━━━━━━━━━━━━━━━━━━━━━━\u001b[0m \u001b[32m647.5/647.5 kB\u001b[0m \u001b[31m3.8 MB/s\u001b[0m eta \u001b[36m0:00:00\u001b[0m\n",
            "\u001b[?25h  Preparing metadata (setup.py) ... \u001b[?25l\u001b[?25hdone\n",
            "Building wheels for collected packages: annoy\n",
            "  Building wheel for annoy (setup.py) ... \u001b[?25l\u001b[?25hdone\n",
            "  Created wheel for annoy: filename=annoy-1.17.3-cp310-cp310-linux_x86_64.whl size=552401 sha256=e26f1a2a29367af9c17bab026d03318a698027ece8a415e53aab6b5fe176ef9f\n",
            "  Stored in directory: /root/.cache/pip/wheels/64/8a/da/f714bcf46c5efdcfcac0559e63370c21abe961c48e3992465a\n",
            "Successfully built annoy\n",
            "Installing collected packages: annoy\n",
            "Successfully installed annoy-1.17.3\n"
          ]
        }
      ],
      "source": [
        "!pip install -U transformers\n",
        "!pip install -U sentencepiece\n",
        "!pip install -U accelerate\n",
        "!pip install -U datasets\n",
        "!pip install -U evaluate\n",
        "!pip install Keras-Preprocessing\n",
        "!pip install demoji\n",
        "!pip install captum\n",
        "!pip install arabic_reshaper\n",
        "!pip install python-bidi\n",
        "!pip install annoy"
      ]
    },
    {
      "cell_type": "markdown",
      "metadata": {
        "id": "PUpQhUhKNi2d"
      },
      "source": [
        ">### **1.3. Set random seeds**"
      ]
    },
    {
      "cell_type": "code",
      "execution_count": null,
      "metadata": {
        "id": "adBg72RNNweM"
      },
      "outputs": [],
      "source": [
        "import os\n",
        "import numpy as np\n",
        "import torch\n",
        "\n",
        "os.environ['PYTHONHASHSEED'] = str(0)\n",
        "\n",
        "RANDOM_SEED = 1381994\n",
        "\n",
        "torch.manual_seed(RANDOM_SEED)\n",
        "np.random.seed(RANDOM_SEED)\n",
        "\n",
        "from tensorflow import keras\n",
        "keras.utils.set_random_seed(RANDOM_SEED)\n",
        "\n",
        "import tensorflow as tf\n",
        "from keras import backend as K\n",
        "\n",
        "session_conf = tf.compat.v1.ConfigProto(intra_op_parallelism_threads = 1,\n",
        "                                        inter_op_parallelism_threads = 1)\n",
        "sess = tf.compat.v1.Session(graph = tf.compat.v1.get_default_graph(),\n",
        "                            config = session_conf)\n",
        "tf.compat.v1.keras.backend.set_session(sess)"
      ]
    },
    {
      "cell_type": "markdown",
      "metadata": {
        "id": "AiaKTY5lNTzb"
      },
      "source": [
        ">### **1.4. Import core packages**"
      ]
    },
    {
      "cell_type": "code",
      "execution_count": null,
      "metadata": {
        "id": "vtnQWgnRNTKF"
      },
      "outputs": [],
      "source": [
        "import pandas as pd\n",
        "import copy\n",
        "import pickle\n",
        "import random\n",
        "from tqdm.notebook import tqdm_notebook\n",
        "\n",
        "from datasets import Dataset, DatasetDict, load_metric\n",
        "from torch.utils.data import DataLoader\n",
        "\n",
        "from transformers import (\n",
        "    BertTokenizerFast,\n",
        "    BertModel,\n",
        "    BertForSequenceClassification,\n",
        "    DataCollatorWithPadding,\n",
        "    TrainingArguments,\n",
        "    Trainer\n",
        ")\n",
        "\n",
        "import evaluate\n",
        "\n",
        "from captum.attr import visualization as capviz\n",
        "from captum.attr._utils.visualization import VisualizationDataRecord\n",
        "from captum.attr import LayerIntegratedGradients\n",
        "\n",
        "import seaborn as sns\n",
        "import matplotlib.pyplot as plt\n",
        "import arabic_reshaper\n",
        "from bidi.algorithm import get_display\n",
        "\n",
        "# Module for creating Word Clouds\n",
        "from wordcloud import WordCloud\n",
        "\n",
        "# Garbage Collection module (for clearing GPU memory)\n",
        "import gc\n",
        "\n",
        "# Modules for type hinting\n",
        "from transformers.tokenization_utils_base import BatchEncoding\n",
        "from collections.abc import Iterable\n",
        "from torch import Tensor\n",
        "from IPython.core.display import HTML\n",
        "\n",
        "# Adding tqdm progress bars to pandas\n",
        "tqdm_notebook.pandas()\n",
        "pd.options.mode.chained_assignment = None  # default='warn'\n",
        "\n",
        "%matplotlib inline"
      ]
    },
    {
      "cell_type": "markdown",
      "metadata": {
        "id": "b0UzrPejJRa0"
      },
      "source": [
        "## **2. Dataset Preparation**\n",
        "---"
      ]
    },
    {
      "cell_type": "markdown",
      "metadata": {
        "id": "-Kk8emkBWvQI"
      },
      "source": [
        ">### **2.1. Load baseline datasets**"
      ]
    },
    {
      "cell_type": "code",
      "execution_count": null,
      "metadata": {
        "id": "utU8CLcaW0SL"
      },
      "outputs": [],
      "source": [
        "import csv\n",
        "from sklearn.model_selection import StratifiedShuffleSplit\n",
        "\n",
        "def load_dataset(dataset_name):\n",
        "    DS = dataset_name.upper()\n",
        "\n",
        "    if DS == \"OSACT\":\n",
        "        osact_train = pd.read_csv(\n",
        "            f\"{DATASETS_PATH}/{DS}/OSACT2022-sharedTask-train.txt\",\n",
        "            delimiter = \"\\t\",\n",
        "            quoting = csv.QUOTE_NONE,\n",
        "            header = None,\n",
        "            names = [\"id\", \"tweet_text\", \"OFF_label\", \"HS_label\",\n",
        "                     \"Vulgar_label\", \"Violence_label\"],\n",
        "            index_col = 0\n",
        "        )\n",
        "        osact_dev = pd.read_csv(\n",
        "            f\"{DATASETS_PATH}/{DS}/OSACT2022-sharedTask-dev.txt\",\n",
        "            delimiter = \"\\t\",\n",
        "            quoting = csv.QUOTE_NONE,\n",
        "            header = None,\n",
        "            names = [\"id\", \"tweet_text\", \"OFF_label\", \"HS_label\",\n",
        "                     \"Vulgar_label\", \"Violence_label\"],\n",
        "            index_col = 0\n",
        "        )\n",
        "        osact_test = pd.read_csv(\n",
        "            f\"{DATASETS_PATH}/{DS}/OSACT2022-sharedTask-test-tweets.txt\",\n",
        "            delimiter = \"\\t\",\n",
        "            quoting = csv.QUOTE_NONE,\n",
        "            header = None,\n",
        "            names=[\"id\", \"tweet_text\"],\n",
        "            index_col = 0\n",
        "        )\n",
        "\n",
        "        taskA_labels = pd.read_csv(\n",
        "            f\"{DATASETS_PATH}/{DS}/OSACT2022-sharedTask-test-taskA-gold-labels.txt\",\n",
        "            delimiter = \"\\t\",\n",
        "            quoting = csv.QUOTE_NONE,\n",
        "            header = None\n",
        "        )\n",
        "        taskB_labels = pd.read_csv(\n",
        "            f\"{DATASETS_PATH}/{DS}/OSACT2022-sharedTask-test-taskB-gold-labels.txt\",\n",
        "            delimiter = \"\\t\",\n",
        "            quoting = csv.QUOTE_NONE,\n",
        "            header = None\n",
        "        )\n",
        "        taskC_labels = pd.read_csv(\n",
        "            f\"{DATASETS_PATH}/{DS}/OSACT2022-sharedTask-test-taskC-gold-labels.txt\",\n",
        "            delimiter = \"\\t\",\n",
        "            quoting = csv.QUOTE_NONE,\n",
        "            header = None\n",
        "        )\n",
        "\n",
        "        taskA_labels.index = osact_test.index\n",
        "        taskB_labels.index = osact_test.index\n",
        "        taskC_labels.index = osact_test.index\n",
        "\n",
        "        osact_test['taskA_label'] = taskA_labels\n",
        "        osact_test['taskB_label'] = taskB_labels\n",
        "        osact_test['taskC_label'] = taskC_labels\n",
        "\n",
        "        osact_train = osact_train[['tweet_text', 'HS_label']].rename(\n",
        "            columns={'tweet_text': 'text', 'HS_label': 'label'})\n",
        "        osact_dev = osact_dev[['tweet_text', 'HS_label']].rename(\n",
        "            columns={'tweet_text': 'text', 'HS_label': 'label'})\n",
        "        osact_test = osact_test[['tweet_text', 'taskB_label']].rename(\n",
        "            columns={'tweet_text': 'text', 'taskB_label': 'label'})\n",
        "\n",
        "        # Renaming all fine-grained HS labels to HS\n",
        "        osact_train.loc[osact_train['label'] != 'NOT_HS', 'label'] = 'HS'\n",
        "        osact_dev.loc[osact_dev['label'] != 'NOT_HS', 'label'] = 'HS'\n",
        "\n",
        "        return osact_train, osact_dev, osact_test\n",
        "\n",
        "    elif (DS == \"LHSAB\") | (DS == \"THSAB\"):\n",
        "        if DS == \"LHSAB\":\n",
        "            hsab = pd.read_excel(\n",
        "                f\"{DATASETS_PATH}/{DS}/L-HSAB-clean.xlsx\",\n",
        "                sheet_name=\"Tweets\"\n",
        "            )\n",
        "        elif DS == \"THSAB\":\n",
        "            hsab = pd.read_excel(\n",
        "                f\"{DATASETS_PATH}/{DS}/T-HSAB.xlsx\"\n",
        "            )\n",
        "\n",
        "        # Create a boolean mask to filter rows with 'normal' and 'hate' in the 'Class' column\n",
        "        class_mask = (hsab['Class'] == 'normal') | (hsab['Class'] == 'hate')\n",
        "        hsab_binary = hsab[class_mask].sample(frac=1, random_state=RANDOM_SEED)\n",
        "\n",
        "        # Specifiy features and labels\n",
        "        X = hsab_binary['Tweet']  # Features\n",
        "        y = hsab_binary['Class']  # Labels\n",
        "\n",
        "        # Initialize StratifiedShuffleSplit with a 70/30 split\n",
        "        sss = StratifiedShuffleSplit(n_splits=1, test_size=0.3, random_state=RANDOM_SEED)\n",
        "\n",
        "        # Split the data into train, validation, and test indices\n",
        "        for train_index, temp_index in sss.split(X, y):\n",
        "            X_train, X_temp = X.iloc[train_index], X.iloc[temp_index]\n",
        "            y_train, y_temp = y.iloc[train_index], y.iloc[temp_index]\n",
        "\n",
        "        # Initialize another StratifiedShuffleSplit for the validation and test split\n",
        "        sss = StratifiedShuffleSplit(n_splits=1, test_size=0.67, random_state=RANDOM_SEED)\n",
        "\n",
        "        # Split the temp data into validation and test indices\n",
        "        for valid_index, test_index in sss.split(X_temp, y_temp):\n",
        "            X_valid, X_test = X_temp.iloc[valid_index], X_temp.iloc[test_index]\n",
        "            y_valid, y_test = y_temp.iloc[valid_index], y_temp.iloc[test_index]\n",
        "\n",
        "        hsab_train = pd.DataFrame({'text': X_train, 'label': y_train})\n",
        "        hsab_dev = pd.DataFrame({'text': X_valid, 'label': y_valid})\n",
        "        hsab_test = pd.DataFrame({'text': X_test, 'label': y_test})\n",
        "\n",
        "        # Renaming all labels to be consistent with OSACT labels\n",
        "        hsab_train.loc[hsab_train['label'] == 'normal', 'label'] = 'NOT_HS'\n",
        "        hsab_train.loc[hsab_train['label'] == 'hate', 'label'] = 'HS'\n",
        "\n",
        "        hsab_dev.loc[hsab_dev['label'] == 'normal', 'label'] = 'NOT_HS'\n",
        "        hsab_dev.loc[hsab_dev['label'] == 'hate', 'label'] = 'HS'\n",
        "\n",
        "        hsab_test.loc[hsab_test['label'] == 'normal', 'label'] = 'NOT_HS'\n",
        "        hsab_test.loc[hsab_test['label'] == 'hate', 'label'] = 'HS'\n",
        "        return hsab_train, hsab_dev, hsab_test"
      ]
    },
    {
      "cell_type": "code",
      "execution_count": null,
      "metadata": {
        "colab": {
          "base_uri": "https://localhost:8080/"
        },
        "id": "coSMWp0JqC1T",
        "outputId": "ab15d068-ca87-4100-8503-8ca7550187e0"
      },
      "outputs": [
        {
          "output_type": "stream",
          "name": "stdout",
          "text": [
            "Baseline Train size: (2820, 2)\n",
            "Baseline Dev size: (398, 2)\n",
            "Baseline Test size: (811, 2)\n"
          ]
        }
      ],
      "source": [
        "DS_NAME = \"LHSAB\"\n",
        "baseline_train, baseline_dev, baseline_test = load_dataset(DS_NAME)\n",
        "print(f\"Baseline Train size: {baseline_train.shape}\")\n",
        "print(f\"Baseline Dev size: {baseline_dev.shape}\")\n",
        "print(f\"Baseline Test size: {baseline_test.shape}\")"
      ]
    },
    {
      "cell_type": "markdown",
      "metadata": {
        "id": "W-RiefXonEb1"
      },
      "source": [
        ">### **2.2. Encode & Explore labels**"
      ]
    },
    {
      "cell_type": "code",
      "execution_count": null,
      "metadata": {
        "colab": {
          "base_uri": "https://localhost:8080/"
        },
        "id": "KQ2FAw2bJ-U6",
        "outputId": "152eeb89-38f5-4fe5-c40d-4b4f02655d71"
      },
      "outputs": [
        {
          "output_type": "execute_result",
          "data": {
            "text/plain": [
              "2802"
            ]
          },
          "metadata": {},
          "execution_count": 61
        }
      ],
      "source": [
        "# Encode labels\n",
        "NOTHATE_LABEL = 0\n",
        "HATE_LABEL = 1\n",
        "\n",
        "# Mapping between label and id (to be used later when loading model)\n",
        "id2label = {NOTHATE_LABEL: \"NOT_HS\", HATE_LABEL: \"HS\"}\n",
        "label2id = {\"NOT_HS\": NOTHATE_LABEL, \"HS\": HATE_LABEL}\n",
        "\n",
        "baseline_train['label'] = baseline_train['label'].replace(\n",
        "    ('NOT_HS', 'HS'), (NOTHATE_LABEL, HATE_LABEL))\n",
        "baseline_dev['label'] = baseline_dev['label'].replace(\n",
        "    ('NOT_HS', 'HS'), (NOTHATE_LABEL, HATE_LABEL))\n",
        "baseline_test['label'] = baseline_test['label'].replace(\n",
        "    ('NOT_HS', 'HS'), (NOTHATE_LABEL, HATE_LABEL))\n",
        "\n",
        "# Remove tweets less than 2 words\n",
        "baseline_train = baseline_train[baseline_train['text'].str.split().str.len().gt(1)]\n",
        "\n",
        "baseline_train.shape[0]"
      ]
    },
    {
      "cell_type": "code",
      "execution_count": null,
      "metadata": {
        "colab": {
          "base_uri": "https://localhost:8080/"
        },
        "id": "VJqIr0c3ZkY_",
        "outputId": "33685708-734c-4968-9fda-3ca3a3ddd126"
      },
      "outputs": [
        {
          "output_type": "execute_result",
          "data": {
            "text/plain": [
              "label\n",
              "0    2478\n",
              "1     324\n",
              "Name: count, dtype: int64"
            ]
          },
          "metadata": {},
          "execution_count": 62
        }
      ],
      "source": [
        "baseline_train['label'].value_counts()"
      ]
    },
    {
      "cell_type": "code",
      "execution_count": null,
      "metadata": {
        "colab": {
          "base_uri": "https://localhost:8080/"
        },
        "id": "KkiFJkZ0_gjk",
        "outputId": "12422b6d-b6d4-4782-8138-a74eeeaed935"
      },
      "outputs": [
        {
          "output_type": "execute_result",
          "data": {
            "text/plain": [
              "label\n",
              "0    718\n",
              "1     93\n",
              "Name: count, dtype: int64"
            ]
          },
          "metadata": {},
          "execution_count": 63
        }
      ],
      "source": [
        "baseline_test['label'].value_counts()"
      ]
    },
    {
      "cell_type": "code",
      "execution_count": null,
      "metadata": {
        "colab": {
          "base_uri": "https://localhost:8080/"
        },
        "id": "ZNNayvF8Y01T",
        "outputId": "91b33262-9a3a-4a42-fbcc-fc735dffd039"
      },
      "outputs": [
        {
          "output_type": "stream",
          "name": "stdout",
          "text": [
            "Baseline hate size: 324\n",
            "Baseline non-hate size: 2478\n"
          ]
        }
      ],
      "source": [
        "# Extract Hate tweets for augmentation\n",
        "baseline_hate = baseline_train.loc[baseline_train['label'] == HATE_LABEL]\n",
        "print(f\"Baseline hate size: {baseline_hate.shape[0]}\")\n",
        "\n",
        "# Extract Non-Hate tweets\n",
        "baseline_non_hate = baseline_train.loc[baseline_train['label'] == NOTHATE_LABEL]\n",
        "print(f\"Baseline non-hate size: {baseline_non_hate.shape[0]}\")"
      ]
    },
    {
      "cell_type": "code",
      "execution_count": null,
      "metadata": {
        "colab": {
          "base_uri": "https://localhost:8080/"
        },
        "id": "PGupFVR_tPet",
        "outputId": "f18df0a0-c4be-4ee6-8bdf-4a29547e8a28"
      },
      "outputs": [
        {
          "output_type": "execute_result",
          "data": {
            "text/plain": [
              "(2802, 2)"
            ]
          },
          "metadata": {},
          "execution_count": 65
        }
      ],
      "source": [
        "baseline_train.shape"
      ]
    },
    {
      "cell_type": "markdown",
      "metadata": {
        "id": "On7vqmb6gKUT"
      },
      "source": [
        "## **3. Model Fine-Tuning**\n",
        "---"
      ]
    },
    {
      "cell_type": "markdown",
      "metadata": {
        "id": "YNQ15tr8sNMc"
      },
      "source": [
        ">### **3.1. Create DatasetDict Object**"
      ]
    },
    {
      "cell_type": "code",
      "execution_count": null,
      "metadata": {
        "colab": {
          "base_uri": "https://localhost:8080/"
        },
        "id": "4x7ejMqqqMhX",
        "outputId": "2be8c312-7cd6-4ec9-db2c-4f151373bbfd"
      },
      "outputs": [
        {
          "output_type": "execute_result",
          "data": {
            "text/plain": [
              "DatasetDict({\n",
              "    train: Dataset({\n",
              "        features: ['text', 'label'],\n",
              "        num_rows: 2802\n",
              "    })\n",
              "    validation: Dataset({\n",
              "        features: ['text', 'label'],\n",
              "        num_rows: 398\n",
              "    })\n",
              "    test: Dataset({\n",
              "        features: ['text', 'label'],\n",
              "        num_rows: 811\n",
              "    })\n",
              "})"
            ]
          },
          "metadata": {},
          "execution_count": 99
        }
      ],
      "source": [
        "dataset = DatasetDict({\"train\": Dataset.from_dict(baseline_train),\n",
        "                       \"validation\": Dataset.from_dict(baseline_dev),\n",
        "                       \"test\": Dataset.from_dict(baseline_test)})\n",
        "dataset"
      ]
    },
    {
      "cell_type": "markdown",
      "metadata": {
        "id": "SDnOa3ZIArW5"
      },
      "source": [
        ">### **3.2. Tokenize Dataset**"
      ]
    },
    {
      "cell_type": "code",
      "execution_count": null,
      "metadata": {
        "id": "KNwhrrLxCZ1p",
        "colab": {
          "base_uri": "https://localhost:8080/"
        },
        "outputId": "459bcab5-4fdc-4f31-9514-0d4f50b0d020"
      },
      "outputs": [
        {
          "output_type": "stream",
          "name": "stderr",
          "text": [
            "/usr/local/lib/python3.10/dist-packages/huggingface_hub/file_download.py:1132: FutureWarning: `resume_download` is deprecated and will be removed in version 1.0.0. Downloads always resume when possible. If you want to force a new download, use `force_download=True`.\n",
            "  warnings.warn(\n"
          ]
        }
      ],
      "source": [
        "checkpoint = \"UBC-NLP/MARBERT\"\n",
        "tokenizer = BertTokenizerFast.from_pretrained(checkpoint)"
      ]
    },
    {
      "cell_type": "code",
      "execution_count": null,
      "metadata": {
        "id": "z0aHCaANrY5Q"
      },
      "outputs": [],
      "source": [
        "MAX_LENGTH = 64\n",
        "\n",
        "def tokenize_text(example):\n",
        "    model_inputs = tokenizer(\n",
        "        text = example['text'],\n",
        "        max_length = MAX_LENGTH,\n",
        "        truncation = True\n",
        "    )\n",
        "\n",
        "    return model_inputs"
      ]
    },
    {
      "cell_type": "code",
      "execution_count": null,
      "metadata": {
        "colab": {
          "base_uri": "https://localhost:8080/",
          "referenced_widgets": [
            "7ca56bb5322a43599a734c61bfdd937e",
            "e1d17ef9ec1a43f7a4f6ba3a3e096f9d",
            "f7e99d2c546a4b769eaefc6a52164711",
            "8b73b997721c48a1a2a0d642f2eaa5ee",
            "a1738a741622448ea23f6bf718c89260",
            "ac9491f5555d44c8bad0b43d30b26783",
            "023496fb251a4bc28a692e7b961c185b",
            "911dc8aa03bb4e13acf9076b4a256f10",
            "91f1035a8bbb42e9be0b5af05f51995e",
            "eb7af122f34d444da47740f25a88937c",
            "eae30228343542d2bd48387620e4986b",
            "e650d117e645474d8c91399f29aa6b26",
            "78fc13af2a2e4753bf93e6adcd9ad9c0",
            "e378f3b850284d9dafeb98c2b4afeb62",
            "d53f1d406c594ffd90e62fedc32ce297",
            "fe2efc1d8b42421297c5a80a62bf0669",
            "3bc3e4dc9ed3470aba13574f5a71e755",
            "5e3e1d277adb45c59d48ded6c55cd775",
            "281d5252b6724cf087123659f112e033",
            "6041d1f6ea6241faacc01062569dc7b8",
            "92098d409e0e44bda9c340a6f4987cb5",
            "94c71f41253847a0bb2d3f2ebf94f0d8",
            "8416291cffb04d808e95d2fb2d678aae",
            "3b428a73e51f4bf8a78485d357d05fb8",
            "2f8abe464c294b1aa0e74b3631d8d9e9",
            "a01cb10567bf48319d131bb2d6569e6e",
            "21a0661d1cde466bb45c5d3e38c8c63d",
            "db74ae3f9e36433c8d5c5d23be36ba5e",
            "9c0006bb202047e3b129e1668a1721af",
            "ef86ac8aa1ed47978069b9738c6a4922",
            "75944fe2795740e59a6cbb0509e6c99c",
            "8cde6f068ba74ad9a124619fdb23d50c",
            "d2a56185d7e2403f89b363452e432d26"
          ]
        },
        "id": "le1AUsKureQp",
        "outputId": "7fa31aaa-97ec-48a4-e54a-554a394d337b"
      },
      "outputs": [
        {
          "output_type": "display_data",
          "data": {
            "text/plain": [
              "Tokenizing dataset:   0%|          | 0/2802 [00:00<?, ? examples/s]"
            ],
            "application/vnd.jupyter.widget-view+json": {
              "version_major": 2,
              "version_minor": 0,
              "model_id": "7ca56bb5322a43599a734c61bfdd937e"
            }
          },
          "metadata": {}
        },
        {
          "output_type": "display_data",
          "data": {
            "text/plain": [
              "Tokenizing dataset:   0%|          | 0/398 [00:00<?, ? examples/s]"
            ],
            "application/vnd.jupyter.widget-view+json": {
              "version_major": 2,
              "version_minor": 0,
              "model_id": "e650d117e645474d8c91399f29aa6b26"
            }
          },
          "metadata": {}
        },
        {
          "output_type": "display_data",
          "data": {
            "text/plain": [
              "Tokenizing dataset:   0%|          | 0/811 [00:00<?, ? examples/s]"
            ],
            "application/vnd.jupyter.widget-view+json": {
              "version_major": 2,
              "version_minor": 0,
              "model_id": "8416291cffb04d808e95d2fb2d678aae"
            }
          },
          "metadata": {}
        },
        {
          "output_type": "execute_result",
          "data": {
            "text/plain": [
              "DatasetDict({\n",
              "    train: Dataset({\n",
              "        features: ['text', 'label', 'input_ids', 'token_type_ids', 'attention_mask'],\n",
              "        num_rows: 2802\n",
              "    })\n",
              "    validation: Dataset({\n",
              "        features: ['text', 'label', 'input_ids', 'token_type_ids', 'attention_mask'],\n",
              "        num_rows: 398\n",
              "    })\n",
              "    test: Dataset({\n",
              "        features: ['text', 'label', 'input_ids', 'token_type_ids', 'attention_mask'],\n",
              "        num_rows: 811\n",
              "    })\n",
              "})"
            ]
          },
          "metadata": {},
          "execution_count": 102
        }
      ],
      "source": [
        "original_tokenized_dataset = dataset.map(\n",
        "    tokenize_text,\n",
        "    batched = True,\n",
        "    desc = \"Tokenizing dataset\"\n",
        ")\n",
        "\n",
        "original_tokenized_dataset"
      ]
    },
    {
      "cell_type": "code",
      "execution_count": null,
      "metadata": {
        "id": "eV3E-cHqFR-U"
      },
      "outputs": [],
      "source": [
        "tokenized_dataset = copy.deepcopy(original_tokenized_dataset)"
      ]
    },
    {
      "cell_type": "markdown",
      "metadata": {
        "id": "uctn0QTBZwIf"
      },
      "source": [
        ">### **3.3. Use Attributions**"
      ]
    },
    {
      "cell_type": "markdown",
      "metadata": {
        "id": "LoXrLqVoHWW9"
      },
      "source": [
        ">>#### **3.3.1. Load IG Attributions**\n",
        "\n"
      ]
    },
    {
      "cell_type": "code",
      "execution_count": null,
      "metadata": {
        "id": "8mbDcQ8fRZS4"
      },
      "outputs": [],
      "source": [
        "def load_attributions(name, target_label, norm):\n",
        "    \"\"\"\n",
        "    Load attributions from a file\n",
        "\n",
        "    Arguments:\n",
        "        name: A string, name of the dataset attributions are for. i.e. (OSACT)\n",
        "        target_label: A string, name of the label used to get attributions\n",
        "        norm: A string, normalization method used\n",
        "    Returns:\n",
        "        attributions: A dictionary containing all attribution data\n",
        "    \"\"\"\n",
        "    with open(\n",
        "        f\"{ATTRIBUTIONS_PATH}/{name}/{RANDOM_SEED}/\"\n",
        "        f\"LIG_{name}_TRAIN_{target_label}_{norm}_{RANDOM_SEED}.pkl\",\n",
        "        'rb'\n",
        "    ) as f:\n",
        "        attributions = pickle.load(f)\n",
        "\n",
        "    return attributions"
      ]
    },
    {
      "cell_type": "code",
      "execution_count": null,
      "metadata": {
        "id": "H77-5bT0sMiY"
      },
      "outputs": [],
      "source": [
        "# Attributions of HS Tweets for HS Class\n",
        "train_hs_none = load_attributions(DS_NAME, \"HS\", \"NONE\")\n",
        "train_hs_seq  = load_attributions(DS_NAME, \"HS\", \"SEQ\")"
      ]
    },
    {
      "cell_type": "markdown",
      "metadata": {
        "id": "4WxGqcFg13vI"
      },
      "source": [
        ">>#### **3.3.2. Historam of Attribution Maps**"
      ]
    },
    {
      "cell_type": "markdown",
      "metadata": {
        "id": "HtQvCWHcB82e"
      },
      "source": [
        ">>>##### **3.3.2.1 Training Data - Attributions for HS-Class**"
      ]
    },
    {
      "cell_type": "markdown",
      "metadata": {
        "id": "7uTpgqXT2Koc"
      },
      "source": [
        "###### **HS Tweets**"
      ]
    },
    {
      "cell_type": "code",
      "execution_count": null,
      "metadata": {
        "id": "dla4a3xZsSV0",
        "colab": {
          "base_uri": "https://localhost:8080/",
          "height": 564
        },
        "outputId": "b181e15d-fbad-420f-e4b8-0a8ba4b7f478"
      },
      "outputs": [
        {
          "output_type": "display_data",
          "data": {
            "text/plain": [
              "<Figure size 800x600 with 1 Axes>"
            ],
            "image/png": "[encoded data removed]"
          },
          "metadata": {}
        }
      ],
      "source": [
        "plt.figure(figsize=(8, 6))\n",
        "sns.histplot(\n",
        "    [\n",
        "        info['attribution']\n",
        "        for _, info in train_hs_none['vocab_attributions'].items()\n",
        "    ]\n",
        ")\n",
        "\n",
        "plt.title('Distribution of Attributions for HS (Train - HS - None)')\n",
        "plt.xlabel('Attribution')\n",
        "plt.ylabel('Frequency')\n",
        "plt.grid(True)\n",
        "plt.show()"
      ]
    },
    {
      "cell_type": "code",
      "execution_count": null,
      "metadata": {
        "id": "6aDoKBEO1uUB",
        "colab": {
          "base_uri": "https://localhost:8080/",
          "height": 564
        },
        "outputId": "b09316fa-c246-4f61-b6f2-c04a2247d194"
      },
      "outputs": [
        {
          "output_type": "display_data",
          "data": {
            "text/plain": [
              "<Figure size 800x600 with 1 Axes>"
            ],
            "image/png": "[encoded data removed]"
          },
          "metadata": {}
        }
      ],
      "source": [
        "plt.figure(figsize=(8, 6))\n",
        "sns.histplot(\n",
        "    [\n",
        "        info['attribution']\n",
        "        for _, info in train_hs_seq['vocab_attributions'].items()\n",
        "    ]\n",
        ")\n",
        "plt.title('Distribution of Attributions for HS (Train - HS - Sequence)')\n",
        "plt.xlabel('Attribution')\n",
        "plt.ylabel('Frequency')\n",
        "plt.grid(True)\n",
        "plt.show()"
      ]
    },
    {
      "cell_type": "markdown",
      "metadata": {
        "id": "3L1HltqL2THB"
      },
      "source": [
        "###### **NHS Tweets**"
      ]
    },
    {
      "cell_type": "code",
      "execution_count": null,
      "metadata": {
        "id": "gp4YOy2o2bQR"
      },
      "outputs": [],
      "source": [
        "plt.figure(figsize=(8, 6))\n",
        "sns.histplot(\n",
        "    [\n",
        "        info['attribution']\n",
        "        for _, info in train_nhs_none['vocab_attributions'].items()\n",
        "    ]\n",
        ")\n",
        "plt.title('Distribution of Attributions for HS (Train - NHS - None)')\n",
        "plt.xlabel('Attribution')\n",
        "plt.ylabel('Frequency')\n",
        "plt.grid(True)\n",
        "plt.show()"
      ]
    },
    {
      "cell_type": "code",
      "execution_count": null,
      "metadata": {
        "id": "1uko6cUL2JZS"
      },
      "outputs": [],
      "source": [
        "plt.figure(figsize=(8, 6))\n",
        "sns.histplot(\n",
        "    [\n",
        "        info['attribution']\n",
        "        for _, info in train_nhs_seq['vocab_attributions'].items()\n",
        "    ]\n",
        ")\n",
        "plt.title('Distribution of Attributions for HS (Train - NHS - Sequence)')\n",
        "plt.xlabel('Attribution')\n",
        "plt.ylabel('Frequency')\n",
        "plt.grid(True)\n",
        "plt.show()"
      ]
    },
    {
      "cell_type": "code",
      "execution_count": null,
      "metadata": {
        "id": "nIeSchtY2dLS"
      },
      "outputs": [],
      "source": [
        "plt.figure(figsize=(8, 6))\n",
        "sns.histplot(\n",
        "    [\n",
        "        info['attribution']\n",
        "        for _, info in train_nhs_ds['vocab_attributions'].items()\n",
        "    ]\n",
        ")\n",
        "plt.title('Distribution of Attributions for HS (Train - NHS - Dataset)')\n",
        "plt.xlabel('Attribution')\n",
        "plt.ylabel('Frequency')\n",
        "plt.grid(True)\n",
        "plt.show()"
      ]
    },
    {
      "cell_type": "markdown",
      "metadata": {
        "id": "MpoM2_JuCRS2"
      },
      "source": [
        ">>>##### **3.3.2.2 Training Data - Attributions for NHS-Class**"
      ]
    },
    {
      "cell_type": "markdown",
      "metadata": {
        "id": "1Eu6cH6HCRS2"
      },
      "source": [
        "###### **HS Tweets**"
      ]
    },
    {
      "cell_type": "code",
      "execution_count": null,
      "metadata": {
        "id": "mtbrmnfzCRS2"
      },
      "outputs": [],
      "source": [
        "plt.figure(figsize=(8, 6))\n",
        "sns.histplot(\n",
        "    [\n",
        "        info['attribution']\n",
        "        for _, info in train_hs_nhs_none['vocab_attributions'].items()\n",
        "    ]\n",
        ")\n",
        "\n",
        "plt.title('Distribution of Attributions for NHS (Train - HS - None)')\n",
        "plt.xlabel('Attribution')\n",
        "plt.ylabel('Frequency')\n",
        "plt.grid(True)\n",
        "plt.show()"
      ]
    },
    {
      "cell_type": "code",
      "execution_count": null,
      "metadata": {
        "id": "YCCPNa0bCRS3"
      },
      "outputs": [],
      "source": [
        "plt.figure(figsize=(8, 6))\n",
        "sns.histplot(\n",
        "    [\n",
        "        info['attribution']\n",
        "        for _, info in train_hs_nhs_seq['vocab_attributions'].items()\n",
        "    ]\n",
        ")\n",
        "plt.title('Distribution of Attributions for NHS (Train - HS - Sequence)')\n",
        "plt.xlabel('Attribution')\n",
        "plt.ylabel('Frequency')\n",
        "plt.grid(True)\n",
        "plt.show()"
      ]
    },
    {
      "cell_type": "code",
      "execution_count": null,
      "metadata": {
        "id": "q68UJcG4CRS3"
      },
      "outputs": [],
      "source": [
        "plt.figure(figsize=(8, 6))\n",
        "sns.histplot(\n",
        "    [\n",
        "        info['attribution']\n",
        "        for _, info in train_hs_nhs_ds['vocab_attributions'].items()\n",
        "    ]\n",
        ")\n",
        "plt.title('Distribution of Attributions for NHS (Train - HS - Dataset)')\n",
        "plt.xlabel('Attribution')\n",
        "plt.ylabel('Frequency')\n",
        "plt.grid(True)\n",
        "plt.show()"
      ]
    },
    {
      "cell_type": "markdown",
      "metadata": {
        "id": "h5Z_MQycCRS3"
      },
      "source": [
        "###### **NHS Tweets**"
      ]
    },
    {
      "cell_type": "code",
      "execution_count": null,
      "metadata": {
        "id": "mY5EbDJdCRS3"
      },
      "outputs": [],
      "source": [
        "plt.figure(figsize=(8, 6))\n",
        "sns.histplot(\n",
        "    [\n",
        "        info['attribution']\n",
        "        for _, info in train_nhs_nhs_none['vocab_attributions'].items()\n",
        "    ]\n",
        ")\n",
        "plt.title('Distribution of Attributions for NHS (Train - NHS - None)')\n",
        "plt.xlabel('Attribution')\n",
        "plt.ylabel('Frequency')\n",
        "plt.grid(True)\n",
        "plt.show()"
      ]
    },
    {
      "cell_type": "code",
      "execution_count": null,
      "metadata": {
        "id": "PxeUXQ5QCRS4"
      },
      "outputs": [],
      "source": [
        "plt.figure(figsize=(8, 6))\n",
        "sns.histplot(\n",
        "    [\n",
        "        info['attribution']\n",
        "        for _, info in train_nhs_nhs_seq['vocab_attributions'].items()\n",
        "    ]\n",
        ")\n",
        "plt.title('Distribution of Attributions for NHS (Train - NHS - Sequence)')\n",
        "plt.xlabel('Attribution')\n",
        "plt.ylabel('Frequency')\n",
        "plt.grid(True)\n",
        "plt.show()"
      ]
    },
    {
      "cell_type": "code",
      "execution_count": null,
      "metadata": {
        "id": "ALmN_m3lCRS4"
      },
      "outputs": [],
      "source": [
        "plt.figure(figsize=(8, 6))\n",
        "sns.histplot(\n",
        "    [\n",
        "        info['attribution']\n",
        "        for _, info in train_nhs_nhs_ds['vocab_attributions'].items()\n",
        "    ]\n",
        ")\n",
        "plt.title('Distribution of Attributions for NHS (Train - NHS - Dataset)')\n",
        "plt.xlabel('Attribution')\n",
        "plt.ylabel('Frequency')\n",
        "plt.grid(True)\n",
        "plt.show()"
      ]
    },
    {
      "cell_type": "markdown",
      "metadata": {
        "id": "k4tVPPHK2g3J"
      },
      "source": [
        ">>#### **3.3.3. Change Token Values**"
      ]
    },
    {
      "cell_type": "markdown",
      "metadata": {
        "id": "_Ltcb4FkIJ0h"
      },
      "source": [
        ">>>##### **3.3.3.1. Helper Functions**"
      ]
    },
    {
      "cell_type": "code",
      "execution_count": null,
      "metadata": {
        "id": "gvUkMWjSICCw"
      },
      "outputs": [],
      "source": [
        "def filter_tokens(data, mode=\"absolute\", value=0.0, top=True):\n",
        "    \"\"\"Filters tokens based on specified mode and value.\n",
        "\n",
        "    Args:\n",
        "        data (dict): Dictionary of tuples, each containing a pair of (token, {attribution, count}).\n",
        "        mode (str, optional): Filtering mode, \"absolute\" or \"percent\". Defaults to \"absolute\".\n",
        "        value (float, optional): Threshold value for filtering. Defaults to 0.0.\n",
        "        top (bool, optional): Whether to filter top or bottom elements. Defaults to True (top).\n",
        "\n",
        "    Returns:\n",
        "        filtered_data: List of filtered tokens.\n",
        "    \"\"\"\n",
        "\n",
        "    # Tokenize words and construct (tokens, attribution) pairs\n",
        "    special_tokens = list(tokenizer.special_tokens_map.values())\n",
        "    tokenized_data = []\n",
        "    for word, info in data.items():\n",
        "        # Skip special tokens\n",
        "        if word not in special_tokens:\n",
        "            tokenized_data.append((word, info['attribution']))\n",
        "\n",
        "    # Sort data by attribution in descending order for efficient filtering\n",
        "    sorted_data = sorted(tokenized_data, key=lambda x: x[1], reverse=True)\n",
        "\n",
        "    filtered_data = []\n",
        "\n",
        "    if mode == \"absolute\":\n",
        "        # Filter based on absolute value comparison\n",
        "        if top:\n",
        "            # Keep tokens with attribution >= value\n",
        "            filtered_data = [\n",
        "                tokens\n",
        "                for tokens, attr in sorted_data\n",
        "                if attr >= value\n",
        "            ]\n",
        "        else:\n",
        "            # Keep tokens with attribution <= value\n",
        "            filtered_data = [\n",
        "                tokens\n",
        "                for tokens, attr in sorted_data\n",
        "                if attr <= value\n",
        "            ]\n",
        "\n",
        "    elif mode == \"percent\":\n",
        "        # Filter based on percentile\n",
        "        if top:\n",
        "            # Calculate number of top elements to keep\n",
        "            num_to_keep = int(0.01 * value * len(sorted_data))\n",
        "            # Keep top percentile of data\n",
        "            filtered_data = [\n",
        "                tokens\n",
        "                for tokens, attr in sorted_data[:num_to_keep]\n",
        "            ]\n",
        "        else:\n",
        "            # Calculate number of bottom elements to keep\n",
        "            num_to_keep = int(0.01 * (100 - value) * len(sorted_data))\n",
        "            # Keep bottom percentile of data\n",
        "            filtered_data = [\n",
        "                tokens\n",
        "                for tokens, attr in sorted_data[num_to_keep:]\n",
        "            ]\n",
        "\n",
        "    return filtered_data"
      ]
    },
    {
      "cell_type": "code",
      "execution_count": null,
      "metadata": {
        "id": "_akt_0XT-xHI"
      },
      "outputs": [],
      "source": [
        "def contains(big, small):\n",
        "    \"\"\"\n",
        "    Checks if list 'big' contains the elements of list 'small' in the same order.\n",
        "\n",
        "    Args:\n",
        "        big: The larger list to search within.\n",
        "        small: The smaller list to search for.\n",
        "\n",
        "    Returns:\n",
        "        A tuple containing the starting and ending indices of 'small' in 'big' if found,\n",
        "        otherwise returns False.\n",
        "    \"\"\"\n",
        "    matches = [] # Store all matching indices\n",
        "\n",
        "    # Iterate through potential starting positions in big\n",
        "    for i in range(len(big) - len(small) + 1):\n",
        "        # Check each element in small against the corresponding element in big\n",
        "        for j in range(len(small)):\n",
        "            # Break if any element mismatches\n",
        "            if big[i + j] != small[j]:\n",
        "                break\n",
        "        # If all elements match, append starting and ending indices\n",
        "        else:\n",
        "            matches.append((i, i + len(small)))\n",
        "\n",
        "    return matches"
      ]
    },
    {
      "cell_type": "code",
      "execution_count": null,
      "metadata": {
        "id": "STIawV1ahcb-"
      },
      "outputs": [],
      "source": [
        "def get_ids(words):\n",
        "    \"\"\"\n",
        "    Convert a list of words to a list of IDs (tokenize then convert to IDs)\n",
        "\n",
        "    Args:\n",
        "        words: A list of strings\n",
        "\n",
        "    Returns:\n",
        "        A list of IDs.\n",
        "    \"\"\"\n",
        "    tokens = [tokenizer.tokenize(word) for word in words]\n",
        "    ids = [tokenizer.convert_tokens_to_ids(token) for token in tokens]\n",
        "    return ids"
      ]
    },
    {
      "cell_type": "code",
      "execution_count": null,
      "metadata": {
        "id": "Kiwzegyrn7mM"
      },
      "outputs": [],
      "source": [
        "def mask_tokens(sample, tokens):\n",
        "    \"\"\"Masks tokens with low attribution values in the sample's attention mask.\n",
        "\n",
        "    Args:\n",
        "        sample (dict): A sample containing 'attention_mask' and other relevant data.\n",
        "        tokens (list): A list of ids of tokens to be masked.\n",
        "\n",
        "    Returns:\n",
        "        dict: The sample with its updated attention mask.\n",
        "    \"\"\"\n",
        "    for token in tokens:\n",
        "        matching_indices = contains(sample['input_ids'], token)\n",
        "        if matching_indices:\n",
        "            if sample['label'] == 1:\n",
        "                print(f\"SAMPLE: {tokenizer.decode(sample['input_ids'])}\")\n",
        "                print(f\"TOKEN: {tokenizer.decode(token)}\")\n",
        "                print(\"------------------------------------------------\")\n",
        "                # print(f\"{tokenizer.decode(sample['input_ids'])}\")\n",
        "        for start, end in matching_indices:\n",
        "            sample['attention_mask'][start:end] = [0] * (end - start)\n",
        "\n",
        "    return sample"
      ]
    },
    {
      "cell_type": "code",
      "execution_count": null,
      "metadata": {
        "id": "WqEK8_26n7mN"
      },
      "outputs": [],
      "source": [
        "def remove_tokens(sample, tokens):\n",
        "    \"\"\"Removes tokens with low attribution values from the sample's input_ids,\n",
        "    token_type_ids, and attention_mask, preserving the original token order.\n",
        "\n",
        "    Args:\n",
        "        sample (dict): A sample containing 'input_ids', 'token_type_ids',\n",
        "                       and 'attention_mask' keys.\n",
        "        tokens (list): A list of ids of token sequences to be removed.\n",
        "\n",
        "    Returns:\n",
        "        dict: The sample with the specified tokens removed.\n",
        "    \"\"\"\n",
        "    sample['old_input_ids'] = copy.deepcopy(sample['input_ids'])\n",
        "    for token in tokens:\n",
        "        # Find start and end indices\n",
        "        matching_indices = contains(sample['input_ids'], token)\n",
        "        # Sort the indices in descending order to avoid overlapping deletions\n",
        "        matching_indices.sort(reverse=True)\n",
        "        if matching_indices:\n",
        "            if sample['label'] == 0:\n",
        "                print(f\"Sample: {tokenizer.decode(sample['input_ids'])}\")\n",
        "                print(f\"Token: {tokenizer.decode(token)}\")\n",
        "                print(\"------------------------------------------------\")\n",
        "        for start, end in matching_indices:\n",
        "            # Remove the tokens\n",
        "            sample['input_ids'] = (\n",
        "                sample['input_ids'][:start]\n",
        "                + sample['input_ids'][end:]\n",
        "            )\n",
        "            sample['token_type_ids'] = (\n",
        "                sample['token_type_ids'][:start]\n",
        "                + sample['token_type_ids'][end:]\n",
        "            )\n",
        "            sample['attention_mask'] = (\n",
        "                sample['attention_mask'][:start]\n",
        "                + sample['attention_mask'][end:]\n",
        "            )\n",
        "\n",
        "    return sample"
      ]
    },
    {
      "cell_type": "code",
      "execution_count": null,
      "metadata": {
        "id": "UeDrHTiyn7mM"
      },
      "outputs": [],
      "source": [
        "def replace_tokens(sample, old_tokens, new_tokens):\n",
        "    \"\"\"\n",
        "    Replaces tokens with low attribution values in a sample with random tokens\n",
        "    from the provided list.\n",
        "\n",
        "    Args:\n",
        "        sample (dict): A sample containing 'input_ids', 'token_type_ids',\n",
        "                       and 'attention_mask' keys.\n",
        "        old_tokens (list): A list of ids of token sequences to be replaced.\n",
        "        new_tokens (list): A list of ids of token sequences to choose from for replacement.\n",
        "\n",
        "    Returns:\n",
        "        dict: The modified sample with replaced tokens.\n",
        "    \"\"\"\n",
        "    sample['old_input_ids'] = copy.deepcopy(sample['input_ids'])\n",
        "    for token in old_tokens:\n",
        "        # Find all occurrences of the current token\n",
        "        matching_indices = contains(sample['input_ids'], token)\n",
        "        # Randomly choose a replacement token\n",
        "        new_token = random.choice(new_tokens)\n",
        "        # Sort the indices in descending order to avoid overlapping\n",
        "        matching_indices.sort(reverse=True)\n",
        "        if matching_indices:\n",
        "            if sample['label'] == 0:\n",
        "                print(f\"SAMPLE: {tokenizer.decode(sample['input_ids'])}\")\n",
        "                print(f\"OLD TOKEN: {tokenizer.decode(token)}\")\n",
        "                print(f\"NEW TOKEN: {tokenizer.decode(new_token)}\")\n",
        "                print(\"------------------------------------------------\")\n",
        "        for start, end in matching_indices:\n",
        "            # Perform Delete/Insert of Old/New tokens respectively\n",
        "            sample['input_ids'] = (\n",
        "                sample['input_ids'][:start]\n",
        "                + new_token\n",
        "                + sample['input_ids'][end:]\n",
        "            )\n",
        "            sample['token_type_ids'] = (\n",
        "                sample['token_type_ids'][:start]\n",
        "                + [0] * len(new_token)\n",
        "                + sample['token_type_ids'][end:]\n",
        "            )\n",
        "            sample['attention_mask'] = (\n",
        "                sample['attention_mask'][:start]\n",
        "                + [1] * len(new_token)\n",
        "                + sample['attention_mask'][end:]\n",
        "            )\n",
        "\n",
        "    return sample"
      ]
    },
    {
      "cell_type": "markdown",
      "metadata": {
        "id": "VrGXayCIIcN-"
      },
      "source": [
        ">>>##### **3.3.3.2. Select Tokens**"
      ]
    },
    {
      "cell_type": "code",
      "execution_count": null,
      "metadata": {
        "id": "oeqDs-gaSEow"
      },
      "outputs": [],
      "source": [
        "attributions_data = copy.deepcopy(train_hs_none['vocab_attributions'])"
      ]
    },
    {
      "cell_type": "code",
      "execution_count": null,
      "metadata": {
        "colab": {
          "base_uri": "https://localhost:8080/"
        },
        "id": "suw1L1eAdxH-",
        "outputId": "d455747b-9a5b-4599-c740-ff469dfa821d"
      },
      "outputs": [
        {
          "output_type": "stream",
          "name": "stdout",
          "text": [
            "Size of negative_tokens: 66\n"
          ]
        }
      ],
      "source": [
        "fake_hs = filter_tokens(attributions_data, top=False)\n",
        "print(f\"Size of negative_tokens: {len(fake_hs)}\")"
      ]
    },
    {
      "cell_type": "code",
      "execution_count": null,
      "metadata": {
        "id": "0VP9Z1PP8Skg"
      },
      "outputs": [],
      "source": [
        "bottom_hs_tokens = filter_tokens(attributions_data, 'percent', 10, False)\n",
        "print(f\"Size of bottom_hs_tokens: {len(bottom_hs_tokens)}\")"
      ]
    },
    {
      "cell_type": "code",
      "execution_count": null,
      "metadata": {
        "id": "Bez6kJcJn7mN"
      },
      "outputs": [],
      "source": [
        "top_hs_tokens = filter_tokens(attributions_data, 'percent', 10)\n",
        "print(f\"Size of top_hs_tokens: {len(top_hs_tokens)}\")"
      ]
    },
    {
      "cell_type": "markdown",
      "metadata": {
        "id": "Nb0-8nMpVbW_"
      },
      "source": [
        ">>>##### **3.3.3.2. Apply Changes**"
      ]
    },
    {
      "cell_type": "code",
      "execution_count": null,
      "metadata": {
        "id": "LJJuwFmSJO69"
      },
      "outputs": [],
      "source": [
        "tokenized_dataset = copy.deepcopy(original_tokenized_dataset)"
      ]
    },
    {
      "cell_type": "code",
      "execution_count": null,
      "metadata": {
        "id": "GPEnzJhvh3K8"
      },
      "outputs": [],
      "source": [
        "# selected_tokens = get_ids(fake_hs)\n",
        "# selected_tokens = get_ids(top_hs_tokens)\n",
        "# selected_tokens = get_ids(bottom_hs_tokens)\n",
        "selected_tokens = copy.deepcopy(fake_hs)\n",
        "# selected_tokens = copy.deepcopy(bottom_hs_tokens)"
      ]
    },
    {
      "cell_type": "markdown",
      "metadata": {
        "id": "StMe4veUcnb9"
      },
      "source": [
        "###### **Mask low attribution tokens**"
      ]
    },
    {
      "cell_type": "code",
      "execution_count": null,
      "metadata": {
        "id": "xgsvpkDYn7mP"
      },
      "outputs": [],
      "source": [
        "tokenized_dataset['train'] = tokenized_dataset['train'].map(\n",
        "    mask_tokens,\n",
        "    fn_kwargs={\"tokens\": selected_tokens},\n",
        "    desc=\"Masking tokens in Train\")"
      ]
    },
    {
      "cell_type": "code",
      "execution_count": null,
      "metadata": {
        "id": "ONns9knTgvkz",
        "colab": {
          "base_uri": "https://localhost:8080/",
          "height": 381,
          "referenced_widgets": [
            "06c2a0000bcd4737b7addb0c2bc107bb",
            "daddc4944f2245daa2cf55e3989a0e05",
            "24db28ff26c140b29919ad8532b1e962",
            "c95279bf4ecd4524b43fe6cb07125b79",
            "0b1a75a9a5904a18a1269d01bfeb6e49",
            "269a50253eb5452aaf2b485097ddfbed",
            "ce149669193d43ffa993b4d055e963c7",
            "cf59846f00db43869bcbe85f5e44d12b",
            "84f2dd12c02742f295c441f2ea3dc9f8",
            "2716526fb238406996dcacbeb5bf067c",
            "e7844af17df243278766df416057ee60"
          ]
        },
        "outputId": "e55881b2-a19f-46c7-d15f-b99d100a0beb"
      },
      "outputs": [
        {
          "output_type": "display_data",
          "data": {
            "text/plain": [
              "Masking tokens in Validation:   0%|          | 0/398 [00:00<?, ? examples/s]"
            ],
            "application/vnd.jupyter.widget-view+json": {
              "version_major": 2,
              "version_minor": 0,
              "model_id": "06c2a0000bcd4737b7addb0c2bc107bb"
            }
          },
          "metadata": {}
        },
        {
          "output_type": "stream",
          "name": "stdout",
          "text": [
            "SAMPLE: [CLS] انتقاما للمهاجرين لازم نبيد السوريين [SEP]\n",
            "TOKEN: لازم\n",
            "------------------------------------------------\n",
            "SAMPLE: [CLS] اخ الحمدالله خسروا الكلاب هلا فيني موت بسلام [SEP]\n",
            "TOKEN: هلا\n",
            "------------------------------------------------\n",
            "SAMPLE: [CLS] غريبين انتم اهل الجزيرة العربية بتجوا لتعايروا واحد بشكله بتشبهوه لكاين ظريف الشكل والاخلاق يا ريتكم تتعلموا من الكلاب وتصيروا ظريفين بدال الصلف والجلافة والاستعلاء [SEP]\n",
            "TOKEN: والاخلاق\n",
            "------------------------------------------------\n",
            "SAMPLE: [CLS] هدول مستعدين يقتلوا الناس هيك شروي غروي لازم نقتلون كلن [SEP]\n",
            "TOKEN: لازم\n",
            "------------------------------------------------\n",
            "SAMPLE: [CLS] انت كلكم تبع القوات بهايم او في جحاش وحمير وخواريف معكم هو وعم بدافع بسلاحو عن لبنان ضد اسراييل وضد التكفيرية وما خليتو سكين ما طعنتوا فيها ولو قادرين بالسلاح كنتو مستعدين تحاربوا اتدافعوا عن حبايبكم اسراييل وحلفايها هلا صار بدك يا يهاجم اسراييل والاه حيرتو سمانا انتو القو [SEP]\n",
            "TOKEN: هلا\n",
            "------------------------------------------------\n",
            "SAMPLE: [CLS] انت كلكم تبع القوات بهايم او في جحاش وحمير وخواريف معكم هو وعم بدافع بسلاحو عن لبنان ضد اسراييل وضد التكفيرية وما خليتو سكين ما طعنتوا فيها ولو قادرين بالسلاح كنتو مستعدين تحاربوا اتدافعوا عن حبايبكم اسراييل وحلفايها هلا صار بدك يا يهاجم اسراييل والاه حيرتو سمانا انتو القو [SEP]\n",
            "TOKEN: ضد\n",
            "------------------------------------------------\n"
          ]
        }
      ],
      "source": [
        "tokenized_dataset['validation'] = tokenized_dataset['validation'].map(\n",
        "    mask_tokens,\n",
        "    fn_kwargs={\"tokens\": selected_tokens},\n",
        "    desc=\"Masking tokens in Validation\")"
      ]
    },
    {
      "cell_type": "code",
      "execution_count": null,
      "metadata": {
        "id": "PHoCniogc5AY"
      },
      "outputs": [],
      "source": [
        "tokenized_dataset['test'] = tokenized_dataset['test'].map(\n",
        "    mask_tokens,\n",
        "    fn_kwargs={\"tokens\": selected_tokens},\n",
        "    desc=\"Masking tokens in Test\")"
      ]
    },
    {
      "cell_type": "markdown",
      "metadata": {
        "id": "THqNvclmcs5e"
      },
      "source": [
        "###### **Remove low attribution tokens**"
      ]
    },
    {
      "cell_type": "code",
      "execution_count": null,
      "metadata": {
        "id": "A2Xccmz_WgqO"
      },
      "outputs": [],
      "source": [
        "tokenized_dataset['train'] = tokenized_dataset['train'].map(\n",
        "    remove_tokens,\n",
        "    fn_kwargs={\"tokens\": selected_tokens},\n",
        "    desc=\"Removing tokens in Train\")"
      ]
    },
    {
      "cell_type": "code",
      "execution_count": null,
      "metadata": {
        "id": "cvi2yjyVWiFh"
      },
      "outputs": [],
      "source": [
        "tokenized_dataset['validation'] = tokenized_dataset['validation'].map(\n",
        "    remove_tokens,\n",
        "    fn_kwargs={\"tokens\": selected_tokens},\n",
        "    desc=\"Removing tokens in Validation\")"
      ]
    },
    {
      "cell_type": "code",
      "execution_count": null,
      "metadata": {
        "id": "sq28f407n7mO"
      },
      "outputs": [],
      "source": [
        "tokenized_dataset['test'] = tokenized_dataset['test'].map(\n",
        "    remove_tokens,\n",
        "    fn_kwargs={\"tokens\": selected_tokens},\n",
        "    desc=\"Removing tokens in Test\")"
      ]
    },
    {
      "cell_type": "markdown",
      "metadata": {
        "id": "tpf9JnrGcyxi"
      },
      "source": [
        "###### **Replace low attribution tokens**"
      ]
    },
    {
      "cell_type": "code",
      "execution_count": null,
      "metadata": {
        "id": "XzwAhic3yqZy"
      },
      "outputs": [],
      "source": [
        "tokenized_dataset['train'] = tokenized_dataset['train'].map(\n",
        "    replace_tokens,\n",
        "    fn_kwargs={'old_tokens': selected_tokens,\n",
        "               'new_tokens': get_ids(top_hs_tokens)},\n",
        "    desc=\"Replacing tokens in Train\")"
      ]
    },
    {
      "cell_type": "code",
      "execution_count": null,
      "metadata": {
        "id": "uTEyDVVXyraC"
      },
      "outputs": [],
      "source": [
        "tokenized_dataset['validation'] = tokenized_dataset['validation'].map(\n",
        "    replace_tokens,\n",
        "    fn_kwargs={'old_tokens': selected_tokens,\n",
        "               'new_tokens': get_ids(top_hs_tokens)},\n",
        "    desc=\"Replacing tokens in Validation\")"
      ]
    },
    {
      "cell_type": "code",
      "execution_count": null,
      "metadata": {
        "id": "ubavXu4Cn7mP"
      },
      "outputs": [],
      "source": [
        "tokenized_dataset['test'] = tokenized_dataset['test'].map(\n",
        "    replace_tokens,\n",
        "    fn_kwargs={'old_tokens': selected_tokens,\n",
        "               'new_tokens': get_ids(top_hs_tokens)},\n",
        "    desc=\"Replacing tokens in Test\")"
      ]
    },
    {
      "cell_type": "markdown",
      "metadata": {
        "id": "HhaT91s9Vsho"
      },
      "source": [
        ">>>##### **3.3.3.3. Synonyms Replacement**"
      ]
    },
    {
      "cell_type": "markdown",
      "metadata": {
        "id": "Nl_ZPzvbuTC6"
      },
      "source": [
        "###### **Load Model and Embeddings**"
      ]
    },
    {
      "cell_type": "code",
      "execution_count": null,
      "metadata": {
        "id": "rwT2pm2QKlQS"
      },
      "outputs": [],
      "source": [
        "trained_model_path = (\n",
        "    f\"{MODELS_PATH}/\"\n",
        "    f\"MARBERT-finetuned-HateSpeech-{DS_NAME}-baseline-nopreprocessing-{RANDOM_SEED}\"\n",
        ")\n",
        "\n",
        "trained_model = BertModel.from_pretrained(\n",
        "    trained_model_path,\n",
        "    num_labels = 2,\n",
        "    id2label = id2label,\n",
        "    label2id = label2id)\n",
        "\n",
        "# Load tokenizer\n",
        "trained_tokenizer = BertTokenizerFast.from_pretrained(trained_model_path)\n",
        "\n",
        "# Extract Embedding tensors\n",
        "word_embeddings_tensors = {\n",
        "    token: trained_model.get_input_embeddings()(torch.tensor(id))\n",
        "    for token, id in trained_tokenizer.get_vocab().items()\n",
        "}\n",
        "\n",
        "# Extract Word Embeddings\n",
        "word_embeddings = {\n",
        "    key: value.detach().numpy()\n",
        "    for key, value in word_embeddings_tensors.items()\n",
        "}"
      ]
    },
    {
      "cell_type": "markdown",
      "metadata": {
        "id": "0qkUfExtvIeI"
      },
      "source": [
        "###### **Initialize ANN Index & Function**"
      ]
    },
    {
      "cell_type": "code",
      "execution_count": null,
      "metadata": {
        "colab": {
          "base_uri": "https://localhost:8080/",
          "height": 66,
          "referenced_widgets": [
            "842364cb4e764e7189cdaf2a34d93532",
            "a3d56b70f2fc42738989df42ffaf91b5",
            "bdea8f682a4242138d377dc490138aee",
            "ce18cfe4d18c46f18a6cab8ec26a9e4f",
            "ddb05d0912fc42ca9376d0ba717deefb",
            "a030e67b24ee431e91f1670658f2f020",
            "1ab8089154324565bd33a69e4110f930",
            "887f7695a62347b2a5aabe638e47047c",
            "1f3664fbf9404043b430c0d678c2a4be",
            "e311121bb3e24cbdb56457ca45c586fc",
            "9a3b3d5917d84a2da6c97184e8ac2092"
          ]
        },
        "id": "BhuuLJnBVoEY",
        "outputId": "9e73b8d0-c7ec-4046-b097-0efb0f45afd3"
      },
      "outputs": [
        {
          "output_type": "display_data",
          "data": {
            "text/plain": [
              "Adding Word Embeddings to Index:   0%|          | 0/100000 [00:00<?, ?it/s]"
            ],
            "application/vnd.jupyter.widget-view+json": {
              "version_major": 2,
              "version_minor": 0,
              "model_id": "842364cb4e764e7189cdaf2a34d93532"
            }
          },
          "metadata": {}
        },
        {
          "output_type": "execute_result",
          "data": {
            "text/plain": [
              "True"
            ]
          },
          "metadata": {},
          "execution_count": 117
        }
      ],
      "source": [
        "from annoy import AnnoyIndex\n",
        "\n",
        "# Initialize an Annoy index for word embeddings to perform\n",
        "# Approximate Nearest Neighbors search. The index takes dimension (768 in the\n",
        "# case of a BERT model) and a metric (here it's 'angualr'. aka cosine distance)\n",
        "embedding_dim = trained_model.config.hidden_size\n",
        "annoy_index = AnnoyIndex(embedding_dim, 'angular')\n",
        "\n",
        "# Add embeddings to index\n",
        "for word, embeddings in tqdm_notebook(word_embeddings.items(),\n",
        "                                      desc=\"Adding Word Embeddings to Index\"):\n",
        "    annoy_index.add_item(\n",
        "        tokenizer.convert_tokens_to_ids(word), # Word identifier (must be integer)\n",
        "        embeddings.tolist() # Word Embeddings\n",
        "    )\n",
        "\n",
        "annoy_index.set_seed(RANDOM_SEED)\n",
        "\n",
        "# Build a forest of n_trees\n",
        "annoy_index.build(n_trees = 50)"
      ]
    },
    {
      "cell_type": "code",
      "execution_count": null,
      "metadata": {
        "id": "VlIuD-5SvUbH"
      },
      "outputs": [],
      "source": [
        "import nltk\n",
        "from nltk.stem.isri import ISRIStemmer\n",
        "from itertools import islice\n",
        "\n",
        "stemmer = ISRIStemmer()\n",
        "\n",
        "def get_similar_words(target_word, n, neighbors_num):\n",
        "\n",
        "    # Tokenize target word\n",
        "    tokens = trained_tokenizer.tokenize(target_word)\n",
        "\n",
        "    # Get the embedding vectors for each token of target word\n",
        "    tokens_embeddings = [word_embeddings[token] for token in tokens]\n",
        "\n",
        "    # Average vectors if word has multiple tokens\n",
        "    target_embeddings = []\n",
        "    if len(target_embeddings) > 1:\n",
        "        target_embeddings = np.mean(tokens_embeddings, axis=0)\n",
        "    else:\n",
        "        target_embeddings = tokens_embeddings[0]\n",
        "\n",
        "    candidate_words_ids, distances = annoy_index.get_nns_by_vector(\n",
        "        target_embeddings,\n",
        "        n*neighbors_num,\n",
        "        include_distances = True)\n",
        "\n",
        "    raw_similarities = {\n",
        "        tokenizer.convert_ids_to_tokens(id): 1-distance\n",
        "        for id, distance in zip(candidate_words_ids, distances)}\n",
        "\n",
        "    # Remove tokens that are emojis, numbers, 1-letter long,...\n",
        "    similarities = {}\n",
        "    for token, similarity in raw_similarities.items():\n",
        "        if (token.isalpha()) & (len(token)>1):\n",
        "            similarities[token] = similarity\n",
        "\n",
        "    # Remove words that are too similar. i.e. if the original word is \"كلاب\",\n",
        "    # don't accept \"كلب\", \"والكلاب\" etc\n",
        "    target_stem = stemmer.stem(target_word)\n",
        "\n",
        "    # Keep n unique similar word\n",
        "    top_n_similar = list(\n",
        "        islice(\n",
        "            [word\n",
        "             for word, similarity in similarities.items()\n",
        "             if stemmer.stem(word) != target_stem],\n",
        "            n\n",
        "        )\n",
        "    )\n",
        "\n",
        "    return top_n_similar"
      ]
    },
    {
      "cell_type": "markdown",
      "metadata": {
        "id": "IJYqMgip9XIy"
      },
      "source": [
        "###### **Define Contextual Operations**"
      ]
    },
    {
      "cell_type": "code",
      "execution_count": null,
      "metadata": {
        "id": "-HDn4fLYJXHt"
      },
      "outputs": [],
      "source": [
        "def contextual_augment(sample, candidates, n, neighbors_num):\n",
        "    \"\"\"Augments a sample by replacing high-saliency words with synonyms.\n",
        "\n",
        "    Args:\n",
        "        sample: A dictionary representing the original sample.\n",
        "        candidates: A list of high-saliency words.\n",
        "        n: The number of augmented samples to generate (default: 5).\n",
        "\n",
        "    Returns:\n",
        "        A list of augmented samples.\n",
        "    \"\"\"\n",
        "\n",
        "    # Decode and split input_ids, filtering out special tokens if necessary\n",
        "    decoded_sample = tokenizer.decode(\n",
        "        sample['input_ids'], skip_special_tokens=True).split()\n",
        "\n",
        "    # Find out synonyms for sample words that are in candidates\n",
        "    synonyms = {\n",
        "        word: get_similar_words(word, n, neighbors_num)\n",
        "        for word in decoded_sample\n",
        "        if word in candidates\n",
        "    }\n",
        "\n",
        "    # Create new copies of the original sample and replace\n",
        "    # the hate words by new synonyms\n",
        "    synonyms_samples = [decoded_sample.copy() for _ in range(n)]\n",
        "    for word in synonyms.keys():\n",
        "        word_index = decoded_sample.index(word)\n",
        "        for sample_index, syn_sample in enumerate(synonyms_samples):\n",
        "            syn_sample[word_index] = synonyms[word][sample_index]\n",
        "\n",
        "    # Join strings into one string\n",
        "    synonyms_samples = [\" \".join(synonyms_samples[i]) for i in range(n)]\n",
        "\n",
        "    # Create the final augmented sample and add it to list\n",
        "    new_samples = []\n",
        "    for i in range(n):\n",
        "        new_sample = {}\n",
        "        new_sample['text'] = synonyms_samples[i]\n",
        "        new_sample['label'] = sample['label']\n",
        "        new_sample['type'] = \"CON_AUGMENT\"\n",
        "        new_sample['input_ids'] = tokenizer.encode(synonyms_samples[i])\n",
        "        new_sample['token_type_ids'] = [0] * len(new_sample['input_ids'])\n",
        "        new_sample['attention_mask'] = [1] * len(new_sample['input_ids'])\n",
        "        new_samples.append(new_sample)\n",
        "\n",
        "    return new_samples"
      ]
    },
    {
      "cell_type": "code",
      "execution_count": null,
      "metadata": {
        "id": "AZlH5r8lBx2h"
      },
      "outputs": [],
      "source": [
        "def contextual_replace(sample, candidates, n, neighbors_num):\n",
        "\n",
        "    # Decode and split input_ids, filtering out special tokens if necessary\n",
        "    decoded_sample = tokenizer.decode(\n",
        "        sample['input_ids'], skip_special_tokens=True).split()\n",
        "\n",
        "    # Find out synonyms for sample words that are in candidates\n",
        "    synonyms = {\n",
        "        word: get_similar_words(word, n, neighbors_num)\n",
        "        for word in decoded_sample\n",
        "        if word in candidates\n",
        "    }\n",
        "    sample['old_input_ids'] = copy.deepcopy(sample['input_ids'])\n",
        "    # Check if there's a need to modify the sample\n",
        "    if synonyms:\n",
        "        # Modify Sample\n",
        "        new_decoded_sample = decoded_sample.copy()\n",
        "        for word in synonyms.keys():\n",
        "            word_index = decoded_sample.index(word)\n",
        "\n",
        "            new_decoded_sample[word_index] = random.choice(synonyms[word])\n",
        "\n",
        "        # Join strings into one string\n",
        "        synonyms_sample = \" \".join(new_decoded_sample)\n",
        "\n",
        "        new_sample = {}\n",
        "        new_sample['text'] = synonyms_sample\n",
        "        new_sample['label'] = sample['label']\n",
        "        new_sample['input_ids'] = tokenizer.encode(synonyms_sample)\n",
        "        new_sample['token_type_ids'] = [0] * len(new_sample['input_ids'])\n",
        "        new_sample['attention_mask'] = [1] * len(new_sample['input_ids'])\n",
        "\n",
        "        if sample['label'] == 1:\n",
        "            print(f\"OLD SAMPLE: {tokenizer.decode(sample['old_input_ids'])}\")\n",
        "            print(f\"NEW SAMPLE: {tokenizer.decode(new_sample['input_ids'])}\")\n",
        "            print(\"------------------------------------------------\")\n",
        "\n",
        "        return new_sample\n",
        "    else:\n",
        "        return sample"
      ]
    },
    {
      "cell_type": "markdown",
      "metadata": {
        "id": "r7oerTrE_fgb"
      },
      "source": [
        "###### **Run Contextual Operations**"
      ]
    },
    {
      "cell_type": "markdown",
      "metadata": {
        "id": "LHzz2XrmI-I5"
      },
      "source": [
        "###### **Augment**"
      ]
    },
    {
      "cell_type": "code",
      "execution_count": null,
      "metadata": {
        "id": "a9gPysPq_6Xt"
      },
      "outputs": [],
      "source": [
        "top_hs_words = filter_tokens(\n",
        "    train_hs_seq['vocab_attributions'], mode=\"percent\", value=40\n",
        ")\n",
        "bottom_hs_tokens = filter_tokens(\n",
        "    train_hs_seq['vocab_attributions'], mode=\"percent\", value=10, top=False\n",
        ")\n",
        "\n",
        "hs_words = list(set(top_hs_words+bottom_hs_tokens))\n",
        "len(hs_words)"
      ]
    },
    {
      "cell_type": "code",
      "execution_count": null,
      "metadata": {
        "id": "WDwtxlkqqF5L"
      },
      "outputs": [],
      "source": [
        "new_hate_samples = []\n",
        "for sample in tqdm_notebook(tokenized_dataset['train'], desc= \"Augmenting\"):\n",
        "    if sample['label'] == 1:\n",
        "        new_hate_samples.append(contextual_augment(sample, hs_words, 3, 3000))\n",
        "\n",
        "# Flatten list\n",
        "new_samples = [new_sample for sample_group in new_hate_samples for new_sample in sample_group]"
      ]
    },
    {
      "cell_type": "code",
      "execution_count": null,
      "metadata": {
        "id": "XgSOao2LhQ_c"
      },
      "outputs": [],
      "source": [
        "baseline_hate.shape[0]"
      ]
    },
    {
      "cell_type": "code",
      "execution_count": null,
      "metadata": {
        "id": "rFL3Js5gg9NW"
      },
      "outputs": [],
      "source": [
        "random.shuffle(new_samples)\n",
        "selected_samples = random.sample(new_samples, 100)"
      ]
    },
    {
      "cell_type": "code",
      "execution_count": null,
      "metadata": {
        "id": "RqUZMtEZCEwf"
      },
      "outputs": [],
      "source": [
        "[sample['text'] for sample in selected_samples]"
      ]
    },
    {
      "cell_type": "code",
      "execution_count": null,
      "metadata": {
        "id": "Y8ti90AXo6Tm"
      },
      "outputs": [],
      "source": [
        "for new_sample in tqdm_notebook(selected_samples, desc='Adding new samples to Dataset'):\n",
        "    tokenized_dataset['train'] = tokenized_dataset['train'].add_item(new_sample)\n",
        "\n",
        "tokenized_dataset['train'].shuffle(seed = RANDOM_SEED)"
      ]
    },
    {
      "cell_type": "markdown",
      "metadata": {
        "id": "Ix2tK1e6Iiz3"
      },
      "source": [
        "###### **Replace**"
      ]
    },
    {
      "cell_type": "code",
      "execution_count": null,
      "metadata": {
        "colab": {
          "base_uri": "https://localhost:8080/",
          "referenced_widgets": [
            "9ce8de01b3ec465a971a5e522e5f43dc",
            "87ddcdb7a4a9405db6a7abfe89750289",
            "968e85812fe84fb19512c34b2ea93234",
            "b426d7903bd04d6b94f46e2e8db6acb9",
            "5e823570db544c2f9531a0468804b641",
            "10739abebce14d409838bab50d08c8cc",
            "261ab33a85f3456cbb1ede51f55f8297",
            "1f802d7c10074ff686f83a398edcee14",
            "f2ed904e171a4b8b8a5c1a7c552af2b8",
            "428b85246c4a4813be9b041ee3ead915",
            "ed54ec4801d247fa85a99c18e5ed7d14"
          ]
        },
        "id": "hcQjNTdAIlPK",
        "outputId": "e2d53fcb-bda3-4f7e-e384-b240bdfc5aa4"
      },
      "outputs": [
        {
          "output_type": "stream",
          "name": "stderr",
          "text": [
            "Parameter 'function'=<function contextual_replace at 0x7d4d05761750> of the transform datasets.arrow_dataset.Dataset._map_single couldn't be hashed properly, a random hash was used instead. Make sure your transforms and parameters are serializable with pickle or dill for the dataset fingerprinting and caching to work. If you reuse this transform, the caching mechanism will consider it to be different from the previous calls and recompute everything. This warning is only showed once. Subsequent hashing failures won't be showed.\n",
            "WARNING:datasets.fingerprint:Parameter 'function'=<function contextual_replace at 0x7d4d05761750> of the transform datasets.arrow_dataset.Dataset._map_single couldn't be hashed properly, a random hash was used instead. Make sure your transforms and parameters are serializable with pickle or dill for the dataset fingerprinting and caching to work. If you reuse this transform, the caching mechanism will consider it to be different from the previous calls and recompute everything. This warning is only showed once. Subsequent hashing failures won't be showed.\n"
          ]
        },
        {
          "output_type": "display_data",
          "data": {
            "text/plain": [
              "Replacing tokens in Train (CONTEXTUAL):   0%|          | 0/2802 [00:00<?, ? examples/s]"
            ],
            "application/vnd.jupyter.widget-view+json": {
              "version_major": 2,
              "version_minor": 0,
              "model_id": "9ce8de01b3ec465a971a5e522e5f43dc"
            }
          },
          "metadata": {}
        },
        {
          "output_type": "stream",
          "name": "stdout",
          "text": [
            "OLD SAMPLE: [CLS] والله انك كذاب يا اصلع الراس والاخلاق بس ماقصر الزول نتف باقي الشعر … [SEP]\n",
            "NEW SAMPLE: [CLS] والله انك كذاب يا اصلع الراس والانسانية بس ماقصر الزول نتف باقي الشعر … [SEP]\n",
            "------------------------------------------------\n",
            "OLD SAMPLE: [CLS] حشرة سودانية اخوانية مهمتك نشر الكذب و العهر حذاء ايراني تموله قطراييل [SEP]\n",
            "NEW SAMPLE: [CLS] حشرة سودانية اخوانية معركتنا نشر الكذب و العهر حذاء ايراني تموله قطراييل [SEP]\n",
            "------------------------------------------------\n",
            "OLD SAMPLE: [CLS] اضرب والريح تصيح جنبلاط عثمان سعدو جعجع كلهم وصرمايتك سوا [SEP]\n",
            "NEW SAMPLE: [CLS] اضرب والريح تصيح جنبلاط فاطمه سعدو جعجع كلهم وصرمايتك سوا [SEP]\n",
            "------------------------------------------------\n",
            "OLD SAMPLE: [CLS] برافو هكذا انتم خواريف الزعيم وانت يا حسين خاااااروف ماااااء [SEP]\n",
            "NEW SAMPLE: [CLS] برافو هكذا انتم خواريف الفريق وانت يا حسين خاااااروف ماااااء [SEP]\n",
            "------------------------------------------------\n",
            "OLD SAMPLE: [CLS] معرفي قطر كل عمرى داعمي الارهاب لا بد من قطع يدهم [SEP]\n",
            "NEW SAMPLE: [CLS] معرفي قطر كل عمرى داعمي الارهاب لا ولابد من قطع يدهم [SEP]\n",
            "------------------------------------------------\n",
            "OLD SAMPLE: [CLS] مارسيل غانم انتحر اعلاميا للتو ظهر عن طريق الخطا بالبث المباشر على فايسبوك في غفلة منه وبتوقيت قاتل ركز على اخر المقطع هذا ديدن اللبنانيين اللسان عسل و القلب قذر [SEP]\n",
            "NEW SAMPLE: [CLS] ببيروت غانم انتحر اعلاميا للتو ظهر عن طريق الخطا بالبث المباشر على عالفيسبوك في غفلة منه وبتوقيت قاتل ركز على اخر المقطع هذا ديدن اللبنانيين اللسان عسل و القلب قذر [SEP]\n",
            "------------------------------------------------\n",
            "OLD SAMPLE: [CLS] بعمره السوري ما رح يكون في خير لهالبلد ولك متحملبن نزوح مليونين سوري ولا بلد بالعالم استقبل هالعدد نسبة لحجمه وتحمل ما تحمل تبعات اقتصادية وامنية وبيجي نايب سوري جربان بدل ما يشكر لبنان بقول لبنان استفاد من ازمة النازحين! طول عمركم ورح تبقوا نجسين [SEP]\n",
            "NEW SAMPLE: [CLS] بعمره السوري ما رح يكون في خير لهالبلد ولك متحملبن نزوح مليونين سوري ولا بلد بالعالم استقبل هالعدد نسبة لحجمه وتحمل ما تحمل تبعات اقتصاديا وامنية وبيجي نايب سوري جربان بدل ما يشكر لبنان بقول لبنان استفاد من ازمة النازحين! طول عمركم ورح تبقوا نجسين [SEP]\n",
            "------------------------------------------------\n",
            "OLD SAMPLE: [CLS] جبران باسيل من فشل الى فشل بقيادة عايلة الفشل العونية المنصب الصحيح له هو مساح احذية في شارع الحمرا … [SEP]\n",
            "NEW SAMPLE: [CLS] جبران باسيل من فشل الى فشل بقيادة عايلة الفشل العونية منصبه الصحيح له هو مساح احذية في شارع الحمرا … [SEP]\n",
            "------------------------------------------------\n",
            "OLD SAMPLE: [CLS] لا يابقرة هاتريك هذا يقولونه للاعب اللي يسجل ثلاث اهداف روحي عالمطبخ بسرعة قبل لا احد يشوفك [SEP]\n",
            "NEW SAMPLE: [CLS] لا يابقرة هاتريك هذا يقولونه للاعب اللي يسجل ثلاث اهداف روحي عالمطبخ فجاه قبل لا احد يشوفك [SEP]\n",
            "------------------------------------------------\n",
            "OLD SAMPLE: [CLS] ميشال عون عون و صهرو الهبيلة جبران باسيل باسو صرماية تميم كرمال تشتري قطر سندات لبنانية لبنان دولة شحادة رسميا [SEP]\n",
            "NEW SAMPLE: [CLS] ميشال عون عون و صهرو الهبيلة جبران باسيل باسو صرماية تميم كرمال تشتري قطر داعمين لبنانية لبنان دولة يش فعليا [SEP]\n",
            "------------------------------------------------\n",
            "OLD SAMPLE: [CLS] راك شركسي يا كلب و فوقها قاعد تعطي في رايك يا تركي حقير [SEP]\n",
            "NEW SAMPLE: [CLS] راك شركسي يا كلب و فوقها قاعد تعطي في برايك يا تركي حقير [SEP]\n",
            "------------------------------------------------\n",
            "OLD SAMPLE: [CLS] مدام جبران باسيل سرق و عمر بالمصاري قصر بمعراب ، لك استحي يا عيب الشوم ع شعب البومة [SEP]\n",
            "NEW SAMPLE: [CLS] مدام جبران باسيل حرامية و عمر بالمصاري قصر بمعراب ، لك استحي يا عيب الشوم ع شعب البومة [SEP]\n",
            "------------------------------------------------\n",
            "OLD SAMPLE: [CLS] مينك يا شخاخة بدك تعلمي العالم ؟ ومن ايمتا يا عونية صرتي تفهمي لو فيكي شوية فهم وشرف ما بتمشي ورا معاق باع عرضو للنظام السوري ونام بحضن اسد الاجرام لاغتال رووساينا ونكل فينا ولاحقنا وبعدو عم يفجرنا وماشي تحت جناح ميليشيا حسن نصرالله رجعي شوفي يا عونية كتابك البرتقالي [SEP]\n",
            "NEW SAMPLE: [CLS] مينك يا شخاخة بدك تعلمي العالم ؟ ومن ايمتا يا عونية صرتي تفهمي لو فيكي شوية وهم وشرف ما بتمشي ورا معاق باع عرض للنظام السوري ونام بحضن اسد الاجرام لاغتال رووساينا ونكل فينا ولاحقنا وبعدو عم يفجرنا وماشي تحت جناح ميليشيا حسن نصرالله رجعي شوفي يا عونية كتابك البرتقالي [SEP]\n",
            "------------------------------------------------\n",
            "OLD SAMPLE: [CLS] كفاكم هبل ايها السادة الجنبلاطيين لا اوامر من حزب البعث ولا من النظام الاسدي لو فيكم … [SEP]\n",
            "NEW SAMPLE: [CLS] كفاكم هبل ايها الساده الجنبلاطيين لا قرارات من حزب البعث ولا من النظام الاسدي لو فيكم … [SEP]\n",
            "------------------------------------------------\n",
            "OLD SAMPLE: [CLS] دويلة قطر بحق دولة مارقة فاسدة سيية السمعة [SEP]\n",
            "NEW SAMPLE: [CLS] دويلة قطر بحق دولة مارقة فاسدة سيية حيااه [SEP]\n",
            "------------------------------------------------\n",
            "OLD SAMPLE: [CLS] العرب جرب انتو حلو مشاكلكم الي صارلها سنه وبعدين شوفو مصير غيركم منافقين [SEP]\n",
            "NEW SAMPLE: [CLS] العرب جرب انتو حلو مخططاتهم الي صارلها سنه وبعدين شوفو مصير غيركم منافقين [SEP]\n",
            "------------------------------------------------\n",
            "OLD SAMPLE: [CLS] هذا يدور قطري مايدري ان امير قطر سلم قطر للتركي الفاسق يعني خليك مشرد [SEP]\n",
            "NEW SAMPLE: [CLS] هذا يدور قطري مايدري ان امير قطر سجل قطر للتركي الفاسق يعني خليك مشرد [SEP]\n",
            "------------------------------------------------\n",
            "OLD SAMPLE: [CLS] مهما تامر المفسدين وتاجرو باسم سيعرف العالم بانهم عملاء متصهينين [SEP]\n",
            "NEW SAMPLE: [CLS] مهما تامر مجرمين وتاجرو باسم ستنطلق العالم بانهم عملاء متصهينين [SEP]\n",
            "------------------------------------------------\n",
            "OLD SAMPLE: [CLS] والله يا اخي الكريم اغلب القطريين بلا ذمه ولا اخلاق ولا شرف للاسف [SEP]\n",
            "NEW SAMPLE: [CLS] والله يا اختي العظيم اغلب القطريين بلا ذمه ولا اخلاق ولا شرف للاسف [SEP]\n",
            "------------------------------------------------\n",
            "OLD SAMPLE: [CLS] كل العرب يتقنون التخريب العرب جرب [SEP]\n",
            "NEW SAMPLE: [CLS] كل العرب نفذتها التخريب العرب جرب [SEP]\n",
            "------------------------------------------------\n",
            "OLD SAMPLE: [CLS] سد نيعك وطهر لسانك بالرمل الاحمر قبل ماتجيب سيرة سعد لبنان هيدا بلدو وانتو لاجيين وارهابين خون بدل ما تسكت تستحي على على دمك سد نيعك [SEP]\n",
            "NEW SAMPLE: [CLS] سد نيعك وطهر لسانك بالرمل الاحمر قبل ماتجيب سيرة سعد لبنان هيدا بلدو وانتو لاجيين وارهابين خون بدل ما سكت تستحي على على دمك سد نيعك [SEP]\n",
            "------------------------------------------------\n",
            "OLD SAMPLE: [CLS] هول هني ذاتن كانو كلاب الفلسطينية ضد حركة امل [SEP]\n",
            "NEW SAMPLE: [CLS] هول هني ذاتن كانو كلاب الفلسطينية ميسي حركة امل [SEP]\n",
            "------------------------------------------------\n",
            "OLD SAMPLE: [CLS] واحد مكيف انه النهيق تبعه اموي شو بده يطلع منه [SEP]\n",
            "NEW SAMPLE: [CLS] واحد سماعات انه النهيق تبعه اموي شو بده يطلع منه [SEP]\n",
            "------------------------------------------------\n",
            "OLD SAMPLE: [CLS] لولا الفلسطينيين واللبنانين والشاميين لكان انتو لليوم تشربوا بول البعير تاكلون بصحن وتبزقون منو [SEP]\n",
            "NEW SAMPLE: [CLS] لولا الفلسطينيين واللبنانين والشاميين لكان انتو لليوم اساووا بول البعير تاكلون بصحن وتبزقون منو [SEP]\n",
            "------------------------------------------------\n",
            "OLD SAMPLE: [CLS] شو عم تبع رسايل لجماعتك بقطع المي ياعديم الانسانية يافلاح يا ضيعجي ويا فلاح خود الفلسطنين يلي خايف عليهن ع قطر مو ناقصنا قرف بسوريا [SEP]\n",
            "NEW SAMPLE: [CLS] شو عم تبع تغريدات لجماعتك بقطع المي ياعديم الانسانية يافلاح يا ضيعجي ويا فلاح خود الفلسطنين يلي خايف عليهن ع قطر مو ناقصنا قرف بسوريا [SEP]\n",
            "------------------------------------------------\n",
            "OLD SAMPLE: [CLS] ثورة متخلفين طايفية من الضيع والقرى والارياف كلهن تجار دين دمويين مانهن دكاترة عيون دارسين ببريطانيا متل سيادته [SEP]\n",
            "NEW SAMPLE: [CLS] ثورة متخلفين طايفية من الضيع والقرى والارياف كلهن تجار دين دمويين مانهن دكاترة عيون دارسين بفرنسا متل سيادته [SEP]\n",
            "------------------------------------------------\n",
            "OLD SAMPLE: [CLS] يالطيف شو بشعة روحي عالمطبخ وسكتي حجة [SEP]\n",
            "NEW SAMPLE: [CLS] يالطيف شو بشعة روحي عالمطبخ وسكتي حج [SEP]\n",
            "------------------------------------------------\n",
            "OLD SAMPLE: [CLS] طرش غنم منعدمة عندون القدرة على التفكير بس اجترار الخطاب الممانعجي المعفن [SEP]\n",
            "NEW SAMPLE: [CLS] طرش غنم منعدمة عندون الكفاءة على الذكريات بس اجترار الرسالة الممانعجي المعفن [SEP]\n",
            "------------------------------------------------\n",
            "OLD SAMPLE: [CLS] اليوم الاردن وفلسطين اليوم يتواجه اكثر شعبين ثقيلين دم زنخين اليوم يتواجهون اصحاب ابشع لهجة مرت في تاريخ العرب تصنف [UNK] اسوا مباريات الفيفا [SEP]\n",
            "NEW SAMPLE: [CLS] اليوم الاردن وفلسطين اليوم يتواجه اكثر شعبين ثقيلين دم زنخين اليوم يتواجهون اصحاب ابشع لهجة مرت في تاريخ العرب تصنف اسوا مباراه الفيفا [SEP]\n",
            "------------------------------------------------\n",
            "OLD SAMPLE: [CLS] و الناشطات ما طالبوا بالقاء الضوء على بلدكم الزباله [SEP]\n",
            "NEW SAMPLE: [CLS] و الناشطات ما طالبوا نلقي التطبيل على بلدكم الزباله [SEP]\n",
            "------------------------------------------------\n",
            "OLD SAMPLE: [CLS] تسلم يا قايد دايما بتحط النقط عالحروق سلطة فاسدة وعاهرة سلبوا ونهبوا البلد [SEP]\n",
            "NEW SAMPLE: [CLS] تسلم يا قايد دايما بتحط الحقيرة عالحروق سلطة فاسدة وعاهرة سلبوا ونهبوا البلد [SEP]\n",
            "------------------------------------------------\n",
            "OLD SAMPLE: [CLS] لا تنسى ان هذا الوهاب عنصري وحاقد وخادم امين لمحور الشر الصفوي بلبنان [SEP]\n",
            "NEW SAMPLE: [CLS] لا تنسى ان هذا الوهاب عنصري وحاقد وخادم يارب لمحور الشر الصفوي بلبنان [SEP]\n",
            "------------------------------------------------\n",
            "OLD SAMPLE: [CLS] بس ولي انضبي بقا عمرك شفتي قواتجي بيفهم [SEP]\n",
            "NEW SAMPLE: [CLS] بس ولي الفقراويه بقا عمرك شفتي قواتجي بيفهم [SEP]\n",
            "------------------------------------------------\n",
            "OLD SAMPLE: [CLS] النسوية هلا صار بدها تمثيل حسب الكفاءات اما بغير مطارح بتطالب [UNK] وبحصص لما يكونوا النسوانات قليل التمثيل تبعهن مشان يدحشوهن بكل مطرح غصب 😂 [SEP]\n",
            "NEW SAMPLE: [CLS] النسوية ياهلا صار بدها تمثيل حسب الكفاءات اما بغير مطارح بتطالب وبحصص لما يكونوا النسوانات قليل التمثيل تبعهن مشان يدحشوهن بكل مطرح غصب 😂 [SEP]\n",
            "------------------------------------------------\n",
            "OLD SAMPLE: [CLS] تفوووو عليك سوري جربان مالنا ومالكم حريصة تحرقكم انتو واهل فلسطين [SEP]\n",
            "NEW SAMPLE: [CLS] تفوووو عليك سوري جربان مالنا ومالكم يركزون تحرقكم انتو واهل فلسطين [SEP]\n",
            "------------------------------------------------\n"
          ]
        }
      ],
      "source": [
        "tokenized_dataset['train'] = tokenized_dataset['train'].map(\n",
        "    contextual_replace,\n",
        "    fn_kwargs={\"candidates\": selected_tokens,\n",
        "               \"n\": 5,\n",
        "               \"neighbors_num\": 3000},\n",
        "    desc=\"Replacing tokens in Train (CONTEXTUAL)\")"
      ]
    },
    {
      "cell_type": "code",
      "execution_count": null,
      "metadata": {
        "id": "V_BsK6LKSYr7"
      },
      "outputs": [],
      "source": [
        "tokenized_dataset['validation'] = tokenized_dataset['validation'].map(\n",
        "    contextual_replace,\n",
        "    fn_kwargs={\"candidates\": selected_tokens,\n",
        "               \"n\": 5,\n",
        "               \"neighbors_num\": 3000},\n",
        "    desc=\"Replacing tokens in Validation (CONTEXTUAL)\")"
      ]
    },
    {
      "cell_type": "code",
      "execution_count": null,
      "metadata": {
        "colab": {
          "base_uri": "https://localhost:8080/",
          "height": 349
        },
        "id": "OYZ6d2OlSaB5",
        "outputId": "6dfa5511-ce47-4067-d48a-af187985f76f"
      },
      "outputs": [
        {
          "output_type": "stream",
          "name": "stdout",
          "text": [
            "OLD SAMPLE: [CLS] مقاوم للناس المريضة هيدا صوص سوري اخي رضا او ايراني [SEP]\n",
            "NEW SAMPLE: [CLS] مقاوم للناس المريضة هيدا صوص سوري اختي رضا او ايراني [SEP]\n",
            "------------------------------------------------\n",
            "OLD SAMPLE: [CLS] لازم نبيد الغوطة كلها لازم نقتل كل سني لازم نقتل كل شخص رافض ظلم بشار الاسد [SEP]\n",
            "NEW SAMPLE: [CLS] اكيد نبيد الغوطة كلها لازم نقتل كل سني لازم نقتل كل شخص رافض ظلم بشار الاسد [SEP]\n",
            "------------------------------------------------\n",
            "OLD SAMPLE: [CLS] تغريدة وموضوع حلقة تافه ومبتذل متلك يافلاح يا ضيعجي ياحاقد طبقيا خمس سنين صامدة بالسنة اكتر من العلوي والقصدعن العدد وليس محبة البلد [SEP]\n",
            "NEW SAMPLE: [CLS] تويته وموضوع حلقة تافه ومبتذل متلك يافلاح يا ضيعجي ياحاقد طبقيا خمس سنين صامدة بالسنة اكتر من العلوي والقصدعن العدد وليس محبة البلد [SEP]\n",
            "------------------------------------------------\n",
            "OLD SAMPLE: [CLS] لعنة الله عليك وعلى كل درزى خبيث تمارسون لعبة تبادل الادوار في لبنان درزى مع ودرزى ضد يهاجم وهذا داب اقليات الحقد الد [SEP]\n",
            "NEW SAMPLE: [CLS] لعنة الله عليك وعلى كل درزى خبيث تمارسون لعبة تبادل الادوار في لبنان درزى مع ودرزى امام يهاجم وهذا داب اقليات الحقد الد [SEP]\n",
            "------------------------------------------------\n",
            "OLD SAMPLE: [CLS] ايتها النصرانية البشعة القبيحة فاقدة الانوثة والجمال والاخلاق انتي مصابة بداء جنون العظمة تظنين ان لا احد يفهم في الاعلام الا انتي وتظنين ان لا يوجد قناة الا خنزيرتك وبامكان خنزيرتك هز الدول واستقرارها شو قالولك مثل بلدك لبنان مغتصب من ايران عبر حزب الله يا بشعة [SEP]\n",
            "NEW SAMPLE: [CLS] ايتها النصرانية البشعة القبيحة فاقدة الانوثة والجمال والذوق انتي مصابة بداء جنون العظمة تظنين ان لا احد يفهم في الاعلام الا انتي وتظنين ان لا يوجد قناة الا خنزيرتك وبامكان خنزيرتك هز الدول واستقرارها شو قالولك مثل بلدك لبنان مغتصب من ايران عبر حزب الله يا بشعة [SEP]\n",
            "------------------------------------------------\n",
            "OLD SAMPLE: [CLS] افي بغل وانت بيك جنباط موجودين انتو بغال بجدارة وانتو ملوك الفتنة وبيك كلب اصلي اميركي يا هلا [SEP]\n",
            "NEW SAMPLE: [CLS] افي بغل وانت بيك جنباط موجودين انتو بغال بجدارة وانتو ملوك الفتنة وبيك كلب اصلي اميركي يا اهلا [SEP]\n",
            "------------------------------------------------\n"
          ]
        }
      ],
      "source": [
        "tokenized_dataset['test'] = tokenized_dataset['test'].map(\n",
        "    contextual_replace,\n",
        "    fn_kwargs={\"candidates\": selected_tokens,\n",
        "               \"n\": 5,\n",
        "               \"neighbors_num\": 3000},\n",
        "    desc=\"Replacing tokens in Validation (CONTEXTUAL)\")"
      ]
    },
    {
      "cell_type": "markdown",
      "metadata": {
        "id": "NfFuDpO1jt9Q"
      },
      "source": [
        ">### **3.4. Load Pretrained Model**"
      ]
    },
    {
      "cell_type": "code",
      "execution_count": null,
      "metadata": {
        "colab": {
          "base_uri": "https://localhost:8080/"
        },
        "id": "wdAXrNz2rpmc",
        "outputId": "7549f4fb-b171-4ecb-e433-323e2a1d768a"
      },
      "outputs": [
        {
          "output_type": "stream",
          "name": "stderr",
          "text": [
            "/usr/local/lib/python3.10/dist-packages/huggingface_hub/file_download.py:1132: FutureWarning: `resume_download` is deprecated and will be removed in version 1.0.0. Downloads always resume when possible. If you want to force a new download, use `force_download=True`.\n",
            "  warnings.warn(\n",
            "Some weights of BertForSequenceClassification were not initialized from the model checkpoint at UBC-NLP/MARBERT and are newly initialized: ['classifier.bias', 'classifier.weight']\n",
            "You should probably TRAIN this model on a down-stream task to be able to use it for predictions and inference.\n"
          ]
        }
      ],
      "source": [
        "model = BertForSequenceClassification.from_pretrained(\n",
        "    checkpoint,\n",
        "    num_labels = 2,\n",
        "    id2label = id2label,\n",
        "    label2id = label2id)"
      ]
    },
    {
      "cell_type": "markdown",
      "metadata": {
        "id": "nmnyjzrTj3m-"
      },
      "source": [
        ">### **3.5. Create Data Collator (Padding)**"
      ]
    },
    {
      "cell_type": "code",
      "execution_count": null,
      "metadata": {
        "id": "MaH2p8JP6jIS"
      },
      "outputs": [],
      "source": [
        "data_collator = DataCollatorWithPadding(tokenizer = tokenizer)"
      ]
    },
    {
      "cell_type": "markdown",
      "metadata": {
        "id": "_tWxuQ8fkD_o"
      },
      "source": [
        ">### **3.6. Define Training Parameters**"
      ]
    },
    {
      "cell_type": "markdown",
      "metadata": {
        "id": "lGgSkQaKi1ZP"
      },
      "source": [
        ">>#### **3.6.1. Define Evaluation Metrics**"
      ]
    },
    {
      "cell_type": "code",
      "execution_count": null,
      "metadata": {
        "id": "xm0sVlKSFqI1"
      },
      "outputs": [],
      "source": [
        "def custom_metrics(eval_pred):\n",
        "    metric1 = evaluate.load(\"precision\")\n",
        "    metric2 = evaluate.load(\"recall\")\n",
        "    metric3 = evaluate.load(\"f1\", trust_remote_code=True)\n",
        "    metric4 = evaluate.load(\"accuracy\")\n",
        "\n",
        "    logits, labels = eval_pred\n",
        "    predictions = np.argmax(logits, axis = -1)\n",
        "\n",
        "    precision = metric1.compute(\n",
        "        predictions = predictions,\n",
        "        references = labels,\n",
        "        average = \"macro\")[\"precision\"]\n",
        "\n",
        "    recall = metric2.compute(\n",
        "        predictions = predictions,\n",
        "        references = labels,\n",
        "        average = \"macro\")[\"recall\"]\n",
        "\n",
        "    f1 = metric3.compute(\n",
        "        predictions = predictions,\n",
        "        references = labels,\n",
        "        average = \"macro\")[\"f1\"]\n",
        "\n",
        "    accuracy = metric4.compute(\n",
        "        predictions = predictions,\n",
        "        references = labels)[\"accuracy\"]\n",
        "\n",
        "    return {\"precision\": precision,\n",
        "            \"recall\": recall,\n",
        "            \"f1\": f1,\n",
        "            \"accuracy\": accuracy}"
      ]
    },
    {
      "cell_type": "markdown",
      "metadata": {
        "id": "uiOzj4axi6tr"
      },
      "source": [
        ">>#### **3.6.2. Define Training Arguments**"
      ]
    },
    {
      "cell_type": "code",
      "execution_count": null,
      "metadata": {
        "id": "E7TApzMKmlCo"
      },
      "outputs": [],
      "source": [
        "BATCH_SIZE = 128\n",
        "CHECKPOINT_NAME = \"Test\"\n",
        "\n",
        "training_args = TrainingArguments(\n",
        "    output_dir                  = CHECKPOINT_NAME,\n",
        "    logging_dir                 = f\"{LOGS_PATH}/{CHECKPOINT_NAME}-{RANDOM_SEED}\",\n",
        "    overwrite_output_dir        = True,\n",
        "    evaluation_strategy         = \"epoch\",\n",
        "\n",
        "    per_device_train_batch_size = BATCH_SIZE,\n",
        "    per_device_eval_batch_size  = BATCH_SIZE,\n",
        "    gradient_accumulation_steps = 4,\n",
        "    optim                       = \"adamw_torch\",\n",
        "    learning_rate               = 5e-5,\n",
        "    weight_decay                = 0.01,\n",
        "    num_train_epochs            = 20,\n",
        "    warmup_steps                = 2,\n",
        "\n",
        "    logging_strategy            = \"epoch\",\n",
        "    save_strategy               = \"epoch\",\n",
        "    save_total_limit            = 4,\n",
        "\n",
        "    load_best_model_at_end      = True,\n",
        "    metric_for_best_model       = \"eval_f1\",\n",
        "    greater_is_better           = True,\n",
        "\n",
        "    fp16                        = True,\n",
        "    seed                        = RANDOM_SEED,\n",
        ")"
      ]
    },
    {
      "cell_type": "markdown",
      "metadata": {
        "id": "uSwFw7Ani_-7"
      },
      "source": [
        ">>#### **3.6.3. Create Trainer**"
      ]
    },
    {
      "cell_type": "code",
      "execution_count": null,
      "metadata": {
        "id": "1oXJazglmz2f"
      },
      "outputs": [],
      "source": [
        "trainer = Trainer(\n",
        "    model           = model,\n",
        "    tokenizer       = tokenizer,\n",
        "    args            = training_args,\n",
        "    train_dataset   = tokenized_dataset[\"train\"],\n",
        "    eval_dataset    = tokenized_dataset[\"validation\"],\n",
        "    data_collator   = data_collator,\n",
        "    compute_metrics = custom_metrics,\n",
        ")"
      ]
    },
    {
      "cell_type": "markdown",
      "metadata": {
        "id": "GXJGEZ8ckNeH"
      },
      "source": [
        ">### **3.7. Train Model**"
      ]
    },
    {
      "cell_type": "code",
      "execution_count": null,
      "metadata": {
        "colab": {
          "base_uri": "https://localhost:8080/",
          "height": 513
        },
        "id": "D9G3fLOtvyFJ",
        "outputId": "80e7e489-e687-4475-edb8-3bfb8de14962"
      },
      "outputs": [
        {
          "data": {
            "text/html": [
              "\n",
              "    <div>\n",
              "      \n",
              "      <progress value='100' max='100' style='width:300px; height:20px; vertical-align: middle;'></progress>\n",
              "      [100/100 07:39, Epoch 18/20]\n",
              "    </div>\n",
              "    <table border=\"1\" class=\"dataframe\">\n",
              "  <thead>\n",
              " <tr style=\"text-align: left;\">\n",
              "      <th>Epoch</th>\n",
              "      <th>Training Loss</th>\n",
              "      <th>Validation Loss</th>\n",
              "      <th>Precision</th>\n",
              "      <th>Recall</th>\n",
              "      <th>F1</th>\n",
              "      <th>Accuracy</th>\n",
              "    </tr>\n",
              "  </thead>\n",
              "  <tbody>\n",
              "    <tr>\n",
              "      <td>0</td>\n",
              "      <td>0.628300</td>\n",
              "      <td>0.374608</td>\n",
              "      <td>0.442211</td>\n",
              "      <td>0.500000</td>\n",
              "      <td>0.469333</td>\n",
              "      <td>0.884422</td>\n",
              "    </tr>\n",
              "    <tr>\n",
              "      <td>2</td>\n",
              "      <td>0.247700</td>\n",
              "      <td>0.178581</td>\n",
              "      <td>0.856638</td>\n",
              "      <td>0.843071</td>\n",
              "      <td>0.849669</td>\n",
              "      <td>0.939698</td>\n",
              "    </tr>\n",
              "    <tr>\n",
              "      <td>4</td>\n",
              "      <td>0.066500</td>\n",
              "      <td>0.168071</td>\n",
              "      <td>0.873308</td>\n",
              "      <td>0.866230</td>\n",
              "      <td>0.869722</td>\n",
              "      <td>0.947236</td>\n",
              "    </tr>\n",
              "    <tr>\n",
              "      <td>6</td>\n",
              "      <td>0.018300</td>\n",
              "      <td>0.234890</td>\n",
              "      <td>0.856638</td>\n",
              "      <td>0.843071</td>\n",
              "      <td>0.849669</td>\n",
              "      <td>0.939698</td>\n",
              "    </tr>\n",
              "    <tr>\n",
              "      <td>8</td>\n",
              "      <td>0.013500</td>\n",
              "      <td>0.290856</td>\n",
              "      <td>0.916106</td>\n",
              "      <td>0.809536</td>\n",
              "      <td>0.852444</td>\n",
              "      <td>0.947236</td>\n",
              "    </tr>\n",
              "    <tr>\n",
              "      <td>10</td>\n",
              "      <td>0.006500</td>\n",
              "      <td>0.312513</td>\n",
              "      <td>0.861289</td>\n",
              "      <td>0.833622</td>\n",
              "      <td>0.846687</td>\n",
              "      <td>0.939698</td>\n",
              "    </tr>\n",
              "    <tr>\n",
              "      <td>12</td>\n",
              "      <td>0.004100</td>\n",
              "      <td>0.316186</td>\n",
              "      <td>0.880447</td>\n",
              "      <td>0.836462</td>\n",
              "      <td>0.856600</td>\n",
              "      <td>0.944724</td>\n",
              "    </tr>\n",
              "    <tr>\n",
              "      <td>14</td>\n",
              "      <td>0.004000</td>\n",
              "      <td>0.406881</td>\n",
              "      <td>0.809582</td>\n",
              "      <td>0.843997</td>\n",
              "      <td>0.825449</td>\n",
              "      <td>0.924623</td>\n",
              "    </tr>\n",
              "    <tr>\n",
              "      <td>16</td>\n",
              "      <td>0.003800</td>\n",
              "      <td>0.369543</td>\n",
              "      <td>0.848253</td>\n",
              "      <td>0.841650</td>\n",
              "      <td>0.844907</td>\n",
              "      <td>0.937186</td>\n",
              "    </tr>\n",
              "    <tr>\n",
              "      <td>18</td>\n",
              "      <td>0.014400</td>\n",
              "      <td>0.365536</td>\n",
              "      <td>0.856638</td>\n",
              "      <td>0.843071</td>\n",
              "      <td>0.849669</td>\n",
              "      <td>0.939698</td>\n",
              "    </tr>\n",
              "  </tbody>\n",
              "</table><p>"
            ],
            "text/plain": [
              "<IPython.core.display.HTML object>"
            ]
          },
          "metadata": {},
          "output_type": "display_data"
        },
        {
          "metadata": {
            "tags": null
          },
          "name": "stderr",
          "output_type": "stream",
          "text": [
            "/usr/local/lib/python3.10/dist-packages/sklearn/metrics/_classification.py:1344: UndefinedMetricWarning: Precision is ill-defined and being set to 0.0 in labels with no predicted samples. Use `zero_division` parameter to control this behavior.\n",
            "  _warn_prf(average, modifier, msg_start, len(result))\n",
            "/usr/local/lib/python3.10/dist-packages/sklearn/metrics/_classification.py:1344: UndefinedMetricWarning: Precision is ill-defined and being set to 0.0 in labels with no predicted samples. Use `zero_division` parameter to control this behavior.\n",
            "  _warn_prf(average, modifier, msg_start, len(result))\n"
          ]
        },
        {
          "data": {
            "text/plain": [
              "TrainOutput(global_step=100, training_loss=0.07865446173585951, metrics={'train_runtime': 460.175, 'train_samples_per_second': 121.78, 'train_steps_per_second': 0.217, 'total_flos': 1244905847325600.0, 'train_loss': 0.07865446173585951, 'epoch': 18.181818181818183})"
            ]
          },
          "execution_count": 95,
          "metadata": {},
          "output_type": "execute_result"
        }
      ],
      "source": [
        "train_result = trainer.train()\n",
        "train_result"
      ]
    },
    {
      "cell_type": "code",
      "execution_count": null,
      "metadata": {
        "id": "qt-zMlCpxhBk"
      },
      "outputs": [],
      "source": [
        "import gc\n",
        "\n",
        "del tokenizer\n",
        "del model\n",
        "del training_args\n",
        "del trainer\n",
        "torch.cuda.empty_cache()\n",
        "gc.collect()"
      ]
    },
    {
      "cell_type": "code",
      "execution_count": null,
      "metadata": {
        "id": "QfkPWDktUE6x"
      },
      "outputs": [],
      "source": [
        "# Save model to Google Drive\n",
        "trainer.save_model(f\"{MODELS_PATH}/MARBERT-finetuned-HateSpeech-{DS_NAME}-baseline-nopreprocessing-{RANDOM_SEED}\")\n",
        "# trainer.save_model(f\"TEST_MODEL\")"
      ]
    },
    {
      "cell_type": "markdown",
      "metadata": {
        "id": "JR-MRH5abFZs"
      },
      "source": [
        "## **4. Model Evaluation**\n",
        "---"
      ]
    },
    {
      "cell_type": "markdown",
      "metadata": {
        "id": "rqhXeUGYg_oR"
      },
      "source": [
        ">#### **4.1. Test Model**"
      ]
    },
    {
      "cell_type": "markdown",
      "metadata": {
        "id": "d3vAZ6l4Hjr3"
      },
      "source": [
        ">>##### **4.1.1. Training Dataset**"
      ]
    },
    {
      "cell_type": "code",
      "execution_count": null,
      "metadata": {
        "colab": {
          "base_uri": "https://localhost:8080/",
          "height": 228
        },
        "id": "QupxWbxWHiEq",
        "outputId": "66679026-d9c4-4ce6-ed7c-abd3392256fe"
      },
      "outputs": [
        {
          "output_type": "display_data",
          "data": {
            "text/plain": [
              "<IPython.core.display.HTML object>"
            ],
            "text/html": [
              "\n",
              "    <div>\n",
              "      \n",
              "      <progress value='22' max='22' style='width:300px; height:20px; vertical-align: middle;'></progress>\n",
              "      [22/22 00:02]\n",
              "    </div>\n",
              "    "
            ]
          },
          "metadata": {}
        },
        {
          "output_type": "stream",
          "name": "stdout",
          "text": [
            "***** train metrics *****\n",
            "  epoch                   =    18.1818\n",
            "  eval_accuracy           =     0.9925\n",
            "  eval_f1                 =     0.9818\n",
            "  eval_loss               =     0.0316\n",
            "  eval_precision          =     0.9798\n",
            "  eval_recall             =     0.9837\n",
            "  eval_runtime            = 0:00:04.43\n",
            "  eval_samples_per_second =    631.146\n",
            "  eval_steps_per_second   =      4.955\n",
            "  train_samples           =       2802\n"
          ]
        }
      ],
      "source": [
        "# Compute train metrics results\n",
        "train_metrics = trainer.evaluate(eval_dataset = tokenized_dataset[\"train\"])\n",
        "train_metrics[\"train_samples\"] = len(tokenized_dataset[\"train\"])\n",
        "\n",
        "# Save train metrics results\n",
        "trainer.log_metrics(\"train\", train_metrics)\n",
        "#trainer.save_metrics(\"train\", train_metrics)"
      ]
    },
    {
      "cell_type": "markdown",
      "metadata": {
        "id": "bkSPfy-whL0c"
      },
      "source": [
        ">>##### **4.1.2. Validation Dataset**"
      ]
    },
    {
      "cell_type": "code",
      "execution_count": null,
      "metadata": {
        "colab": {
          "base_uri": "https://localhost:8080/",
          "height": 228
        },
        "id": "lnffGOIY9mue",
        "outputId": "04ecafbe-3d6c-46aa-ef80-ca0be278dd15"
      },
      "outputs": [
        {
          "output_type": "display_data",
          "data": {
            "text/plain": [
              "<IPython.core.display.HTML object>"
            ],
            "text/html": [
              "\n",
              "    <div>\n",
              "      \n",
              "      <progress value='26' max='22' style='width:300px; height:20px; vertical-align: middle;'></progress>\n",
              "      [22/22 00:04]\n",
              "    </div>\n",
              "    "
            ]
          },
          "metadata": {}
        },
        {
          "output_type": "stream",
          "name": "stdout",
          "text": [
            "***** eval metrics *****\n",
            "  epoch                   =    18.1818\n",
            "  eval_accuracy           =     0.9472\n",
            "  eval_f1                 =     0.8697\n",
            "  eval_loss               =     0.1681\n",
            "  eval_precision          =     0.8733\n",
            "  eval_recall             =     0.8662\n",
            "  eval_runtime            = 0:00:03.67\n",
            "  eval_samples            =        398\n",
            "  eval_samples_per_second =    108.342\n",
            "  eval_steps_per_second   =      1.089\n"
          ]
        }
      ],
      "source": [
        "# Compute evaluation metrics results\n",
        "val_metrics = trainer.evaluate(eval_dataset = tokenized_dataset[\"validation\"])\n",
        "val_metrics[\"eval_samples\"] = len(tokenized_dataset[\"validation\"])\n",
        "\n",
        "# Save evaluation metrics results\n",
        "trainer.log_metrics(\"eval\", val_metrics)\n",
        "#trainer.save_metrics(\"eval\", val_metrics)"
      ]
    },
    {
      "cell_type": "markdown",
      "metadata": {
        "id": "DJ-xr-DMhQmD"
      },
      "source": [
        ">>##### **4.1.3. Test Dataset**"
      ]
    },
    {
      "cell_type": "code",
      "execution_count": null,
      "metadata": {
        "colab": {
          "base_uri": "https://localhost:8080/",
          "height": 191
        },
        "id": "T0sn5-IThTTe",
        "outputId": "31bf40fe-cd55-4abb-dab6-0f1712c57910"
      },
      "outputs": [
        {
          "output_type": "display_data",
          "data": {
            "text/plain": [
              "<IPython.core.display.HTML object>"
            ],
            "text/html": []
          },
          "metadata": {}
        },
        {
          "output_type": "stream",
          "name": "stdout",
          "text": [
            "***** test metrics *****\n",
            "  test_accuracy           =     0.9494\n",
            "  test_f1                 =     0.8772\n",
            "  test_loss               =     0.1484\n",
            "  test_precision          =     0.8721\n",
            "  test_recall             =     0.8825\n",
            "  test_runtime            = 0:00:03.80\n",
            "  test_samples            =        811\n",
            "  test_samples_per_second =    212.871\n",
            "  test_steps_per_second   =      1.837\n"
          ]
        }
      ],
      "source": [
        "# Compute Test metrics results\n",
        "test_predictions, test_labels, test_metrics = trainer.predict(tokenized_dataset['test'])\n",
        "test_metrics[\"test_samples\"] = len(tokenized_dataset[\"test\"])\n",
        "\n",
        "# Save Test metrics results\n",
        "trainer.log_metrics(\"test\", test_metrics)\n",
        "#trainer.save_metrics(\"test\", test_metrics)"
      ]
    },
    {
      "cell_type": "markdown",
      "metadata": {
        "id": "9NErpWQI3JU2"
      },
      "source": [
        ">#### **4.1. Error Analysis**"
      ]
    },
    {
      "cell_type": "code",
      "execution_count": null,
      "metadata": {
        "id": "zinXqNf9q33p"
      },
      "outputs": [],
      "source": [
        "loaded_model = BertForSequenceClassification.from_pretrained(\n",
        "    f\"{MODELS_PATH}/MARBERT-finetuned-HateSpeech-{DS_NAME}-baseline-nopreprocessing-{RANDOM_SEED}\",\n",
        "    num_labels = 2,\n",
        "    id2label = id2label,\n",
        "    label2id = label2id)\n",
        "\n",
        "loaded_trainer = Trainer(\n",
        "    model           = loaded_model,\n",
        "    tokenizer       = tokenizer,\n",
        "    args            = training_args,\n",
        "    train_dataset   = tokenized_dataset[\"train\"],\n",
        "    eval_dataset    = tokenized_dataset[\"validation\"],\n",
        "    data_collator   = data_collator,\n",
        "    compute_metrics = custom_metrics,\n",
        ")"
      ]
    },
    {
      "cell_type": "code",
      "execution_count": null,
      "metadata": {
        "id": "WRbS-Yklma2r"
      },
      "outputs": [],
      "source": [
        "test_predictions, test_labels, test_metrics = trainer.predict(tokenized_dataset['test'])"
      ]
    },
    {
      "cell_type": "code",
      "execution_count": null,
      "metadata": {
        "id": "Em0stoJ0p2ga"
      },
      "outputs": [],
      "source": [
        "def analyse_errors(type, predictions, true_labels, data):\n",
        "    samples = []\n",
        "\n",
        "    # Get True Positive samples (HS classified as HS)\n",
        "    if type == \"TP\":\n",
        "        for idx, sample in enumerate(data):\n",
        "            if (predictions[idx] == 1) & (true_labels[idx] == 1):\n",
        "                samples.append(sample)\n",
        "\n",
        "    # Get True Negative samples (HS classified as NOT_HS)\n",
        "    elif type == \"TN\":\n",
        "        for idx, sample in enumerate(data):\n",
        "            if (predictions[idx] == 0) & (true_labels[idx] == 0):\n",
        "                samples.append(sample)\n",
        "\n",
        "    # Get False Positive samples (NOT_HS classified as HS)\n",
        "    elif type == \"FP\":\n",
        "        for idx, sample in enumerate(data):\n",
        "            if (predictions[idx] == 1) & (true_labels[idx] == 0):\n",
        "                samples.append(sample)\n",
        "\n",
        "    # Get False Negative samples (HS classified as NOT_HS)\n",
        "    elif type == \"FN\":\n",
        "        for idx, sample in enumerate(data):\n",
        "            if (predictions[idx] == 0) & (true_labels[idx] == 1):\n",
        "                samples.append(sample)\n",
        "\n",
        "    return samples"
      ]
    },
    {
      "cell_type": "code",
      "execution_count": null,
      "metadata": {
        "id": "tyqlgK9OpQhR"
      },
      "outputs": [],
      "source": [
        "preds = np.argmax(test_predictions, axis = -1)\n",
        "\n",
        "tp_samples = analyse_errors(\"TP\", preds, test_labels, tokenized_dataset[\"test\"])\n",
        "tn_samples = analyse_errors(\"TN\", preds, test_labels, tokenized_dataset[\"test\"])\n",
        "fp_samples = analyse_errors(\"FP\", preds, test_labels, tokenized_dataset[\"test\"])\n",
        "fn_samples = analyse_errors(\"FN\", preds, test_labels, tokenized_dataset[\"test\"])\n",
        "\n",
        "print(f\"TP count: {len(tp_samples)}\")\n",
        "print(f\"TN count: {len(tn_samples)}\")\n",
        "print(f\"FN count: {len(fn_samples)}\")\n",
        "print(f\"FP count: {len(fp_samples)}\")"
      ]
    },
    {
      "cell_type": "code",
      "execution_count": null,
      "metadata": {
        "id": "IXO80ARpveej"
      },
      "outputs": [],
      "source": [
        "for idx, sample in enumerate(tp_samples):\n",
        "    print(f\"{tokenizer.decode(sample['old_input_ids'])}\")"
      ]
    },
    {
      "cell_type": "code",
      "execution_count": null,
      "metadata": {
        "id": "VM8WUNR8woNf"
      },
      "outputs": [],
      "source": [
        "for idx, sample in enumerate(tn_samples):\n",
        "    print(f\"{tokenizer.decode(sample['old_input_ids'])}\")"
      ]
    },
    {
      "cell_type": "code",
      "execution_count": null,
      "metadata": {
        "id": "g_Feiwp6wo_O"
      },
      "outputs": [],
      "source": [
        "for idx, sample in enumerate(fn_samples):\n",
        "    print(f\"{tokenizer.decode(sample['old_input_ids'])}\")"
      ]
    },
    {
      "cell_type": "code",
      "execution_count": null,
      "metadata": {
        "id": "xRs8E3irwqav"
      },
      "outputs": [],
      "source": [
        "for idx, sample in enumerate(fp_samples):\n",
        "    print(f\"{tokenizer.decode(sample['old_input_ids'])}\")"
      ]
    },
    {
      "cell_type": "markdown",
      "metadata": {
        "id": "SoGZeC3tTtT3"
      },
      "source": [
        "## **5. Model Interpretability**\n",
        "---"
      ]
    },
    {
      "cell_type": "code",
      "execution_count": null,
      "metadata": {
        "id": "k69FBSTcBHfY"
      },
      "outputs": [],
      "source": [
        "# Select GPU if available\n",
        "device = torch.device(\"cuda:0\" if torch.cuda.is_available() else \"cpu\")\n",
        "explain_model_path = f\"{MODELS_PATH}/MARBERT-finetuned-HateSpeech-{DS_NAME}-baseline-nopreprocessing-{RANDOM_SEED}\"\n",
        "# explain_model_path = \"TEST_MODEL\""
      ]
    },
    {
      "cell_type": "markdown",
      "metadata": {
        "id": "7W0hve3e-hJ-"
      },
      "source": [
        ">### **Helper Functions**"
      ]
    },
    {
      "cell_type": "code",
      "execution_count": null,
      "metadata": {
        "id": "z4Q7FzTk-mfY"
      },
      "outputs": [],
      "source": [
        "def tokenize_input_baseline(text: list) -> tuple[BatchEncoding, dict]:\n",
        "    \"\"\"\n",
        "    A function that tokenizes and encodes Inputs/Baselines. The function\n",
        "    constructs: Inputs/Baselines IDs, Inputs/Baselines Token Type IDs,\n",
        "    Inputs/Baselines Position IDs, Inputs Attention Masks\n",
        "\n",
        "    Arguments:\n",
        "        text: Input text (tweets)\n",
        "\n",
        "    Returns:\n",
        "        input_tokens: Tokenized Input (IDs, Token Types, Positions, Attention Masks)\n",
        "        baseline_tokens: Tokenized Baseline (IDs, Token Types, Positions)\n",
        "    \"\"\"\n",
        "\n",
        "    # IDs of special [CLS], [PAD], and [SEP] tokens\n",
        "    cls_token_id = tokenizer.cls_token_id # CLS token id ([CLS] in BERT= 2)\n",
        "    pad_token_id = tokenizer.pad_token_id # PAD token id ([PAD] in BERT= 0)\n",
        "    sep_token_id = tokenizer.sep_token_id # SEP token id ([SEP] in BERT= 3)\n",
        "\n",
        "    # Create Input Token IDs,Input Token Type IDs, Input Attention Masks\n",
        "    # Encode tokens and get Input IDs, Token Type IDs, and Attention Masks\n",
        "    # Example: text = ['هذا مثال', 'لدينا ثلاث كلمات', 'ما هو تعريف الحياة']\n",
        "    # (Ex) input_tokens = {'input_ids': [[2, 2158, 10941, 3, 0, 0],\n",
        "    #                                   [2, 7686, 2902, 4796, 3, 0],\n",
        "    #                                   [2, 1962, 2098, 15106, 2456, 3]],\n",
        "    #                     'token_type_ids': [[0, 0, 0, 0, 0, 0],\n",
        "    #                                        [0, 0, 0, 0, 0, 0],\n",
        "    #                                        [0, 0, 0, 0, 0, 0]],\n",
        "    #                     'attention_mask': [[1, 1, 1, 1, 0, 0],\n",
        "    #                                        [1, 1, 1, 1, 1, 0],\n",
        "    #                                        [1, 1, 1, 1, 1, 1]]}\n",
        "    input_tokens = tokenizer(text, padding = True, return_tensors='pt')\n",
        "\n",
        "    # Create Baseline Token IDs\n",
        "    # Iterate through input_ids, then iterate through each encoded sequence (seq),\n",
        "    # for each token (tok) in sequence (seq), construct a baseline token ids list\n",
        "    # where each token is [PAD] unless it's [CLS] or [SEP].\n",
        "    # Example: input_ids = [[2, 2158, 2538, 66249, 3, 0], [2, 512, 3, 0, 0]]\n",
        "    # (Ex) base_input_ids= [[2,    0,    0,     0, 3, 0], [2,   0, 3, 0, 0]]\n",
        "    base_input_ids = [\n",
        "        [tok if tok in (cls_token_id, sep_token_id) else pad_token_id for tok in seq]\n",
        "        for seq in input_tokens['input_ids']\n",
        "    ]\n",
        "\n",
        "    # Create Baseline Token Type IDs\n",
        "    # (Ex) base_token_type_ids = [[0, 0, 0, 0, 0, 0], [0, 0, 0, 0, 0, 0]]\n",
        "    base_token_type_ids = [\n",
        "        list(np.zeros(len(seq), dtype=int)) for seq in input_tokens['input_ids']\n",
        "    ]\n",
        "\n",
        "    # Create Position IDs for Inputs\n",
        "    # They are used by the model to identify each token’s position in the list of tokens.\n",
        "    # (Ex) position_ids = [[0, 1, 2, 3, 4, 5], [0, 1, 2, 3, 4, 5]]\n",
        "    position_ids = [\n",
        "        list(range(len(seq))) for seq in input_tokens['input_ids']\n",
        "    ]\n",
        "    # Add position ids to dict\n",
        "    input_tokens['position_ids'] = torch.tensor(position_ids, dtype = torch.int64)\n",
        "\n",
        "    # Create Position IDs for Baselines\n",
        "    # (Ex) position_ids = [[0, 0, 0, 0, 0, 0], [0, 0, 0, 0, 0, 0]]\n",
        "    base_position_ids = [\n",
        "        list(np.zeros(len(seq), dtype=int)) for seq in input_tokens['input_ids']\n",
        "    ]\n",
        "\n",
        "    # Create a dictionary to hold baseline tokens\n",
        "    baseline_tokens = {}\n",
        "    baseline_tokens['base_input_ids'] = torch.tensor(\n",
        "        base_input_ids,\n",
        "        dtype = torch.int64,\n",
        "        device = device\n",
        "    )\n",
        "    baseline_tokens['base_token_type_ids'] = torch.tensor(\n",
        "        base_token_type_ids,\n",
        "        dtype = torch.int64,\n",
        "        device = device\n",
        "    )\n",
        "    baseline_tokens['base_position_ids'] = torch.tensor(\n",
        "        base_position_ids,\n",
        "        dtype = torch.int64,\n",
        "        device = device\n",
        "    )\n",
        "\n",
        "    return input_tokens, baseline_tokens"
      ]
    },
    {
      "cell_type": "code",
      "execution_count": null,
      "metadata": {
        "id": "-b7bw0aN6CD5"
      },
      "outputs": [],
      "source": [
        "def detokenize_input(sub_text_tokens: list, sub_sum_attributions: list) -> tuple[list, list]:\n",
        "    \"\"\"\n",
        "    A function that detokenizes inputs that BERT tokenizer has broken into subwords.\n",
        "    Subwords are combined back into words, and their attributions are added to form\n",
        "    a single attribution per word\n",
        "\n",
        "    Arguments:\n",
        "        sub_text_tokens: Tokens (subwords) in textual format\n",
        "        sub_sum_attributions: Summarized (subwords) attributions\n",
        "    Returns:\n",
        "        text_tokens: list of tokens after combining subwords\n",
        "        sum_attributions: Summarized attributions after combining subwords\n",
        "    \"\"\"\n",
        "    text_tokens = []\n",
        "    sum_attributions = []\n",
        "    for bidx, batch in enumerate(sub_text_tokens):\n",
        "\n",
        "        new_batch_toks = []\n",
        "        new_batch_attrs = []\n",
        "        for sidx, sequence in enumerate(batch):\n",
        "\n",
        "            new_seq_toks = []\n",
        "            new_seq_attrs = []\n",
        "            for idx, token in enumerate(sequence):\n",
        "                # If token starts with ## (meaning it's part of previous token)\n",
        "                if(token.startswith(\"##\")):\n",
        "                    # Pop last token added then combine it with current token\n",
        "                    # after removing the ##\n",
        "                    new_token = new_seq_toks.pop(-1) + token[2:]\n",
        "\n",
        "                    # Pop last attribution added then add it to current token\n",
        "                    # attribution\n",
        "                    new_attr = new_seq_attrs.pop(-1) + sub_sum_attributions[bidx][sidx][idx]\n",
        "\n",
        "                    # Add reconstructed token and its attribution to sequence lists\n",
        "                    new_seq_toks.append(new_token)\n",
        "                    new_seq_attrs.append(new_attr)\n",
        "                # If token doesn't start with ##, just add it (and its attribution)\n",
        "                # to the appropriate list\n",
        "                else:\n",
        "                    new_seq_toks.append(token)\n",
        "                    new_seq_attrs.append(sub_sum_attributions[bidx][sidx][idx])\n",
        "            new_batch_toks.append(new_seq_toks)\n",
        "            new_batch_attrs.append(new_seq_attrs)\n",
        "\n",
        "        text_tokens.append(new_batch_toks)\n",
        "        sum_attributions.append(new_batch_attrs)\n",
        "\n",
        "    return text_tokens, sum_attributions"
      ]
    },
    {
      "cell_type": "code",
      "execution_count": null,
      "metadata": {
        "id": "Qie2pSde_F1A"
      },
      "outputs": [],
      "source": [
        "def create_token_attribution_pairs(norm_attributions: Tensor, text_tokens: list) -> list:\n",
        "    \"\"\"\n",
        "    Create pairs of Token/Attribution\n",
        "\n",
        "    Arguments:\n",
        "        norm_attributions: Summarized & normalized attributions\n",
        "        text_tokens: Tokens in textual format\n",
        "\n",
        "    Returns:\n",
        "        ta_pairs: A list of Token/Attribution pairs\n",
        "    \"\"\"\n",
        "    ta_pairs = []\n",
        "    for bidx, batch in enumerate(norm_attributions):\n",
        "        b_text_tokens = text_tokens[bidx]\n",
        "        for idx, seq_attrs in enumerate(batch):\n",
        "            # Create a map of individual words and their attributions\n",
        "            # This list contains duplicates\n",
        "            pairs = [\n",
        "                (b_text_tokens[idx][j], batch[idx][j]) for j in np.argsort(seq_attrs)\n",
        "            ]\n",
        "            ta_pairs.append(pairs)\n",
        "\n",
        "    return ta_pairs"
      ]
    },
    {
      "cell_type": "code",
      "execution_count": null,
      "metadata": {
        "id": "ENN-axYt_Krr"
      },
      "outputs": [],
      "source": [
        "def get_vocab_attributions(token_attribution_pairs: list) -> dict:\n",
        "    \"\"\"\n",
        "    Filter Token/Attribution pairs to keep unique tokens (vocabulary)\n",
        "\n",
        "    Arguments:\n",
        "        token_attribution_pairs: A list of Token/Attribution pairs\n",
        "\n",
        "    Returns:\n",
        "        vocab_attribution_map: A dictionary of Token/Attribution\n",
        "    \"\"\"\n",
        "    vocab_attribution_map = {}\n",
        "    # Sort Token/Attribution pairs by highest attribution. In case of\n",
        "    # duplicate token, only keep the highest attribution\n",
        "    for batch in token_attribution_pairs:\n",
        "        for token, attribution in batch:\n",
        "            # Check if token already exists\n",
        "            if token in vocab_attribution_map:\n",
        "                # If it does, check if the current attribution is higher\n",
        "                # than the stored one\n",
        "                if attribution > vocab_attribution_map[token]['attribution']:\n",
        "                    # If true, store the higher attribution\n",
        "                    vocab_attribution_map[token]['attribution'] = attribution\n",
        "                    # Increase token count by 1\n",
        "                    vocab_attribution_map[token]['count'] += 1\n",
        "            else:\n",
        "                # If token is new\n",
        "                vocab_attribution_map[token] = {'attribution': attribution,\n",
        "                                                'count': 1}\n",
        "\n",
        "    # Sort Token/Attribution pair in the dict by attribution (descending)\n",
        "    sorted_map = sorted(\n",
        "        vocab_attribution_map.items(), key=lambda item: -item[1]['attribution']\n",
        "    )\n",
        "    vocab_attribution_map = dict(sorted_map)\n",
        "\n",
        "    return vocab_attribution_map"
      ]
    },
    {
      "cell_type": "code",
      "execution_count": null,
      "metadata": {
        "id": "ioCdel04-1Fj"
      },
      "outputs": [],
      "source": [
        "def create_visualization_records(\n",
        "    norm_attributions: Tensor,\n",
        "    deltas: Tensor,\n",
        "    predictions: Tensor,\n",
        "    text_tokens: list,\n",
        "    true_labels: list,\n",
        "    target_label: int) -> list:\n",
        "    \"\"\"\n",
        "    Create a visualization record for each entry in attributions\n",
        "\n",
        "    Arguments:\n",
        "        norm_attributions: Summarized and normalized attributions\n",
        "        deltas: Convergence scores\n",
        "        predictions: Predictions for inputs\n",
        "        text_tokens: Tokens in textual format\n",
        "        label: integer representing the class to attribute to\n",
        "\n",
        "    Returns:\n",
        "        vis_records: A list of visualization records\n",
        "    \"\"\"\n",
        "    vis_records = []\n",
        "    # Create visualization record for each text in batch and add to list\n",
        "    for bidx, batch in enumerate(norm_attributions):\n",
        "        for idx, seq_norm_attr in enumerate(batch):\n",
        "            vis_records.append(capviz.VisualizationDataRecord(\n",
        "                word_attributions = seq_norm_attr,\n",
        "                pred_prob = torch.softmax(predictions[bidx][idx], dim = -1)[target_label],\n",
        "                pred_class = id2label.get(torch.argmax(torch.softmax(predictions[bidx][idx], dim = -1)).item()),\n",
        "                true_class = id2label.get(true_labels[bidx][idx].item()),\n",
        "                attr_class = id2label.get(target_label),\n",
        "                attr_score = sum(seq_norm_attr),\n",
        "                raw_input_ids = text_tokens[bidx][idx],\n",
        "                convergence_score = deltas[bidx][idx]))\n",
        "\n",
        "    return vis_records"
      ]
    },
    {
      "cell_type": "code",
      "execution_count": null,
      "metadata": {
        "id": "UDTw1lD4AD4B"
      },
      "outputs": [],
      "source": [
        "def visualize_results(vis_records: list) -> HTML:\n",
        "    \"\"\"\n",
        "    Print visualizations of attribution records\n",
        "\n",
        "    Arguments:\n",
        "        vis_records: A list of visualization records\n",
        "\n",
        "    Returns:\n",
        "        html_vis: Text visualization in HTML format\n",
        "    \"\"\"\n",
        "    print('Visualize attributions based on Integrated Gradients')\n",
        "    html_vis = capviz.visualize_text(vis_records)\n",
        "\n",
        "    return html_vis"
      ]
    },
    {
      "cell_type": "code",
      "execution_count": null,
      "metadata": {
        "id": "GNyfA-tl5saH"
      },
      "outputs": [],
      "source": [
        "def save_attributions(attributions, name, type, target_label, norm):\n",
        "    \"\"\"\n",
        "    Save attributions in a file\n",
        "\n",
        "    Arguments:\n",
        "        attributions: A dictionary containing all attribution data\n",
        "        name: A string, name of the dataset attributions are for. i.e. (OSACT)\n",
        "        target_label: A string, name of the label used to get attributions\n",
        "        norm: A string, normalization method used\n",
        "    \"\"\"\n",
        "\n",
        "    with open(\n",
        "        f\"{ATTRIBUTIONS_PATH}/{name}/{RANDOM_SEED}/\"\n",
        "        f\"LIG_{name}_{type}_{target_label}_{norm}_{RANDOM_SEED}.pkl\",\n",
        "        'wb'\n",
        "    ) as f:\n",
        "        pickle.dump(attributions, f)"
      ]
    },
    {
      "cell_type": "code",
      "execution_count": null,
      "metadata": {
        "id": "OwOI_RGs6wuu"
      },
      "outputs": [],
      "source": [
        "def load_attributions(name, type, target_label, norm):\n",
        "    \"\"\"\n",
        "    Load attributions from a file\n",
        "\n",
        "    Arguments:\n",
        "        name: A string, name of the dataset attributions are for. i.e. (OSACT)\n",
        "        target_label: A string, name of the label used to get attributions\n",
        "        norm: A string, normalization method used\n",
        "    Returns:\n",
        "        attributions: A dictionary containing all attribution data\n",
        "    \"\"\"\n",
        "    with open(\n",
        "        f\"{ATTRIBUTIONS_PATH}/{name}/{RANDOM_SEED}/\"\n",
        "        f\"LIG_{name}_{type}_{target_label}_{norm}_{RANDOM_SEED}.pkl\",\n",
        "        'rb'\n",
        "    ) as f:\n",
        "        attributions = pickle.load(f)\n",
        "\n",
        "    return attributions"
      ]
    },
    {
      "cell_type": "markdown",
      "metadata": {
        "id": "_7yBDKFKs_VX"
      },
      "source": [
        ">### **3.1. Layer Integrated Gradients**"
      ]
    },
    {
      "cell_type": "code",
      "execution_count": null,
      "metadata": {
        "id": "3kf0_uoF_PCC"
      },
      "outputs": [],
      "source": [
        "# Load model\n",
        "model = BertForSequenceClassification.from_pretrained(\n",
        "    explain_model_path,\n",
        "    num_labels = 2,\n",
        "    id2label = id2label,\n",
        "    label2id = label2id)\n",
        "\n",
        "model.to(device)  # Put model on GPU\n",
        "model.zero_grad() # Clear model gradients\n",
        "model.eval()      # Set model to evaluation mode\n",
        "\n",
        "# Load tokenizer\n",
        "tokenizer = BertTokenizerFast.from_pretrained(explain_model_path)"
      ]
    },
    {
      "cell_type": "markdown",
      "metadata": {
        "id": "0Jd6FF31q81Y"
      },
      "source": [
        ">>#### **Core Functions**"
      ]
    },
    {
      "cell_type": "code",
      "execution_count": null,
      "metadata": {
        "id": "Uev5YMHep0Ys"
      },
      "outputs": [],
      "source": [
        "def lig_predict(inputs: Tensor,\n",
        "                attention_mask: Tensor = None,\n",
        "                token_type_ids: Tensor = None,\n",
        "                position_ids: Tensor = None) -> Tensor:\n",
        "    \"\"\"\n",
        "    Custom prediction function that returns logits only.\n",
        "\n",
        "    Arguments:\n",
        "        inputs: Tensor of batch Input IDs\n",
        "        attention_mask: Tensor of batch Attention Masks\n",
        "        token_type_ids: Tensor of batch Token Type IDs\n",
        "        position_ids: Tensor of batch Position IDs\n",
        "\n",
        "    Returns:\n",
        "        A Tensor containing the logits of batch predictions\n",
        "    \"\"\"\n",
        "    output = model(inputs,\n",
        "                   attention_mask = attention_mask,\n",
        "                   token_type_ids = token_type_ids,\n",
        "                   position_ids = position_ids)\n",
        "\n",
        "    return output['logits']"
      ]
    },
    {
      "cell_type": "code",
      "execution_count": null,
      "metadata": {
        "id": "nfx_SSX5p9BZ"
      },
      "outputs": [],
      "source": [
        "def lig_forward(inputs: Tensor,\n",
        "                attention_mask: Tensor = None,\n",
        "                token_type_ids: Tensor = None,\n",
        "                position_ids: Tensor = None) -> Tensor:\n",
        "    \"\"\"\n",
        "    Custom forward function that uses Softmax function to convert predictions\n",
        "    output to probability distribution for both classes.\n",
        "\n",
        "    Arguments:\n",
        "        inputs: Tensor of batch Input IDs\n",
        "        attention_mask: Tensor of batch Attention Masks\n",
        "        token_type_ids: Tensor of batch Token Type IDs\n",
        "        position_ids: Tensor of batch Position IDs\n",
        "\n",
        "    Returns:\n",
        "        A Tensor containing the probabilities of each class\n",
        "    \"\"\"\n",
        "    predictions = lig_predict(inputs, attention_mask, token_type_ids, position_ids)\n",
        "    return torch.softmax(predictions, dim = 1)"
      ]
    },
    {
      "cell_type": "code",
      "execution_count": null,
      "metadata": {
        "id": "Gb_QLg0TqICe"
      },
      "outputs": [],
      "source": [
        "def lig_attribute(input_tokens: Tensor,\n",
        "                  baseline_tokens: Tensor,\n",
        "                  n_steps: int,\n",
        "                  internal_batch_size: int,\n",
        "                  label: int) -> tuple[list, Tensor, Tensor, list]:\n",
        "    \"\"\"\n",
        "    Calculate the attributions of input tokens in label predictions.\n",
        "\n",
        "    Arguments:\n",
        "        input_tokens: Tokenized Input (IDs, Token Types, Positions, Attention Masks)\n",
        "        baseline_tokens: Tokenized Baseline (IDs, Token Types, Positions)\n",
        "        n_steps: Number of steps for attribution algorithm\n",
        "        internal_batch_size: mini-batches size of attribution algorithm\n",
        "        label: integer representing the class to attribute to\n",
        "\n",
        "    Returns:\n",
        "        sub_sum_attributions: Subword summarized attributions\n",
        "        delta: Convergence score\n",
        "        predictions: Predictions for the current batch\n",
        "        sub_text_tokens: Subword tokens in textual format\n",
        "    \"\"\"\n",
        "\n",
        "    # Convert Token IDs to Subword Tokens for visualization\n",
        "    sub_text_tokens = [\n",
        "        tokenizer.convert_ids_to_tokens(seq) for seq in input_tokens['input_ids']\n",
        "    ]\n",
        "\n",
        "    # Create LIG object and pass the custom forward function and model embeddings\n",
        "    lig = LayerIntegratedGradients(\n",
        "        forward_func = lig_forward,\n",
        "        layer =  model.base_model.embeddings\n",
        "    )\n",
        "\n",
        "    # Caclulate attributions\n",
        "    attributions, delta = lig.attribute(\n",
        "        inputs = input_tokens['input_ids'],\n",
        "        baselines = baseline_tokens['base_input_ids'],\n",
        "        additional_forward_args = (input_tokens['attention_mask'],\n",
        "                                   input_tokens['token_type_ids'],\n",
        "                                   input_tokens['position_ids']),\n",
        "        n_steps = n_steps,\n",
        "        internal_batch_size = internal_batch_size,\n",
        "        target = label,\n",
        "        return_convergence_delta = True\n",
        "    )\n",
        "\n",
        "    # Predict\n",
        "    predictions = lig_predict(\n",
        "        input_tokens['input_ids'],\n",
        "        input_tokens['attention_mask'],\n",
        "        input_tokens['token_type_ids'],\n",
        "        input_tokens['position_ids']\n",
        "    )\n",
        "\n",
        "    # Summarize subword attributions values (sum of values in each embedding dim)\n",
        "    sub_sum_attributions_padded = attributions.sum(dim=-1)\n",
        "\n",
        "    # Create a list to add summed attributions after removing [PAD]. We\n",
        "    # create a new list instead of modifying the tensor because tensors\n",
        "    # can't have varying length data\n",
        "    sub_sum_attributions = []\n",
        "    # Remove [PAD] tokens and their attributions\n",
        "    for idx, seq in enumerate(sub_text_tokens):\n",
        "        # Find out the first [PAD] index\n",
        "        # if the sequence doesn't have [PAD], set pad_index to -1\n",
        "        pad_index = seq.index('[PAD]') if '[PAD]' in seq else -1\n",
        "        if pad_index != -1:\n",
        "            # Modify tokens from [CLS] to [SEP]\n",
        "            sub_text_tokens[idx] = seq[0:pad_index]\n",
        "            # Add corresponding attributions\n",
        "            sub_sum_attributions.append(sub_sum_attributions_padded[idx][0:pad_index])\n",
        "        else:\n",
        "            sub_sum_attributions.append(sub_sum_attributions_padded[idx])\n",
        "\n",
        "    return sub_sum_attributions, delta, predictions, sub_text_tokens"
      ]
    },
    {
      "cell_type": "code",
      "execution_count": null,
      "metadata": {
        "id": "-VCrlX6JqYQY"
      },
      "outputs": [],
      "source": [
        "def lig_normalize(attributions: list, level: str = 'none') -> list:\n",
        "    \"\"\"\n",
        "    Normalize attribution values (by row or by dataset)\n",
        "\n",
        "    Arguments:\n",
        "        attributions: list of summarized attributions.\n",
        "        level: level of normalization.\n",
        "            'none' : no normalization (default)\n",
        "            'sequence':  normalize each sequence with regards to attributions\n",
        "                 of that sequence only\n",
        "            'dataset': normalize sequence with regards to the entire dataset\n",
        "\n",
        "    Returns:\n",
        "        norm_attributions: Normalized attribution values\n",
        "    \"\"\"\n",
        "    norm_attributions = []\n",
        "\n",
        "    if level == 'none':\n",
        "        for batch in attributions:\n",
        "            norms = [attrs for attrs in batch]\n",
        "            norm_attributions.append(norms)\n",
        "\n",
        "    if level == 'sequence':\n",
        "        for batch in attributions:\n",
        "            norms = [attrs / np.linalg.norm(attrs) for attrs in batch]\n",
        "            norm_attributions.append(norms)\n",
        "\n",
        "    elif level == 'dataset':\n",
        "        flattened_sum_attrs = []\n",
        "        [flattened_sum_attrs.extend(seq) for batch in attributions for seq in batch]\n",
        "\n",
        "        for batch in attributions:\n",
        "            norms = [attrs / np.linalg.norm(flattened_sum_attrs) for attrs in batch]\n",
        "            norm_attributions.append(norms)\n",
        "\n",
        "    return norm_attributions"
      ]
    },
    {
      "cell_type": "code",
      "execution_count": null,
      "metadata": {
        "id": "VEwNAPRR0kh0"
      },
      "outputs": [],
      "source": [
        "def normalize_all(basic_results: dict,\n",
        "                  target_label: int = 1,\n",
        "                  norm_level: str = 'none') -> dict:\n",
        "    \"\"\"\n",
        "    Apply normalization to the attributions\n",
        "\n",
        "    Arguments:\n",
        "        data: A Dataset of texts\n",
        "        target_label: integer representing the class to attribute to\n",
        "        norm_level: level of normalization\n",
        "\n",
        "    Returns:\n",
        "        normalized_results: A dictionary containing all generated lists after\n",
        "            specified normalization is applied\n",
        "    \"\"\"\n",
        "\n",
        "    basic_dict = copy.deepcopy(basic_results)\n",
        "\n",
        "    text_tokens = []\n",
        "    sum_attributions = []\n",
        "    token_attribution_pairs = []\n",
        "    norm_attributions = []\n",
        "    visualization_records = []\n",
        "\n",
        "    # Combine subwords back into words\n",
        "    text_tokens, sum_attributions = detokenize_input(\n",
        "        basic_dict['sub_text_tokens'],\n",
        "        basic_dict['sub_sum_attributions']\n",
        "    )\n",
        "\n",
        "    # Normalize attributions\n",
        "    norm_attributions = lig_normalize(sum_attributions, norm_level)\n",
        "\n",
        "    # Create visualization records for batch\n",
        "    visualization_records = create_visualization_records(\n",
        "        norm_attributions,\n",
        "        basic_dict['deltas'],\n",
        "        basic_dict['predictions'],\n",
        "        text_tokens,\n",
        "        basic_dict['true_labels'],\n",
        "        target_label\n",
        "    )\n",
        "\n",
        "    # Create Token/Attribution pairs\n",
        "    token_attribution_pairs = create_token_attribution_pairs(\n",
        "        norm_attributions, text_tokens)\n",
        "\n",
        "    # Create Vocab/Attributions\n",
        "    vocab_attributions = get_vocab_attributions(token_attribution_pairs)\n",
        "\n",
        "    # Create visualization records for batch\n",
        "    visualization_records = create_visualization_records(\n",
        "        norm_attributions,\n",
        "        basic_dict['deltas'],\n",
        "        basic_dict['predictions'],\n",
        "        text_tokens,\n",
        "        basic_dict['true_labels'],\n",
        "        target_label\n",
        "    )\n",
        "\n",
        "    normalized_results = {\n",
        "        'input_tokens': basic_dict['input_tokens'],\n",
        "        'baseline_tokens': basic_dict['baseline_tokens'],\n",
        "        'true_labels': basic_dict['true_labels'],\n",
        "        'sub_sum_attributions': basic_dict['sub_sum_attributions'],\n",
        "        'sum_attributions': sum_attributions,\n",
        "        'deltas': basic_dict['deltas'],\n",
        "        'predictions': basic_dict['predictions'],\n",
        "        'sub_text_tokens': basic_dict['sub_text_tokens'],\n",
        "        'text_tokens': text_tokens,\n",
        "        'norm_attributions': norm_attributions,\n",
        "        'token_attribution_pairs': token_attribution_pairs,\n",
        "        'vocab_attributions': vocab_attributions,\n",
        "        'visualization_records': visualization_records\n",
        "    }\n",
        "\n",
        "    return normalized_results"
      ]
    },
    {
      "cell_type": "code",
      "execution_count": null,
      "metadata": {
        "id": "UKIxCh-lsqhL"
      },
      "outputs": [],
      "source": [
        "def lig_interpret(data: Dataset,\n",
        "                  target_label: int = 1,\n",
        "                  batch_size: int = 1,\n",
        "                  n_steps: int= 500,\n",
        "                  internal_batch_size: int = 4) -> dict:\n",
        "    \"\"\"\n",
        "    Interpret a dataset by calculating token attribution\n",
        "    using Layer Integrated Gradients\n",
        "\n",
        "    Arguments:\n",
        "        data: A Dataset of texts\n",
        "        target_label: integer representing the class to attribute to\n",
        "        batch_size: size of mini-batches\n",
        "        n_steps: Number of steps for attribution algorithm\n",
        "        internal_batch_size: mini-batches size of attribution algorithm\n",
        "\n",
        "    Returns:\n",
        "        results: A dictionary containing all generated lists\n",
        "    \"\"\"\n",
        "    # Create dataloader for batching\n",
        "    dataloader = DataLoader(data, batch_size)\n",
        "\n",
        "    input_tokens = []\n",
        "    baseline_tokens = []\n",
        "    true_labels = []\n",
        "    sub_sum_attributions = []\n",
        "    deltas = []\n",
        "    predictions = []\n",
        "    sub_text_tokens = []\n",
        "\n",
        "    # Iterate through batches to calculate attributions\n",
        "    for batch in tqdm_notebook(dataloader,\n",
        "                               desc=f\"Interpreting for {id2label[target_label]} class\"):\n",
        "        # Tokenize and Encode texts\n",
        "        b_input_t, b_base_t = tokenize_input_baseline(batch['text'])\n",
        "        b_input_t.to(device)\n",
        "\n",
        "        # Calculate attributions\n",
        "        b_sub_sum_attrs, b_delta, b_preds, b_sub_text_t = lig_attribute(\n",
        "            b_input_t, b_base_t, n_steps, internal_batch_size, target_label)\n",
        "\n",
        "        # Add batch tensors to appropriate list after detaching them\n",
        "        # from computation graph (to help free GPU memory)\n",
        "        input_tokens.append(\n",
        "            {key: value.cpu().detach()\n",
        "            for key, value in b_input_t.items()}\n",
        "        )\n",
        "\n",
        "        baseline_tokens.append(\n",
        "            {key: value.cpu().detach()\n",
        "            for key, value in b_base_t.items()}\n",
        "        )\n",
        "\n",
        "        true_labels.append(batch['label'].cpu().detach())\n",
        "\n",
        "        sub_sum_attributions.append(\n",
        "            [element.cpu().detach().tolist() for element in b_sub_sum_attrs]\n",
        "        )\n",
        "\n",
        "        deltas.append(b_delta.cpu().detach())\n",
        "        predictions.append(b_preds.cpu().detach())\n",
        "        sub_text_tokens.append(b_sub_text_t)\n",
        "\n",
        "        # Batch cleanup to free GPU Memory\n",
        "        del b_input_t, b_base_t, b_sub_sum_attrs, b_delta, b_preds\n",
        "        torch.cuda.empty_cache()\n",
        "        gc.collect()\n",
        "\n",
        "    basic_results = {\n",
        "        'input_tokens': input_tokens,\n",
        "        'baseline_tokens': baseline_tokens,\n",
        "        'true_labels': true_labels,\n",
        "        'sub_sum_attributions': sub_sum_attributions,\n",
        "        'deltas': deltas,\n",
        "        'predictions': predictions,\n",
        "        'sub_text_tokens': sub_text_tokens,\n",
        "    }\n",
        "\n",
        "    # End cleanup\n",
        "    torch.cuda.empty_cache()\n",
        "    gc.collect()\n",
        "\n",
        "    return basic_results"
      ]
    },
    {
      "cell_type": "markdown",
      "metadata": {
        "id": "RiZfeBL-p5pj"
      },
      "source": [
        ">>#### **Train Dataset (HS)**"
      ]
    },
    {
      "cell_type": "markdown",
      "metadata": {
        "id": "1wFNpwQ0xXde"
      },
      "source": [
        ">>>##### **Calculate Attributions**"
      ]
    },
    {
      "cell_type": "code",
      "execution_count": null,
      "metadata": {
        "colab": {
          "base_uri": "https://localhost:8080/"
        },
        "id": "_Y3_4F-Hwl9t",
        "outputId": "385fd770-bf4f-4bed-9fa8-b58ca4035cc3"
      },
      "outputs": [
        {
          "output_type": "execute_result",
          "data": {
            "text/plain": [
              "324"
            ]
          },
          "metadata": {},
          "execution_count": 43
        }
      ],
      "source": [
        "baseline_hate['text'] = baseline_hate['text'].apply(lambda x: \" \".join(x.split()[:64]))\n",
        "hs_train_input = Dataset.from_dict(baseline_hate)\n",
        "len(hs_train_input)"
      ]
    },
    {
      "cell_type": "code",
      "execution_count": null,
      "metadata": {
        "colab": {
          "base_uri": "https://localhost:8080/",
          "height": 49,
          "referenced_widgets": [
            "045fa7b8c4bb4534ad12121df085cf5f",
            "0360958a5ab94c1288987e8a8d948b21",
            "11e1f6f94da549479c8e57d8c057439d",
            "3f92c1753b954e8ead774da5ea0161de",
            "346c9127b19840f1a99fd26496540984",
            "59eb6b10dec44677b37fabbac216b2c7",
            "3ed48415d98b4613876d643c17c71f4a",
            "365e792590ac4ad78739aa18d4dbc1ae",
            "e13b035cb81b456d91c756928359fd02",
            "3c7beb1f500d42478d9b136cc80f86d4",
            "174a92442c04437c8031e3714f1b13b8"
          ]
        },
        "id": "jQIF38I__fnR",
        "outputId": "d61ac4d6-0a9f-499e-8cb0-d5573c1339af"
      },
      "outputs": [
        {
          "output_type": "display_data",
          "data": {
            "text/plain": [
              "Interpreting for HS class:   0%|          | 0/6 [00:00<?, ?it/s]"
            ],
            "application/vnd.jupyter.widget-view+json": {
              "version_major": 2,
              "version_minor": 0,
              "model_id": "045fa7b8c4bb4534ad12121df085cf5f"
            }
          },
          "metadata": {}
        }
      ],
      "source": [
        "hs_train_results = lig_interpret(\n",
        "    hs_train_input,\n",
        "    target_label = HATE_LABEL,\n",
        "    batch_size = 64,\n",
        "    n_steps= 500,\n",
        "    internal_batch_size = 64)\n",
        "\n",
        "# Save Basic results\n",
        "# save_attributions(hs_train_results, DS_NAME, \"TRAIN\", \"HS\", \"BASIC\")"
      ]
    },
    {
      "cell_type": "markdown",
      "metadata": {
        "id": "bW5C9yO1xkvK"
      },
      "source": [
        ">>>##### **Normalize Attributions**"
      ]
    },
    {
      "cell_type": "code",
      "execution_count": null,
      "metadata": {
        "id": "BKjMPGhQIxlT"
      },
      "outputs": [],
      "source": [
        "# Load Basic results\n",
        "basic_results = load_attributions(DS_NAME,\"TEST\", \"HS\", \"BASIC\")"
      ]
    },
    {
      "cell_type": "code",
      "execution_count": null,
      "metadata": {
        "id": "Sf5xxScDkva8"
      },
      "outputs": [],
      "source": [
        "# No normalization\n",
        "hs_train_none = normalize_all(\n",
        "    basic_results,\n",
        "    target_label = HATE_LABEL,\n",
        "    norm_level = 'none'\n",
        ")\n",
        "\n",
        "# No normalization (sub-token level)\n",
        "hs_train_none['sub_norm_attributions'] = lig_normalize(\n",
        "    hs_train_none['sub_sum_attributions'],\n",
        "    'none'\n",
        ")\n",
        "\n",
        "# Sequence-Level normalization\n",
        "hs_train_seq = normalize_all(\n",
        "    basic_results,\n",
        "    target_label = HATE_LABEL,\n",
        "    norm_level = 'sequence'\n",
        ")\n",
        "\n",
        "# Sequence-Level normalization (sub-token level)\n",
        "hs_train_seq['sub_norm_attributions'] = lig_normalize(\n",
        "    hs_train_seq['sub_sum_attributions'],\n",
        "    'sequence'\n",
        ")\n",
        "\n",
        "# Dataset-Level normalization\n",
        "hs_train_ds = normalize_all(\n",
        "    basic_results,\n",
        "    target_label = HATE_LABEL,\n",
        "    norm_level = 'dataset'\n",
        ")\n",
        "\n",
        "# Sequence-Level normalization (sub-token level)\n",
        "hs_train_ds['sub_norm_attributions'] = lig_normalize(\n",
        "    hs_train_ds['sub_sum_attributions'],\n",
        "    'dataset'\n",
        ")"
      ]
    },
    {
      "cell_type": "markdown",
      "metadata": {
        "id": "DV5SOj554scc"
      },
      "source": [
        ">>>##### **Save Attributions**"
      ]
    },
    {
      "cell_type": "code",
      "execution_count": null,
      "metadata": {
        "id": "j0nQ6TT-4TW4"
      },
      "outputs": [],
      "source": [
        "# Save LIG Train (HS) Attributions (no normalization)\n",
        "save_attributions(hs_train_none, DS_NAME, \"TRAIN\", \"HS\", \"NONE\")\n",
        "\n",
        "# Save LIG Train (HS) Attributions (sequence normalization)\n",
        "save_attributions(hs_train_seq, DS_NAME, \"TRAIN\", \"HS\", \"SEQ\")\n",
        "\n",
        "# Save LIG Train (HS) Attributions (dataset normalization)\n",
        "save_attributions(hs_train_ds, DS_NAME, \"TRAIN\", \"HS\", \"DS\")"
      ]
    },
    {
      "cell_type": "markdown",
      "metadata": {
        "id": "MQwJuCKux1V9"
      },
      "source": [
        ">>>##### **Loading Attributions**"
      ]
    },
    {
      "cell_type": "code",
      "execution_count": null,
      "metadata": {
        "id": "s9wLuLvC5jHa"
      },
      "outputs": [],
      "source": [
        "# Load LIG Train (HS) Attributions (no normalization)\n",
        "hs_train_none = load_attributions(DS_NAME, \"TRAIN\", \"HS\", \"NONE\")\n",
        "\n",
        "# Load LIG Train (HS) Attributions (sequence normalization)\n",
        "hs_train_seq = load_attributions(DS_NAME, \"TRAIN\", \"HS\", \"SEQ\")\n",
        "\n",
        "# Load LIG Train (HS) Attributions (dataset normalization)\n",
        "hs_train_ds = load_attributions(DS_NAME, \"TRAIN\", \"HS\", \"DS\")"
      ]
    },
    {
      "cell_type": "markdown",
      "metadata": {
        "id": "CVkxgjgHaffX"
      },
      "source": [
        ">>>##### **Top K**"
      ]
    },
    {
      "cell_type": "code",
      "execution_count": null,
      "metadata": {
        "colab": {
          "base_uri": "https://localhost:8080/"
        },
        "id": "3hJRE7RuafsG",
        "outputId": "a10b0ad3-b049-4c25-ae18-146df4647757"
      },
      "outputs": [
        {
          "output_type": "execute_result",
          "data": {
            "text/plain": [
              "(2439, 66)"
            ]
          },
          "metadata": {},
          "execution_count": 49
        }
      ],
      "source": [
        "hs_NONE_positive = [\n",
        "    (token, data['attribution'], data['count'])\n",
        "    for token, data in hs_train_none['vocab_attributions'].items()\n",
        "    if data['attribution'] > 0\n",
        "]\n",
        "\n",
        "hs_NONE_negative = [\n",
        "    (token, data['attribution'], data['count'])\n",
        "    for token, data in hs_train_none['vocab_attributions'].items()\n",
        "     if data['attribution'] < 0]\n",
        "\n",
        "len(hs_NONE_positive), len(hs_NONE_negative)"
      ]
    },
    {
      "cell_type": "code",
      "execution_count": null,
      "metadata": {
        "colab": {
          "base_uri": "https://localhost:8080/"
        },
        "id": "uUoN7DAmauk3",
        "outputId": "6e1cfb4b-7c28-400a-f3fd-75e79e8e2c35"
      },
      "outputs": [
        {
          "output_type": "execute_result",
          "data": {
            "text/plain": [
              "(2439, 66)"
            ]
          },
          "metadata": {},
          "execution_count": 50
        }
      ],
      "source": [
        "hs_SEQ_positive = [\n",
        "    (token, data['attribution'], data['count'])\n",
        "    for token, data in hs_train_seq['vocab_attributions'].items()\n",
        "    if data['attribution'] > 0]\n",
        "\n",
        "hs_SEQ_negative = [\n",
        "    (token, data['attribution'], data['count'])\n",
        "    for token, data in hs_train_seq['vocab_attributions'].items()\n",
        "    if data['attribution'] < 0]\n",
        "\n",
        "len(hs_SEQ_positive), len(hs_SEQ_negative)"
      ]
    },
    {
      "cell_type": "code",
      "execution_count": null,
      "metadata": {
        "colab": {
          "base_uri": "https://localhost:8080/"
        },
        "id": "l9xnDZ6Yauk4",
        "outputId": "90c8ae60-147d-454a-e34b-6e85eabb0e05"
      },
      "outputs": [
        {
          "output_type": "execute_result",
          "data": {
            "text/plain": [
              "(2439, 66)"
            ]
          },
          "metadata": {},
          "execution_count": 51
        }
      ],
      "source": [
        "hs_DATA_positive = [\n",
        "    (token, data['attribution'], data['count'])\n",
        "    for token, data in hs_train_ds['vocab_attributions'].items()\n",
        "    if data['attribution'] > 0]\n",
        "\n",
        "hs_DATA_negative = [\n",
        "    (token, data['attribution'], data['count'])\n",
        "    for token, data in hs_train_ds['vocab_attributions'].items()\n",
        "    if data['attribution'] < 0]\n",
        "\n",
        "len(hs_DATA_positive), len(hs_DATA_negative)"
      ]
    },
    {
      "cell_type": "code",
      "execution_count": null,
      "metadata": {
        "colab": {
          "base_uri": "https://localhost:8080/"
        },
        "id": "h0m2q8Zaauk4",
        "outputId": "f5e5575d-b5f2-44d5-c2f2-2e9bf10f7161"
      },
      "outputs": [
        {
          "output_type": "stream",
          "name": "stdout",
          "text": [
            "*****Top 10 Positive (No Norm.)*****\n",
            "-----------------------------------\n",
            "Token       Attribution       Count\n",
            "-----------------------------------\n",
            "خراس\t0.8085682701813821\t1\n",
            "حقودين\t0.7063423951097278\t1\n",
            "وصخ\t0.6953716578042024\t1\n",
            "الارهاب\t0.6762378614657587\t3\n",
            "خواريف\t0.6761529110464002\t1\n",
            "المعتوهين\t0.6549066106435513\t1\n",
            "بهيمه\t0.6421168732747353\t1\n",
            "الكلب\t0.6369432957427033\t3\n",
            "الزباله\t0.635295080389995\t5\n",
            "زق\t0.6318504928857525\t1\n"
          ]
        }
      ],
      "source": [
        "print(\"*****Top 10 Positive (No Norm.)*****\")\n",
        "print(\"-----------------------------------\")\n",
        "print(\"Token       Attribution       Count\")\n",
        "print(\"-----------------------------------\")\n",
        "for token, attr, count in hs_NONE_positive[0:10]:\n",
        "    print(f\"{token}\\t{attr}\\t{count}\")"
      ]
    },
    {
      "cell_type": "code",
      "execution_count": null,
      "metadata": {
        "colab": {
          "base_uri": "https://localhost:8080/"
        },
        "id": "E-JwQkhlduQ2",
        "outputId": "6bcdb094-6f6a-46de-e49b-be94b828268a"
      },
      "outputs": [
        {
          "output_type": "stream",
          "name": "stdout",
          "text": [
            "*****Top 10 Negative (No Norm.)*****\n",
            "-----------------------------------\n",
            "Token       Attribution       Count\n",
            "-----------------------------------\n",
            "رايك\t-0.0002979740500705563\t2\n",
            "الطريق\t-0.00043125364816468147\t1\n",
            "الشو\t-0.0006137542144848824\t1\n",
            "لازم\t-0.0009226428861515042\t1\n",
            "مارسيل\t-0.001056935313069377\t1\n",
            "التفكير\t-0.0010598487582517877\t1\n",
            "منفعة\t-0.001267225000849144\t1\n",
            "قوه\t-0.001577582242351409\t1\n",
            "حجة\t-0.0018806859338852833\t1\n",
            "امين\t-0.001884529906155708\t1\n"
          ]
        }
      ],
      "source": [
        "print(\"*****Top 10 Negative (No Norm.)*****\")\n",
        "print(\"-----------------------------------\")\n",
        "print(\"Token       Attribution       Count\")\n",
        "print(\"-----------------------------------\")\n",
        "for token, attr, count in hs_NONE_negative[0:10]:\n",
        "    print(f\"{token}\\t{attr}\\t{count}\")"
      ]
    },
    {
      "cell_type": "code",
      "execution_count": null,
      "metadata": {
        "colab": {
          "base_uri": "https://localhost:8080/"
        },
        "id": "9sVoNMKHauk4",
        "outputId": "a51c2015-02f6-473c-cf2c-c913d2362aed"
      },
      "outputs": [
        {
          "output_type": "stream",
          "name": "stdout",
          "text": [
            "**Top 10 Positive (Sequence Norm.)**\n",
            "-----------------------------------\n",
            "Token       Attribution       Count\n",
            "-----------------------------------\n",
            "وصخ\t0.9856736058324655\t1\n",
            "حقودين\t0.9795592163332085\t1\n",
            "خواريف\t0.9727063906069556\t1\n",
            "الارهاب\t0.9590300239225089\t3\n",
            "كلاب\t0.9564550563742573\t4\n",
            "الزباله\t0.9512930272413357\t4\n",
            "المعتوهين\t0.9479415143752468\t1\n",
            "الغباء\t0.9405587344229719\t1\n",
            "والحمرنة\t0.9380035366367346\t1\n",
            "متصهينين\t0.935414449145905\t1\n"
          ]
        }
      ],
      "source": [
        "print(\"**Top 10 Positive (Sequence Norm.)**\")\n",
        "print(\"-----------------------------------\")\n",
        "print(\"Token       Attribution       Count\")\n",
        "print(\"-----------------------------------\")\n",
        "for token, attr, count in hs_SEQ_positive[0:10]:\n",
        "    print(f\"{token}\\t{attr}\\t{count}\")"
      ]
    },
    {
      "cell_type": "code",
      "execution_count": null,
      "metadata": {
        "colab": {
          "base_uri": "https://localhost:8080/"
        },
        "id": "29pxab6tauk4",
        "outputId": "cbf4bd35-f005-4d85-ee2e-891649a9248c"
      },
      "outputs": [
        {
          "output_type": "stream",
          "name": "stdout",
          "text": [
            "**Top 10 Positive (Dataset Norm.)**\n",
            "-----------------------------------\n",
            "Token       Attribution       Count\n",
            "-----------------------------------\n",
            "خراس\t0.10742088692725028\t1\n",
            "حقودين\t0.09383985169240483\t1\n",
            "وصخ\t0.09238235406967342\t1\n",
            "الارهاب\t0.08984036788401722\t3\n",
            "خواريف\t0.0898290819484582\t1\n",
            "المعتوهين\t0.08700644282525238\t1\n",
            "بهيمه\t0.08530728521248011\t1\n",
            "الكلب\t0.08461995885109183\t3\n",
            "الزباله\t0.08440098815737997\t5\n",
            "زق\t0.0839433636642481\t1\n"
          ]
        }
      ],
      "source": [
        "print(\"**Top 10 Positive (Dataset Norm.)**\")\n",
        "print(\"-----------------------------------\")\n",
        "print(\"Token       Attribution       Count\")\n",
        "print(\"-----------------------------------\")\n",
        "for token, attr, count in hs_DATA_positive[0:10]:\n",
        "    print(f\"{token}\\t{attr}\\t{count}\")"
      ]
    },
    {
      "cell_type": "markdown",
      "metadata": {
        "id": "8Hhm79f6z1yy"
      },
      "source": [
        ">>>##### **Save Visualizations as HTML**"
      ]
    },
    {
      "cell_type": "code",
      "execution_count": null,
      "metadata": {
        "id": "oCscEVFJaaQU"
      },
      "outputs": [],
      "source": [
        "hs_train_html_none = visualize_results(hs_train_none['visualization_records'])\n",
        "hs_train_html_seq = visualize_results(hs_train_seq['visualization_records'])\n",
        "hs_train_html_ds = visualize_results(hs_train_ds['visualization_records'])"
      ]
    },
    {
      "cell_type": "code",
      "execution_count": null,
      "metadata": {
        "id": "QNyj3-34L2aG"
      },
      "outputs": [],
      "source": [
        "with open('LHSAB_hs_train_html_none_' + str(RANDOM_SEED) + '.html', 'w') as f:\n",
        "    f.write(hs_train_html_none.data)\n",
        "\n",
        "with open('LHSAB_hs_train_html_seq_' + str(RANDOM_SEED) + '.html', 'w') as f:\n",
        "    f.write(hs_train_html_seq.data)\n",
        "\n",
        "with open('LHSAB_hs_train_html_ds_' + str(RANDOM_SEED) + '.html', 'w') as f:\n",
        "    f.write(hs_train_html_ds.data)"
      ]
    },
    {
      "cell_type": "markdown",
      "metadata": {
        "id": "Dm02NP9-fxYI"
      },
      "source": [
        ">>>##### **Create Word Cloud**"
      ]
    },
    {
      "cell_type": "code",
      "execution_count": null,
      "metadata": {
        "id": "qANzpynigXdF",
        "colab": {
          "base_uri": "https://localhost:8080/",
          "height": 422
        },
        "outputId": "08795d22-8677-4d9b-aa75-ed2057c8cb39"
      },
      "outputs": [
        {
          "output_type": "display_data",
          "data": {
            "text/plain": [
              "<Figure size 1000x500 with 1 Axes>"
            ],
            "image/png": "[encoded data removed]"
          },
          "metadata": {}
        }
      ],
      "source": [
        "# Step 1: Sort the data by 'count' values in descending order\n",
        "sorted_data = sorted(hs_train_none['vocab_attributions'].items(), key=lambda x: x[1]['attribution'], reverse=True)\n",
        "\n",
        "# Step 2: Select the top 50 items\n",
        "top_50_data = sorted_data[:50]\n",
        "\n",
        "# Step 3: Create a word cloud\n",
        "wordcloud = WordCloud(font_path = sys.path[0] +'/utils/NotoNaskhArabic-Regular.ttf',\n",
        "                      width=1600,\n",
        "                      height=1000,\n",
        "                      background_color='white')\n",
        "\n",
        "\n",
        "# Generate the word cloud from the selected keys\n",
        "wordcloud.generate_from_frequencies({key: value['count'] for key, value in top_50_data})\n",
        "\n",
        "# Display the word cloud using Matplotlib\n",
        "plt.figure(figsize=(10, 5))\n",
        "plt.imshow(wordcloud, interpolation='bilinear')\n",
        "plt.axis(\"off\")\n",
        "plt.show()"
      ]
    },
    {
      "cell_type": "code",
      "execution_count": null,
      "metadata": {
        "id": "0lsgZNRYozWj"
      },
      "outputs": [],
      "source": [
        "output_file = \"LHSAB_TRAIN_HS_POSTIVE_\" + str(RANDOM_SEED) + \".png\"\n",
        "wordcloud.to_file(output_file)"
      ]
    },
    {
      "cell_type": "markdown",
      "metadata": {
        "id": "8MyS0vOTqCPG"
      },
      "source": [
        ">>#### **Train Dataset (NOT_HS)**"
      ]
    },
    {
      "cell_type": "markdown",
      "metadata": {
        "id": "Mgrp8VADhUPY"
      },
      "source": [
        ">>>##### **Calculate Attributions**"
      ]
    },
    {
      "cell_type": "code",
      "execution_count": null,
      "metadata": {
        "id": "xSuSW9DNhUPY"
      },
      "outputs": [],
      "source": [
        "normal_train_ds = Dataset.from_dict(baseline_non_hate)"
      ]
    },
    {
      "cell_type": "code",
      "execution_count": null,
      "metadata": {
        "colab": {
          "background_save": true
        },
        "id": "gOp4RsgShUPY"
      },
      "outputs": [],
      "source": [
        "normal_train_results = lig_interpret(\n",
        "    normal_train_ds,\n",
        "    target_label = HATE_LABEL,\n",
        "    batch_size = 64,\n",
        "    n_steps= 500,\n",
        "    internal_batch_size = 64)\n",
        "\n",
        "# Save Basic results\n",
        "save_attributions(normal_train_results, DS_NAME, \"NHS\", \"BASIC\")"
      ]
    },
    {
      "cell_type": "markdown",
      "metadata": {
        "id": "CPQ3N4ne4B2_"
      },
      "source": [
        ">>>##### **Normalize Attributions**"
      ]
    },
    {
      "cell_type": "code",
      "execution_count": null,
      "metadata": {
        "id": "bJEYwuC54B2_"
      },
      "outputs": [],
      "source": [
        "# Load Basic results\n",
        "basic_results = load_attributions(DS_NAME, \"NHS\", \"BASIC\")"
      ]
    },
    {
      "cell_type": "code",
      "execution_count": null,
      "metadata": {
        "id": "uGZIHamR4B3A"
      },
      "outputs": [],
      "source": [
        "# No normalization\n",
        "nhs_train_none = normalize_all(\n",
        "    basic_results,\n",
        "    target_label = HATE_LABEL,\n",
        "    norm_level = 'none'\n",
        ")\n",
        "\n",
        "# No normalization (sub-token level)\n",
        "nhs_train_none['sub_norm_attributions'] = lig_normalize(\n",
        "    nhs_train_none['sub_sum_attributions'],\n",
        "    'none'\n",
        ")\n",
        "\n",
        "# Sequence-Level normalization\n",
        "nhs_train_seq = normalize_all(\n",
        "    basic_results,\n",
        "    target_label = HATE_LABEL,\n",
        "    norm_level = 'sequence'\n",
        ")\n",
        "\n",
        "# Sequence-Level normalization (sub-token level)\n",
        "nhs_train_seq['sub_norm_attributions'] = lig_normalize(\n",
        "    nhs_train_seq['sub_sum_attributions'],\n",
        "    'sequence'\n",
        ")\n",
        "\n",
        "# Dataset-Level normalization\n",
        "nhs_train_ds = normalize_all(\n",
        "    basic_results,\n",
        "    target_label = HATE_LABEL,\n",
        "    norm_level = 'dataset'\n",
        ")\n",
        "\n",
        "# Sequence-Level normalization (sub-token level)\n",
        "nhs_train_ds['sub_norm_attributions'] = lig_normalize(\n",
        "    nhs_train_ds['sub_sum_attributions'],\n",
        "    'dataset'\n",
        ")"
      ]
    },
    {
      "cell_type": "markdown",
      "metadata": {
        "id": "QtzZkcGXh9E6"
      },
      "source": [
        ">>>##### **Save Attributions**"
      ]
    },
    {
      "cell_type": "code",
      "execution_count": null,
      "metadata": {
        "id": "nJai8v5Lh9E7"
      },
      "outputs": [],
      "source": [
        "# Save LIG Train (NHS) Attributions (no normalization)\n",
        "save_attributions(nhs_train_none, DS_NAME, \"NHS\", \"NONE\")\n",
        "\n",
        "# Save LIG Train (NHS) Attributions (sequence normalization)\n",
        "save_attributions(nhs_train_seq, DS_NAME, \"NHS\", \"SEQ\")\n",
        "\n",
        "# Save LIG Train (NHS) Attributions (dataset normalization)\n",
        "save_attributions(nhs_train_ds, DS_NAME, \"NHS\", \"DS\")"
      ]
    },
    {
      "cell_type": "markdown",
      "metadata": {
        "id": "hK49kARhh9E7"
      },
      "source": [
        ">>>##### **Loading Attributions**"
      ]
    },
    {
      "cell_type": "code",
      "execution_count": null,
      "metadata": {
        "id": "pCr-0Hckh9E8"
      },
      "outputs": [],
      "source": [
        "# Load LIG Train (NHS) Attributions (no normalization)\n",
        "nhs_train_none = load_attributions(DS_NAME, \"TRAIN\", \"NHS\", \"NONE\")\n",
        "\n",
        "# Load LIG Train (NHS) Attributions (sequence normalization)\n",
        "nhs_train_seq = load_attributions(DS_NAME, \"TRAIN\", \"NHS\", \"SEQ\")\n",
        "\n",
        "# Load LIG Train (NHS) Attributions (dataset normalization)\n",
        "nhs_train_ds = load_attributions(DS_NAME, \"TRAIN\", \"NHS\", \"DS\")"
      ]
    },
    {
      "cell_type": "markdown",
      "metadata": {
        "id": "F2mPZ5gzh9E8"
      },
      "source": [
        ">>>##### **Top K**"
      ]
    },
    {
      "cell_type": "code",
      "execution_count": null,
      "metadata": {
        "colab": {
          "background_save": true
        },
        "id": "QVmsb-RIh9E8"
      },
      "outputs": [],
      "source": [
        "nhs_NONE_positive = [\n",
        "    (token, data['attribution'], data['count'])\n",
        "    for token, data in nhs_train_none['vocab_attributions'].items()\n",
        "    if data['attribution'] > 0\n",
        "]\n",
        "\n",
        "nhs_NONE_negative = [\n",
        "    (token, data['attribution'], data['count'])\n",
        "    for token, data in nhs_train_none['vocab_attributions'].items()\n",
        "     if data['attribution'] < 0]\n",
        "\n",
        "len(nhs_NONE_positive), len(nhs_NONE_negative)"
      ]
    },
    {
      "cell_type": "code",
      "execution_count": null,
      "metadata": {
        "colab": {
          "background_save": true
        },
        "id": "YvflmIpyh9E8"
      },
      "outputs": [],
      "source": [
        "nhs_SEQ_positive = [\n",
        "    (token, data['attribution'], data['count'])\n",
        "    for token, data in nhs_train_seq['vocab_attributions'].items()\n",
        "    if data['attribution'] > 0]\n",
        "\n",
        "nhs_SEQ_negative = [\n",
        "    (token, data['attribution'], data['count'])\n",
        "    for token, data in nhs_train_seq['vocab_attributions'].items()\n",
        "    if data['attribution'] < 0]\n",
        "\n",
        "len(nhs_SEQ_positive), len(nhs_SEQ_negative)"
      ]
    },
    {
      "cell_type": "code",
      "execution_count": null,
      "metadata": {
        "colab": {
          "background_save": true
        },
        "id": "gWFkTWpOh9E8"
      },
      "outputs": [],
      "source": [
        "nhs_DATA_positive = [\n",
        "    (token, data['attribution'], data['count'])\n",
        "    for token, data in nhs_train_ds['vocab_attributions'].items()\n",
        "    if data['attribution'] > 0]\n",
        "\n",
        "nhs_DATA_negative = [\n",
        "    (token, data['attribution'], data['count'])\n",
        "    for token, data in nhs_train_ds['vocab_attributions'].items()\n",
        "    if data['attribution'] < 0]\n",
        "\n",
        "len(nhs_DATA_positive), len(nhs_DATA_negative)"
      ]
    },
    {
      "cell_type": "code",
      "execution_count": null,
      "metadata": {
        "colab": {
          "background_save": true
        },
        "id": "l6huwDBRh9E8"
      },
      "outputs": [],
      "source": [
        "print(\"*****Top 10 Positive (No Norm.)*****\")\n",
        "print(\"-----------------------------------\")\n",
        "print(\"Token       Attribution       Count\")\n",
        "print(\"-----------------------------------\")\n",
        "for token, attr, count in nhs_NONE_positive[0:10]:\n",
        "    print(f\"{token}\\t{attr}\\t{count}\")"
      ]
    },
    {
      "cell_type": "code",
      "execution_count": null,
      "metadata": {
        "colab": {
          "background_save": true
        },
        "id": "B1aoBUZMh9E9"
      },
      "outputs": [],
      "source": [
        "print(\"*****Top 10 Negative (No Norm.)*****\")\n",
        "print(\"-----------------------------------\")\n",
        "print(\"Token       Attribution       Count\")\n",
        "print(\"-----------------------------------\")\n",
        "for token, attr, count in nhs_NONE_negative[0:10]:\n",
        "    print(f\"{token}\\t{attr}\\t{count}\")"
      ]
    },
    {
      "cell_type": "code",
      "execution_count": null,
      "metadata": {
        "colab": {
          "background_save": true
        },
        "id": "TYdHLFn-h9E9"
      },
      "outputs": [],
      "source": [
        "print(\"**Top 10 Positive (Sequence Norm.)**\")\n",
        "print(\"-----------------------------------\")\n",
        "print(\"Token       Attribution       Count\")\n",
        "print(\"-----------------------------------\")\n",
        "for token, attr, count in nhs_SEQ_positive[0:10]:\n",
        "    print(f\"{token}\\t{attr}\\t{count}\")"
      ]
    },
    {
      "cell_type": "code",
      "execution_count": null,
      "metadata": {
        "colab": {
          "background_save": true
        },
        "id": "mt1c05QGh9E9"
      },
      "outputs": [],
      "source": [
        "print(\"**Top 10 Positive (Dataset Norm.)**\")\n",
        "print(\"-----------------------------------\")\n",
        "print(\"Token       Attribution       Count\")\n",
        "print(\"-----------------------------------\")\n",
        "for token, attr, count in nhs_DATA_positive[0:10]:\n",
        "    print(f\"{token}\\t{attr}\\t{count}\")"
      ]
    },
    {
      "cell_type": "markdown",
      "metadata": {
        "id": "jxgAiGsih9E9"
      },
      "source": [
        ">>>##### **Save Visualizations as HTML**"
      ]
    },
    {
      "cell_type": "code",
      "execution_count": null,
      "metadata": {
        "id": "0O_ZpGuJh9E9"
      },
      "outputs": [],
      "source": [
        "#supress output\n",
        "%%capture\n",
        "\n",
        "nhs_train_html_none = visualize_results(nhs_train_none['visualization_records'])\n",
        "nhs_train_html_seq = visualize_results(nhs_train_seq['visualization_records'])\n",
        "nhs_train_html_ds = visualize_results(nhs_train_ds['visualization_records'])"
      ]
    },
    {
      "cell_type": "code",
      "execution_count": null,
      "metadata": {
        "id": "o9ahFTtTh9E9"
      },
      "outputs": [],
      "source": [
        "with open('LHSAB_nhs_train_html_none_' + str(RANDOM_SEED) + '.html', 'w') as f:\n",
        "    f.write(nhs_train_html_none.data)\n",
        "\n",
        "with open('LHSAB_nhs_train_html_seq_' + str(RANDOM_SEED) + '.html', 'w') as f:\n",
        "    f.write(nhs_train_html_seq.data)\n",
        "\n",
        "with open('LHSAB_nhs_train_html_ds_' + str(RANDOM_SEED) + '.html', 'w') as f:\n",
        "    f.write(nhs_train_html_ds.data)"
      ]
    },
    {
      "cell_type": "markdown",
      "metadata": {
        "id": "0bPSv3vlh9E-"
      },
      "source": [
        ">>>##### **Create Word Cloud**"
      ]
    },
    {
      "cell_type": "code",
      "execution_count": null,
      "metadata": {
        "id": "56jXb3BZh9E-"
      },
      "outputs": [],
      "source": [
        "# Step 1: Sort the data by 'count' values in descending order\n",
        "sorted_data = sorted(nhs_train_none['vocab_attributions'].items(), key=lambda x: x[1]['attribution'], reverse=True)\n",
        "\n",
        "# Step 2: Select the top 50 items\n",
        "top_50_data = sorted_data[:50]\n",
        "\n",
        "# Step 3: Create a word cloud\n",
        "wordcloud = WordCloud(font_path =sys.path[0] +'/utils/NotoNaskhArabic-Regular.ttf',\n",
        "                      width=1600,\n",
        "                      height=1000,\n",
        "                      background_color='white')\n",
        "\n",
        "\n",
        "# Generate the word cloud from the selected keys\n",
        "wordcloud.generate_from_frequencies({key: value['count'] for key, value in top_50_data})\n",
        "\n",
        "# Display the word cloud using Matplotlib\n",
        "plt.figure(figsize=(10, 5))\n",
        "plt.imshow(wordcloud, interpolation='bilinear')\n",
        "plt.axis(\"off\")\n",
        "plt.show()"
      ]
    },
    {
      "cell_type": "code",
      "execution_count": null,
      "metadata": {
        "id": "70zv1Fgeh9E-"
      },
      "outputs": [],
      "source": [
        "output_file = \"LHSAB_TRAIN_NHS_POSTIVE_\" + str(RANDOM_SEED) + \".png\"\n",
        "wordcloud.to_file(output_file)"
      ]
    },
    {
      "cell_type": "markdown",
      "metadata": {
        "id": "QnOJ7mRXLRzz"
      },
      "source": [
        ">>#### **Error Analysis**"
      ]
    },
    {
      "cell_type": "markdown",
      "metadata": {
        "id": "vaKfKKA2LRz0"
      },
      "source": [
        ">>>##### **Calculate Attributions**"
      ]
    },
    {
      "cell_type": "code",
      "execution_count": null,
      "metadata": {
        "id": "WCbcyUIxLRz2"
      },
      "outputs": [],
      "source": [
        "text = 'مقاوم للناس المريضة هيدا صوص سوري اخي رضا او ايراني'\n",
        "original_sample = tokenizer(text)\n",
        "original_sample['label'] = 1\n",
        "# mask_sample = mask_tokens(sample, get_ids(['لقاء']))\n",
        "# remove_sample = remove_tokens(sample, get_ids(['لقاء']))\n",
        "\n",
        "# replace_text = 'مقابلة الأقزام المعتوهين'\n",
        "# replace_sample = tokenizer(text)\n",
        "# replace_sample['label'] = 1\n",
        "# replace_sample\n",
        "txt = [\"مقاوم للناس المريضة هيدا صوص سوري اخي رضا او ايراني\"]\n",
        "lbl = [1]\n",
        "\n",
        "# dictionary of lists\n",
        "dict1 = {'text': txt, 'label': lbl}\n",
        "\n",
        "df = pd.DataFrame(dict1)\n",
        "hs_train_input = Dataset.from_dict(df)"
      ]
    },
    {
      "cell_type": "code",
      "execution_count": null,
      "metadata": {
        "id": "0ljuBIxQM8ei"
      },
      "outputs": [],
      "source": [
        "hs_train_input = fn_samples\n",
        "texts = [sample['text'] for sample in fn_samples]\n",
        "labels = [1] * len(texts)\n",
        "fn_dict = {'text': texts,\n",
        "           'label': labels}\n",
        "fn_dataset = pd.DataFrame(fn_dict)"
      ]
    },
    {
      "cell_type": "code",
      "execution_count": null,
      "metadata": {
        "id": "kmaX3xX5Mfcp"
      },
      "outputs": [],
      "source": [
        "# xai_input = Dataset.from_dict(fn_dataset)\n",
        "xai_input = Dataset.from_dict(baseline_test)"
      ]
    },
    {
      "cell_type": "code",
      "execution_count": null,
      "metadata": {
        "id": "_JJfpBkMLRz4"
      },
      "outputs": [],
      "source": [
        "xai_results = lig_interpret(\n",
        "    xai_input,\n",
        "    target_label = HATE_LABEL,\n",
        "    batch_size = 64,\n",
        "    n_steps= 500,\n",
        "    internal_batch_size = 64)\n",
        "\n",
        "# Save Basic results\n",
        "save_attributions(xai_results, DS_NAME, \"TEST\", \"HS\", \"BASIC\")"
      ]
    },
    {
      "cell_type": "markdown",
      "metadata": {
        "id": "4Fkb55BxOTmk"
      },
      "source": [
        ">>>##### **Normalize Attributions**"
      ]
    },
    {
      "cell_type": "code",
      "execution_count": null,
      "metadata": {
        "id": "rYGaapOtOTmm"
      },
      "outputs": [],
      "source": [
        "# Load Basic results\n",
        "basic_results = load_attributions(DS_NAME, \"TEST\", \"HS\", \"BASIC\")"
      ]
    },
    {
      "cell_type": "code",
      "execution_count": null,
      "metadata": {
        "id": "GJnoXubsOTmn"
      },
      "outputs": [],
      "source": [
        "# No normalization\n",
        "hs_train_none = normalize_all(\n",
        "    basic_results,\n",
        "    target_label = HATE_LABEL,\n",
        "    norm_level = 'none'\n",
        ")\n",
        "\n",
        "# No normalization (sub-token level)\n",
        "hs_train_none['sub_norm_attributions'] = lig_normalize(\n",
        "    hs_train_none['sub_sum_attributions'],\n",
        "    'none'\n",
        ")\n",
        "\n",
        "# Sequence-Level normalization\n",
        "hs_train_seq = normalize_all(\n",
        "    basic_results,\n",
        "    target_label = HATE_LABEL,\n",
        "    norm_level = 'sequence'\n",
        ")\n",
        "\n",
        "# Sequence-Level normalization (sub-token level)\n",
        "hs_train_seq['sub_norm_attributions'] = lig_normalize(\n",
        "    hs_train_seq['sub_sum_attributions'],\n",
        "    'sequence'\n",
        ")\n",
        "\n",
        "# Dataset-Level normalization\n",
        "hs_train_ds = normalize_all(\n",
        "    basic_results,\n",
        "    target_label = HATE_LABEL,\n",
        "    norm_level = 'dataset'\n",
        ")\n",
        "\n",
        "# Sequence-Level normalization (sub-token level)\n",
        "hs_train_ds['sub_norm_attributions'] = lig_normalize(\n",
        "    hs_train_ds['sub_sum_attributions'],\n",
        "    'dataset'\n",
        ")"
      ]
    },
    {
      "cell_type": "markdown",
      "metadata": {
        "id": "nSeVJ27gOTmo"
      },
      "source": [
        ">>>##### **Save Attributions**"
      ]
    },
    {
      "cell_type": "code",
      "execution_count": null,
      "metadata": {
        "id": "nL3dYFBKOTmp"
      },
      "outputs": [],
      "source": [
        "# Save LIG Train (HS) Attributions (no normalization)\n",
        "save_attributions(hs_train_none, DS_NAME, \"TEST\", \"HS\", \"NONE\")\n",
        "\n",
        "# Save LIG Train (HS) Attributions (sequence normalization)\n",
        "save_attributions(hs_train_seq, DS_NAME, \"TEST\",  \"HS\", \"SEQ\")\n",
        "\n",
        "# Save LIG Train (HS) Attributions (dataset normalization)\n",
        "save_attributions(hs_train_ds, DS_NAME, \"TEST\",  \"HS\", \"DS\")"
      ]
    },
    {
      "cell_type": "markdown",
      "metadata": {
        "id": "NbRlMBr-OTmq"
      },
      "source": [
        ">>>##### **Loading Attributions**"
      ]
    },
    {
      "cell_type": "code",
      "execution_count": null,
      "metadata": {
        "id": "DVloLo7GOTmr"
      },
      "outputs": [],
      "source": [
        "# Load LIG Train (HS) Attributions (no normalization)\n",
        "hs_train_none = load_attributions(DS_NAME, \"TEST\",  \"HS\", \"NONE\")\n",
        "\n",
        "# Load LIG Train (HS) Attributions (sequence normalization)\n",
        "hs_train_seq = load_attributions(DS_NAME, \"TEST\",  \"HS\", \"SEQ\")\n",
        "\n",
        "# Load LIG Train (HS) Attributions (dataset normalization)\n",
        "hs_train_ds = load_attributions(DS_NAME, \"TEST\",  \"HS\", \"DS\")"
      ]
    },
    {
      "cell_type": "markdown",
      "metadata": {
        "id": "Sqbmoq0TOTmr"
      },
      "source": [
        ">>>##### **Top K**"
      ]
    },
    {
      "cell_type": "code",
      "execution_count": null,
      "metadata": {
        "id": "anio_RiROTms"
      },
      "outputs": [],
      "source": [
        "hs_NONE_positive = [\n",
        "    (token, data['attribution'], data['count'])\n",
        "    for token, data in hs_train_none['vocab_attributions'].items()\n",
        "    if data['attribution'] > 0\n",
        "]\n",
        "\n",
        "hs_NONE_negative = [\n",
        "    (token, data['attribution'], data['count'])\n",
        "    for token, data in hs_train_none['vocab_attributions'].items()\n",
        "     if data['attribution'] < 0]\n",
        "\n",
        "len(hs_NONE_positive), len(hs_NONE_negative)"
      ]
    },
    {
      "cell_type": "code",
      "execution_count": null,
      "metadata": {
        "id": "RlKIf0zzOTmu"
      },
      "outputs": [],
      "source": [
        "hs_SEQ_positive = [\n",
        "    (token, data['attribution'], data['count'])\n",
        "    for token, data in hs_train_seq['vocab_attributions'].items()\n",
        "    if data['attribution'] > 0]\n",
        "\n",
        "hs_SEQ_negative = [\n",
        "    (token, data['attribution'], data['count'])\n",
        "    for token, data in hs_train_seq['vocab_attributions'].items()\n",
        "    if data['attribution'] < 0]\n",
        "\n",
        "len(hs_SEQ_positive), len(hs_SEQ_negative)"
      ]
    },
    {
      "cell_type": "code",
      "execution_count": null,
      "metadata": {
        "id": "xOp4XQTmOTmv"
      },
      "outputs": [],
      "source": [
        "hs_DATA_positive = [\n",
        "    (token, data['attribution'], data['count'])\n",
        "    for token, data in hs_train_ds['vocab_attributions'].items()\n",
        "    if data['attribution'] > 0]\n",
        "\n",
        "hs_DATA_negative = [\n",
        "    (token, data['attribution'], data['count'])\n",
        "    for token, data in hs_train_ds['vocab_attributions'].items()\n",
        "    if data['attribution'] < 0]\n",
        "\n",
        "len(hs_DATA_positive), len(hs_DATA_negative)"
      ]
    },
    {
      "cell_type": "code",
      "execution_count": null,
      "metadata": {
        "id": "zLg-w8qeOTmw"
      },
      "outputs": [],
      "source": [
        "print(\"*****Top 10 Positive (No Norm.)*****\")\n",
        "print(\"-----------------------------------\")\n",
        "print(\"Token       Attribution       Count\")\n",
        "print(\"-----------------------------------\")\n",
        "for token, attr, count in hs_NONE_positive[0:10]:\n",
        "    print(f\"{token}\\t{attr}\\t{count}\")"
      ]
    },
    {
      "cell_type": "code",
      "execution_count": null,
      "metadata": {
        "id": "NKl6uFXPOTmx"
      },
      "outputs": [],
      "source": [
        "print(\"*****Top 10 Negative (No Norm.)*****\")\n",
        "print(\"-----------------------------------\")\n",
        "print(\"Token       Attribution       Count\")\n",
        "print(\"-----------------------------------\")\n",
        "for token, attr, count in hs_NONE_negative[0:10]:\n",
        "    print(f\"{token}\\t{attr}\\t{count}\")"
      ]
    },
    {
      "cell_type": "code",
      "execution_count": null,
      "metadata": {
        "id": "KPYJTSN-OTmy"
      },
      "outputs": [],
      "source": [
        "print(\"**Top 10 Positive (Sequence Norm.)**\")\n",
        "print(\"-----------------------------------\")\n",
        "print(\"Token       Attribution       Count\")\n",
        "print(\"-----------------------------------\")\n",
        "for token, attr, count in hs_SEQ_positive[0:10]:\n",
        "    print(f\"{token}\\t{attr}\\t{count}\")"
      ]
    },
    {
      "cell_type": "code",
      "execution_count": null,
      "metadata": {
        "id": "9Aax5m0ROTmz"
      },
      "outputs": [],
      "source": [
        "print(\"**Top 10 Positive (Dataset Norm.)**\")\n",
        "print(\"-----------------------------------\")\n",
        "print(\"Token       Attribution       Count\")\n",
        "print(\"-----------------------------------\")\n",
        "for token, attr, count in hs_DATA_positive[0:10]:\n",
        "    print(f\"{token}\\t{attr}\\t{count}\")"
      ]
    },
    {
      "cell_type": "markdown",
      "metadata": {
        "id": "9La3hYcWOTm0"
      },
      "source": [
        "## **MANUAL Interpretability**"
      ]
    },
    {
      "cell_type": "code",
      "execution_count": null,
      "metadata": {
        "id": "pA8__kQq-Xqk"
      },
      "outputs": [],
      "source": [
        "device = torch.device(\"cuda:0\" if torch.cuda.is_available() else \"cpu\")\n",
        "# explain_model_path = f\"{MODELS_PATH}/MARBERT-finetuned-HateSpeech-{DS_NAME}-baseline-nopreprocessing-{RANDOM_SEED}\"\n",
        "explain_model_path = \"TEST_MODEL\"\n",
        "model = BertForSequenceClassification.from_pretrained(\n",
        "    explain_model_path,\n",
        "    num_labels = 2,\n",
        "    id2label = id2label,\n",
        "    label2id = label2id)\n",
        "\n",
        "model.to(device)  # Put model on GPU\n",
        "model.zero_grad() # Clear model gradients\n",
        "model.eval()      # Set model to evaluation mode\n",
        "\n",
        "# Load tokenizer\n",
        "tokenizer = BertTokenizerFast.from_pretrained(explain_model_path)"
      ]
    },
    {
      "cell_type": "code",
      "execution_count": null,
      "metadata": {
        "id": "J3nG8MkcJTmX"
      },
      "outputs": [],
      "source": [
        "txt = [\"الله يلعن الاخوان المسلمين و بلي بذرهم للمرة الالف على التوالي اناشد وزير كوريا الشمالية المحترم كيم …\"]\n",
        "lbl = [1]\n",
        "\n",
        "# dictionary of lists\n",
        "dict1 = {'text': txt, 'label': lbl}\n",
        "\n",
        "df = pd.DataFrame(dict1)\n",
        "hs_train_input = Dataset.from_dict(df)\n",
        "\n",
        "dataloader = DataLoader(hs_train_input, 64)"
      ]
    },
    {
      "cell_type": "code",
      "execution_count": null,
      "metadata": {
        "id": "B4UK2pEDJzhP"
      },
      "outputs": [],
      "source": [
        "for batch in dataloader:\n",
        "    input_tokens = tokenizer(batch['text'], padding = True, return_tensors='pt')\n",
        "    for idx, tok in enumerate(input_tokens['input_ids'][0]):\n",
        "        print(f\"{idx}: {tok} ({tokenizer.decode(tok)})\")"
      ]
    },
    {
      "cell_type": "code",
      "execution_count": null,
      "metadata": {
        "id": "McQa5FgC8FMr"
      },
      "outputs": [],
      "source": [
        "input_tokens['attention_mask'][0][3] = 0\n",
        "input_tokens['attention_mask'][0][4] = 0"
      ]
    },
    {
      "cell_type": "code",
      "execution_count": null,
      "metadata": {
        "id": "ecZ7FwGc6awD"
      },
      "outputs": [],
      "source": [
        "cls_token_id = tokenizer.cls_token_id\n",
        "pad_token_id = tokenizer.pad_token_id\n",
        "sep_token_id = tokenizer.sep_token_id\n",
        "\n",
        "base_input_ids = [\n",
        "    [tok if tok in (cls_token_id, sep_token_id) else pad_token_id for tok in seq]\n",
        "    for seq in input_tokens['input_ids']\n",
        "]\n",
        "\n",
        "base_token_type_ids = [\n",
        "    list(np.zeros(len(seq), dtype=int)) for seq in input_tokens['input_ids']\n",
        "]\n",
        "\n",
        "position_ids = [\n",
        "    list(range(len(seq))) for seq in input_tokens['input_ids']\n",
        "]\n",
        "input_tokens['position_ids'] = torch.tensor(position_ids, dtype = torch.int64)\n",
        "\n",
        "base_position_ids = [\n",
        "    list(np.zeros(len(seq), dtype=int)) for seq in input_tokens['input_ids']\n",
        "]\n",
        "\n",
        "baseline_tokens = {}\n",
        "baseline_tokens['base_input_ids'] = torch.tensor(\n",
        "    base_input_ids,\n",
        "    dtype = torch.int64,\n",
        "    device = device\n",
        ")\n",
        "baseline_tokens['base_token_type_ids'] = torch.tensor(\n",
        "    base_token_type_ids,\n",
        "    dtype = torch.int64,\n",
        "    device = device\n",
        ")\n",
        "baseline_tokens['base_position_ids'] = torch.tensor(\n",
        "    base_position_ids,\n",
        "    dtype = torch.int64,\n",
        "    device = device\n",
        ")\n",
        "####################################################################\n",
        "input_tokens.to(device)\n",
        "####################################################################\n",
        "sub_text_tokens = [\n",
        "    tokenizer.convert_ids_to_tokens(seq) for seq in input_tokens['input_ids']\n",
        "]\n",
        "####################################################################\n",
        "lig = LayerIntegratedGradients(\n",
        "    forward_func = lig_forward,\n",
        "    layer = model.base_model.embeddings\n",
        ")\n",
        "####################################################################\n",
        "attributions, delta = lig.attribute(\n",
        "    inputs = input_tokens['input_ids'],\n",
        "    baselines = baseline_tokens['base_input_ids'],\n",
        "    additional_forward_args = (input_tokens['attention_mask'],\n",
        "                                input_tokens['token_type_ids'],\n",
        "                                input_tokens['position_ids']),\n",
        "    n_steps = 500,\n",
        "    internal_batch_size = 64,\n",
        "    target = 1,\n",
        "    return_convergence_delta = True\n",
        ")\n",
        "####################################################################\n",
        "predictions = lig_predict(\n",
        "    input_tokens['input_ids'],\n",
        "    input_tokens['attention_mask'],\n",
        "    input_tokens['token_type_ids'],\n",
        "    input_tokens['position_ids']\n",
        ")\n",
        "####################################################################\n",
        "sub_sum_attributions_padded = attributions.sum(dim=-1)\n",
        "sub_sum_attributions = []\n",
        "# Remove [PAD] tokens and their attributions\n",
        "for idx, seq in enumerate(sub_text_tokens):\n",
        "    # Find out the first [PAD] index\n",
        "    # if the sequence doesn't have [PAD], set pad_index to -1\n",
        "    pad_index = seq.index('[PAD]') if '[PAD]' in seq else -1\n",
        "    if pad_index != -1:\n",
        "        # Modify tokens from [CLS] to [SEP]\n",
        "        sub_text_tokens[idx] = seq[0:pad_index]\n",
        "        # Add corresponding attributions\n",
        "        sub_sum_attributions.append(sub_sum_attributions_padded[idx][0:pad_index])\n",
        "    else:\n",
        "        sub_sum_attributions.append(sub_sum_attributions_padded[idx])\n",
        "####################################################################\n",
        "final_input_tokens = []\n",
        "final_baseline_tokens = []\n",
        "final_true_labels = []\n",
        "final_sub_sum_attributions = []\n",
        "final_deltas = []\n",
        "final_predictions = []\n",
        "final_sub_text_tokens = []\n",
        "\n",
        "final_input_tokens.append(\n",
        "    {key: value.cpu().detach()\n",
        "    for key, value in input_tokens.items()}\n",
        ")\n",
        "\n",
        "final_baseline_tokens.append(\n",
        "    {key: value.cpu().detach()\n",
        "    for key, value in baseline_tokens.items()}\n",
        ")\n",
        "\n",
        "final_true_labels.append(batch['label'].cpu().detach())\n",
        "\n",
        "final_sub_sum_attributions.append(\n",
        "    [element.cpu().detach().tolist() for element in sub_sum_attributions]\n",
        ")\n",
        "\n",
        "final_deltas.append(delta.cpu().detach())\n",
        "final_predictions.append(predictions.cpu().detach())\n",
        "final_sub_text_tokens.append(sub_text_tokens)\n",
        "####################################################################\n",
        "basic_results = {\n",
        "    'input_tokens': final_input_tokens,\n",
        "    'baseline_tokens': final_baseline_tokens,\n",
        "    'true_labels': final_true_labels,\n",
        "    'sub_sum_attributions': final_sub_sum_attributions,\n",
        "    'deltas': final_deltas,\n",
        "    'predictions': final_predictions,\n",
        "    'sub_text_tokens': final_sub_text_tokens,\n",
        "}\n",
        "####################################################################\n",
        "hs_train_none = normalize_all(\n",
        "    basic_results,\n",
        "    target_label = HATE_LABEL,\n",
        "    norm_level = 'none'\n",
        ")\n",
        "\n",
        "# No normalization (sub-token level)\n",
        "hs_train_none['sub_norm_attributions'] = lig_normalize(\n",
        "    hs_train_none['sub_sum_attributions'],\n",
        "    'none'\n",
        ")\n",
        "\n",
        "# Sequence-Level normalization\n",
        "hs_train_seq = normalize_all(\n",
        "    basic_results,\n",
        "    target_label = HATE_LABEL,\n",
        "    norm_level = 'sequence'\n",
        ")\n",
        "\n",
        "# Sequence-Level normalization (sub-token level)\n",
        "hs_train_seq['sub_norm_attributions'] = lig_normalize(\n",
        "    hs_train_seq['sub_sum_attributions'],\n",
        "    'sequence'\n",
        ")"
      ]
    },
    {
      "cell_type": "markdown",
      "metadata": {
        "id": "YTP8nBNCNqbl"
      },
      "source": [
        "### functions"
      ]
    },
    {
      "cell_type": "code",
      "execution_count": null,
      "metadata": {
        "id": "v0lnKza1UP5w"
      },
      "outputs": [],
      "source": [
        "def get_index(attrs, target):\n",
        "    for bidx, batch in enumerate(attrs['text_tokens']):\n",
        "        for sidx, sample in enumerate(batch):\n",
        "            if target == sample:\n",
        "                return bidx, sidx"
      ]
    },
    {
      "cell_type": "code",
      "execution_count": null,
      "metadata": {
        "id": "vJsejO6jQj23"
      },
      "outputs": [],
      "source": [
        "def print_token_details(attrs, bidx, sidx):\n",
        "    print(f\"text_tokens: {attrs['text_tokens'][bidx][sidx]}\")\n",
        "    print(f\"-------------------------------------------------------\")\n",
        "    print(f\"sub_text_tokens: {attrs['sub_text_tokens'][bidx][sidx]}\")\n",
        "    print(f\"-------------------------------------------------------\")\n",
        "    print(f\"input_ids: {attrs['input_tokens'][bidx]['input_ids'][sidx]}\")\n",
        "    print(f\"attention_mask: {attrs['input_tokens'][bidx]['attention_mask'][sidx]}\")\n",
        "    print(f\"-------------------------------------------------------\")\n",
        "    print(f\"baseline_input_ids: {attrs['baseline_tokens'][bidx]['base_input_ids'][sidx]}\")\n",
        "    print(f\"-------------------------------------------------------\")\n",
        "    print(f\"true_labels: {attrs['true_labels'][bidx][sidx]}\")\n",
        "    print(f\"-------------------------------------------------------\")\n",
        "    print(f\"sub_sum_attributions: {attrs['sub_sum_attributions'][bidx][sidx]}\")\n",
        "    print(f\"-------------------------------------------------------\")\n",
        "    print(f\"sum_attributions: {attrs['sum_attributions'][bidx][sidx]}\")\n",
        "    print(f\"-------------------------------------------------------\")\n",
        "    print(f\"predictions: {attrs['predictions'][bidx][sidx]}\")\n",
        "    print(f\"-------------------------------------------------------\")\n",
        "    print(f\"norm_attributions: {attrs['norm_attributions'][bidx][sidx]}\")\n",
        "    print(f\"-------------------------------------------------------\")\n",
        "    print(f\"sub_norm_attributions: {attrs['sub_norm_attributions'][bidx][sidx]}\")"
      ]
    },
    {
      "cell_type": "code",
      "execution_count": null,
      "metadata": {
        "id": "h94-8SfYDjBP"
      },
      "outputs": [],
      "source": [
        "def print_token_attriburions(attrs, bidx, sidx):\n",
        "    print(\"Token\\tIDs\\tMask\\tBaseline\\tAttributions\\tNormalized\")\n",
        "    print(\"-----------------------------------------------------\")\n",
        "    for tidx, tok in enumerate(attrs['text_tokens'][bidx][sidx]):\n",
        "        print(f\"{tok}\\t\"\n",
        "            f\"{attrs['sum_attributions'][bidx][sidx][tidx]}\\t\"\n",
        "            f\"{attrs['norm_attributions'][bidx][sidx][tidx]}\")"
      ]
    },
    {
      "cell_type": "code",
      "execution_count": null,
      "metadata": {
        "id": "Ef9bg9rhKxQN"
      },
      "outputs": [],
      "source": [
        "text = \"[CLS] الله يلعن الاخوان المسلمين و بلي بذرهم للمرة الالف على التوالي اناشد وزير كوريا الشمالية المحترم كيم … [SEP]\"\n",
        "bidx, sidx = get_index(hs_train_seq, text.split())\n",
        "print_token_attriburions(hs_train_seq, bidx, sidx)"
      ]
    },
    {
      "cell_type": "code",
      "execution_count": null,
      "metadata": {
        "id": "lXbW486yvpYS"
      },
      "outputs": [],
      "source": [
        "print_token_details(hs_train_seq, bidx, sidx)"
      ]
    },
    {
      "cell_type": "code",
      "execution_count": null,
      "metadata": {
        "id": "RGm8R3FRwvYM"
      },
      "outputs": [],
      "source": [
        "torch.nn.functional.softmax(hs_train_seq['predictions'][bidx][sidx], dim=-1)"
      ]
    },
    {
      "cell_type": "code",
      "execution_count": null,
      "metadata": {
        "id": "_DuCcHk6x95V"
      },
      "outputs": [],
      "source": [
        "x = torch.Tensor([ 4.0908, -3.6897])\n",
        "x"
      ]
    },
    {
      "cell_type": "code",
      "execution_count": null,
      "metadata": {
        "id": "-pUGvk-IyNJO"
      },
      "outputs": [],
      "source": [
        "torch.nn.functional.softmax(x, dim=-1)"
      ]
    }
  ],
  "metadata": {
    "colab": {
      "collapsed_sections": [
        "hQ6Xeo01j5GY",
        "nj7fqF7jOFs-",
        "bTFlkVO2N-gT",
        "PUpQhUhKNi2d",
        "AiaKTY5lNTzb",
        "b0UzrPejJRa0",
        "-Kk8emkBWvQI",
        "W-RiefXonEb1",
        "On7vqmb6gKUT",
        "YNQ15tr8sNMc",
        "SDnOa3ZIArW5",
        "uctn0QTBZwIf",
        "LoXrLqVoHWW9",
        "4WxGqcFg13vI",
        "HtQvCWHcB82e",
        "3L1HltqL2THB",
        "1Eu6cH6HCRS2",
        "h5Z_MQycCRS3",
        "k4tVPPHK2g3J",
        "_Ltcb4FkIJ0h",
        "VrGXayCIIcN-",
        "Nb0-8nMpVbW_",
        "StMe4veUcnb9",
        "THqNvclmcs5e",
        "tpf9JnrGcyxi",
        "Nl_ZPzvbuTC6",
        "0qkUfExtvIeI",
        "IJYqMgip9XIy",
        "LHzz2XrmI-I5",
        "Ix2tK1e6Iiz3",
        "NfFuDpO1jt9Q",
        "nmnyjzrTj3m-",
        "_tWxuQ8fkD_o",
        "lGgSkQaKi1ZP",
        "uiOzj4axi6tr",
        "uSwFw7Ani_-7",
        "GXJGEZ8ckNeH",
        "JR-MRH5abFZs",
        "rqhXeUGYg_oR",
        "d3vAZ6l4Hjr3",
        "bkSPfy-whL0c",
        "DJ-xr-DMhQmD",
        "9NErpWQI3JU2",
        "SoGZeC3tTtT3",
        "7W0hve3e-hJ-",
        "_7yBDKFKs_VX",
        "0Jd6FF31q81Y",
        "RiZfeBL-p5pj",
        "1wFNpwQ0xXde",
        "bW5C9yO1xkvK",
        "DV5SOj554scc",
        "MQwJuCKux1V9",
        "CVkxgjgHaffX",
        "8Hhm79f6z1yy",
        "Dm02NP9-fxYI",
        "8MyS0vOTqCPG",
        "Mgrp8VADhUPY",
        "CPQ3N4ne4B2_",
        "QtzZkcGXh9E6",
        "F2mPZ5gzh9E8",
        "jxgAiGsih9E9",
        "0bPSv3vlh9E-",
        "QnOJ7mRXLRzz",
        "vaKfKKA2LRz0",
        "4Fkb55BxOTmk",
        "nSeVJ27gOTmo",
        "NbRlMBr-OTmq",
        "Sqbmoq0TOTmr",
        "9La3hYcWOTm0"
      ],
      "provenance": [],
      "gpuType": "T4",
      "include_colab_link": true
    },
    "kernelspec": {
      "display_name": "Python 3",
      "name": "python3"
    },
    "language_info": {
      "name": "python"
    },
    "widgets": {
      "application/vnd.jupyter.widget-state+json": {
        "7ca56bb5322a43599a734c61bfdd937e": {
          "model_module": "@jupyter-widgets/controls",
          "model_name": "HBoxModel",
          "model_module_version": "1.5.0",
          "state": {
            "_dom_classes": [],
            "_model_module": "@jupyter-widgets/controls",
            "_model_module_version": "1.5.0",
            "_model_name": "HBoxModel",
            "_view_count": null,
            "_view_module": "@jupyter-widgets/controls",
            "_view_module_version": "1.5.0",
            "_view_name": "HBoxView",
            "box_style": "",
            "children": [
              "IPY_MODEL_e1d17ef9ec1a43f7a4f6ba3a3e096f9d",
              "IPY_MODEL_f7e99d2c546a4b769eaefc6a52164711",
              "IPY_MODEL_8b73b997721c48a1a2a0d642f2eaa5ee"
            ],
            "layout": "IPY_MODEL_a1738a741622448ea23f6bf718c89260"
          }
        },
        "e1d17ef9ec1a43f7a4f6ba3a3e096f9d": {
          "model_module": "@jupyter-widgets/controls",
          "model_name": "HTMLModel",
          "model_module_version": "1.5.0",
          "state": {
            "_dom_classes": [],
            "_model_module": "@jupyter-widgets/controls",
            "_model_module_version": "1.5.0",
            "_model_name": "HTMLModel",
            "_view_count": null,
            "_view_module": "@jupyter-widgets/controls",
            "_view_module_version": "1.5.0",
            "_view_name": "HTMLView",
            "description": "",
            "description_tooltip": null,
            "layout": "IPY_MODEL_ac9491f5555d44c8bad0b43d30b26783",
            "placeholder": "​",
            "style": "IPY_MODEL_023496fb251a4bc28a692e7b961c185b",
            "value": "Tokenizing dataset: 100%"
          }
        },
        "f7e99d2c546a4b769eaefc6a52164711": {
          "model_module": "@jupyter-widgets/controls",
          "model_name": "FloatProgressModel",
          "model_module_version": "1.5.0",
          "state": {
            "_dom_classes": [],
            "_model_module": "@jupyter-widgets/controls",
            "_model_module_version": "1.5.0",
            "_model_name": "FloatProgressModel",
            "_view_count": null,
            "_view_module": "@jupyter-widgets/controls",
            "_view_module_version": "1.5.0",
            "_view_name": "ProgressView",
            "bar_style": "success",
            "description": "",
            "description_tooltip": null,
            "layout": "IPY_MODEL_911dc8aa03bb4e13acf9076b4a256f10",
            "max": 2802,
            "min": 0,
            "orientation": "horizontal",
            "style": "IPY_MODEL_91f1035a8bbb42e9be0b5af05f51995e",
            "value": 2802
          }
        },
        "8b73b997721c48a1a2a0d642f2eaa5ee": {
          "model_module": "@jupyter-widgets/controls",
          "model_name": "HTMLModel",
          "model_module_version": "1.5.0",
          "state": {
            "_dom_classes": [],
            "_model_module": "@jupyter-widgets/controls",
            "_model_module_version": "1.5.0",
            "_model_name": "HTMLModel",
            "_view_count": null,
            "_view_module": "@jupyter-widgets/controls",
            "_view_module_version": "1.5.0",
            "_view_name": "HTMLView",
            "description": "",
            "description_tooltip": null,
            "layout": "IPY_MODEL_eb7af122f34d444da47740f25a88937c",
            "placeholder": "​",
            "style": "IPY_MODEL_eae30228343542d2bd48387620e4986b",
            "value": " 2802/2802 [00:00&lt;00:00, 11658.53 examples/s]"
          }
        },
        "a1738a741622448ea23f6bf718c89260": {
          "model_module": "@jupyter-widgets/base",
          "model_name": "LayoutModel",
          "model_module_version": "1.2.0",
          "state": {
            "_model_module": "@jupyter-widgets/base",
            "_model_module_version": "1.2.0",
            "_model_name": "LayoutModel",
            "_view_count": null,
            "_view_module": "@jupyter-widgets/base",
            "_view_module_version": "1.2.0",
            "_view_name": "LayoutView",
            "align_content": null,
            "align_items": null,
            "align_self": null,
            "border": null,
            "bottom": null,
            "display": null,
            "flex": null,
            "flex_flow": null,
            "grid_area": null,
            "grid_auto_columns": null,
            "grid_auto_flow": null,
            "grid_auto_rows": null,
            "grid_column": null,
            "grid_gap": null,
            "grid_row": null,
            "grid_template_areas": null,
            "grid_template_columns": null,
            "grid_template_rows": null,
            "height": null,
            "justify_content": null,
            "justify_items": null,
            "left": null,
            "margin": null,
            "max_height": null,
            "max_width": null,
            "min_height": null,
            "min_width": null,
            "object_fit": null,
            "object_position": null,
            "order": null,
            "overflow": null,
            "overflow_x": null,
            "overflow_y": null,
            "padding": null,
            "right": null,
            "top": null,
            "visibility": null,
            "width": null
          }
        },
        "ac9491f5555d44c8bad0b43d30b26783": {
          "model_module": "@jupyter-widgets/base",
          "model_name": "LayoutModel",
          "model_module_version": "1.2.0",
          "state": {
            "_model_module": "@jupyter-widgets/base",
            "_model_module_version": "1.2.0",
            "_model_name": "LayoutModel",
            "_view_count": null,
            "_view_module": "@jupyter-widgets/base",
            "_view_module_version": "1.2.0",
            "_view_name": "LayoutView",
            "align_content": null,
            "align_items": null,
            "align_self": null,
            "border": null,
            "bottom": null,
            "display": null,
            "flex": null,
            "flex_flow": null,
            "grid_area": null,
            "grid_auto_columns": null,
            "grid_auto_flow": null,
            "grid_auto_rows": null,
            "grid_column": null,
            "grid_gap": null,
            "grid_row": null,
            "grid_template_areas": null,
            "grid_template_columns": null,
            "grid_template_rows": null,
            "height": null,
            "justify_content": null,
            "justify_items": null,
            "left": null,
            "margin": null,
            "max_height": null,
            "max_width": null,
            "min_height": null,
            "min_width": null,
            "object_fit": null,
            "object_position": null,
            "order": null,
            "overflow": null,
            "overflow_x": null,
            "overflow_y": null,
            "padding": null,
            "right": null,
            "top": null,
            "visibility": null,
            "width": null
          }
        },
        "023496fb251a4bc28a692e7b961c185b": {
          "model_module": "@jupyter-widgets/controls",
          "model_name": "DescriptionStyleModel",
          "model_module_version": "1.5.0",
          "state": {
            "_model_module": "@jupyter-widgets/controls",
            "_model_module_version": "1.5.0",
            "_model_name": "DescriptionStyleModel",
            "_view_count": null,
            "_view_module": "@jupyter-widgets/base",
            "_view_module_version": "1.2.0",
            "_view_name": "StyleView",
            "description_width": ""
          }
        },
        "911dc8aa03bb4e13acf9076b4a256f10": {
          "model_module": "@jupyter-widgets/base",
          "model_name": "LayoutModel",
          "model_module_version": "1.2.0",
          "state": {
            "_model_module": "@jupyter-widgets/base",
            "_model_module_version": "1.2.0",
            "_model_name": "LayoutModel",
            "_view_count": null,
            "_view_module": "@jupyter-widgets/base",
            "_view_module_version": "1.2.0",
            "_view_name": "LayoutView",
            "align_content": null,
            "align_items": null,
            "align_self": null,
            "border": null,
            "bottom": null,
            "display": null,
            "flex": null,
            "flex_flow": null,
            "grid_area": null,
            "grid_auto_columns": null,
            "grid_auto_flow": null,
            "grid_auto_rows": null,
            "grid_column": null,
            "grid_gap": null,
            "grid_row": null,
            "grid_template_areas": null,
            "grid_template_columns": null,
            "grid_template_rows": null,
            "height": null,
            "justify_content": null,
            "justify_items": null,
            "left": null,
            "margin": null,
            "max_height": null,
            "max_width": null,
            "min_height": null,
            "min_width": null,
            "object_fit": null,
            "object_position": null,
            "order": null,
            "overflow": null,
            "overflow_x": null,
            "overflow_y": null,
            "padding": null,
            "right": null,
            "top": null,
            "visibility": null,
            "width": null
          }
        },
        "91f1035a8bbb42e9be0b5af05f51995e": {
          "model_module": "@jupyter-widgets/controls",
          "model_name": "ProgressStyleModel",
          "model_module_version": "1.5.0",
          "state": {
            "_model_module": "@jupyter-widgets/controls",
            "_model_module_version": "1.5.0",
            "_model_name": "ProgressStyleModel",
            "_view_count": null,
            "_view_module": "@jupyter-widgets/base",
            "_view_module_version": "1.2.0",
            "_view_name": "StyleView",
            "bar_color": null,
            "description_width": ""
          }
        },
        "eb7af122f34d444da47740f25a88937c": {
          "model_module": "@jupyter-widgets/base",
          "model_name": "LayoutModel",
          "model_module_version": "1.2.0",
          "state": {
            "_model_module": "@jupyter-widgets/base",
            "_model_module_version": "1.2.0",
            "_model_name": "LayoutModel",
            "_view_count": null,
            "_view_module": "@jupyter-widgets/base",
            "_view_module_version": "1.2.0",
            "_view_name": "LayoutView",
            "align_content": null,
            "align_items": null,
            "align_self": null,
            "border": null,
            "bottom": null,
            "display": null,
            "flex": null,
            "flex_flow": null,
            "grid_area": null,
            "grid_auto_columns": null,
            "grid_auto_flow": null,
            "grid_auto_rows": null,
            "grid_column": null,
            "grid_gap": null,
            "grid_row": null,
            "grid_template_areas": null,
            "grid_template_columns": null,
            "grid_template_rows": null,
            "height": null,
            "justify_content": null,
            "justify_items": null,
            "left": null,
            "margin": null,
            "max_height": null,
            "max_width": null,
            "min_height": null,
            "min_width": null,
            "object_fit": null,
            "object_position": null,
            "order": null,
            "overflow": null,
            "overflow_x": null,
            "overflow_y": null,
            "padding": null,
            "right": null,
            "top": null,
            "visibility": null,
            "width": null
          }
        },
        "eae30228343542d2bd48387620e4986b": {
          "model_module": "@jupyter-widgets/controls",
          "model_name": "DescriptionStyleModel",
          "model_module_version": "1.5.0",
          "state": {
            "_model_module": "@jupyter-widgets/controls",
            "_model_module_version": "1.5.0",
            "_model_name": "DescriptionStyleModel",
            "_view_count": null,
            "_view_module": "@jupyter-widgets/base",
            "_view_module_version": "1.2.0",
            "_view_name": "StyleView",
            "description_width": ""
          }
        },
        "e650d117e645474d8c91399f29aa6b26": {
          "model_module": "@jupyter-widgets/controls",
          "model_name": "HBoxModel",
          "model_module_version": "1.5.0",
          "state": {
            "_dom_classes": [],
            "_model_module": "@jupyter-widgets/controls",
            "_model_module_version": "1.5.0",
            "_model_name": "HBoxModel",
            "_view_count": null,
            "_view_module": "@jupyter-widgets/controls",
            "_view_module_version": "1.5.0",
            "_view_name": "HBoxView",
            "box_style": "",
            "children": [
              "IPY_MODEL_78fc13af2a2e4753bf93e6adcd9ad9c0",
              "IPY_MODEL_e378f3b850284d9dafeb98c2b4afeb62",
              "IPY_MODEL_d53f1d406c594ffd90e62fedc32ce297"
            ],
            "layout": "IPY_MODEL_fe2efc1d8b42421297c5a80a62bf0669"
          }
        },
        "78fc13af2a2e4753bf93e6adcd9ad9c0": {
          "model_module": "@jupyter-widgets/controls",
          "model_name": "HTMLModel",
          "model_module_version": "1.5.0",
          "state": {
            "_dom_classes": [],
            "_model_module": "@jupyter-widgets/controls",
            "_model_module_version": "1.5.0",
            "_model_name": "HTMLModel",
            "_view_count": null,
            "_view_module": "@jupyter-widgets/controls",
            "_view_module_version": "1.5.0",
            "_view_name": "HTMLView",
            "description": "",
            "description_tooltip": null,
            "layout": "IPY_MODEL_3bc3e4dc9ed3470aba13574f5a71e755",
            "placeholder": "​",
            "style": "IPY_MODEL_5e3e1d277adb45c59d48ded6c55cd775",
            "value": "Tokenizing dataset: 100%"
          }
        },
        "e378f3b850284d9dafeb98c2b4afeb62": {
          "model_module": "@jupyter-widgets/controls",
          "model_name": "FloatProgressModel",
          "model_module_version": "1.5.0",
          "state": {
            "_dom_classes": [],
            "_model_module": "@jupyter-widgets/controls",
            "_model_module_version": "1.5.0",
            "_model_name": "FloatProgressModel",
            "_view_count": null,
            "_view_module": "@jupyter-widgets/controls",
            "_view_module_version": "1.5.0",
            "_view_name": "ProgressView",
            "bar_style": "success",
            "description": "",
            "description_tooltip": null,
            "layout": "IPY_MODEL_281d5252b6724cf087123659f112e033",
            "max": 398,
            "min": 0,
            "orientation": "horizontal",
            "style": "IPY_MODEL_6041d1f6ea6241faacc01062569dc7b8",
            "value": 398
          }
        },
        "d53f1d406c594ffd90e62fedc32ce297": {
          "model_module": "@jupyter-widgets/controls",
          "model_name": "HTMLModel",
          "model_module_version": "1.5.0",
          "state": {
            "_dom_classes": [],
            "_model_module": "@jupyter-widgets/controls",
            "_model_module_version": "1.5.0",
            "_model_name": "HTMLModel",
            "_view_count": null,
            "_view_module": "@jupyter-widgets/controls",
            "_view_module_version": "1.5.0",
            "_view_name": "HTMLView",
            "description": "",
            "description_tooltip": null,
            "layout": "IPY_MODEL_92098d409e0e44bda9c340a6f4987cb5",
            "placeholder": "​",
            "style": "IPY_MODEL_94c71f41253847a0bb2d3f2ebf94f0d8",
            "value": " 398/398 [00:00&lt;00:00, 5758.52 examples/s]"
          }
        },
        "fe2efc1d8b42421297c5a80a62bf0669": {
          "model_module": "@jupyter-widgets/base",
          "model_name": "LayoutModel",
          "model_module_version": "1.2.0",
          "state": {
            "_model_module": "@jupyter-widgets/base",
            "_model_module_version": "1.2.0",
            "_model_name": "LayoutModel",
            "_view_count": null,
            "_view_module": "@jupyter-widgets/base",
            "_view_module_version": "1.2.0",
            "_view_name": "LayoutView",
            "align_content": null,
            "align_items": null,
            "align_self": null,
            "border": null,
            "bottom": null,
            "display": null,
            "flex": null,
            "flex_flow": null,
            "grid_area": null,
            "grid_auto_columns": null,
            "grid_auto_flow": null,
            "grid_auto_rows": null,
            "grid_column": null,
            "grid_gap": null,
            "grid_row": null,
            "grid_template_areas": null,
            "grid_template_columns": null,
            "grid_template_rows": null,
            "height": null,
            "justify_content": null,
            "justify_items": null,
            "left": null,
            "margin": null,
            "max_height": null,
            "max_width": null,
            "min_height": null,
            "min_width": null,
            "object_fit": null,
            "object_position": null,
            "order": null,
            "overflow": null,
            "overflow_x": null,
            "overflow_y": null,
            "padding": null,
            "right": null,
            "top": null,
            "visibility": null,
            "width": null
          }
        },
        "3bc3e4dc9ed3470aba13574f5a71e755": {
          "model_module": "@jupyter-widgets/base",
          "model_name": "LayoutModel",
          "model_module_version": "1.2.0",
          "state": {
            "_model_module": "@jupyter-widgets/base",
            "_model_module_version": "1.2.0",
            "_model_name": "LayoutModel",
            "_view_count": null,
            "_view_module": "@jupyter-widgets/base",
            "_view_module_version": "1.2.0",
            "_view_name": "LayoutView",
            "align_content": null,
            "align_items": null,
            "align_self": null,
            "border": null,
            "bottom": null,
            "display": null,
            "flex": null,
            "flex_flow": null,
            "grid_area": null,
            "grid_auto_columns": null,
            "grid_auto_flow": null,
            "grid_auto_rows": null,
            "grid_column": null,
            "grid_gap": null,
            "grid_row": null,
            "grid_template_areas": null,
            "grid_template_columns": null,
            "grid_template_rows": null,
            "height": null,
            "justify_content": null,
            "justify_items": null,
            "left": null,
            "margin": null,
            "max_height": null,
            "max_width": null,
            "min_height": null,
            "min_width": null,
            "object_fit": null,
            "object_position": null,
            "order": null,
            "overflow": null,
            "overflow_x": null,
            "overflow_y": null,
            "padding": null,
            "right": null,
            "top": null,
            "visibility": null,
            "width": null
          }
        },
        "5e3e1d277adb45c59d48ded6c55cd775": {
          "model_module": "@jupyter-widgets/controls",
          "model_name": "DescriptionStyleModel",
          "model_module_version": "1.5.0",
          "state": {
            "_model_module": "@jupyter-widgets/controls",
            "_model_module_version": "1.5.0",
            "_model_name": "DescriptionStyleModel",
            "_view_count": null,
            "_view_module": "@jupyter-widgets/base",
            "_view_module_version": "1.2.0",
            "_view_name": "StyleView",
            "description_width": ""
          }
        },
        "281d5252b6724cf087123659f112e033": {
          "model_module": "@jupyter-widgets/base",
          "model_name": "LayoutModel",
          "model_module_version": "1.2.0",
          "state": {
            "_model_module": "@jupyter-widgets/base",
            "_model_module_version": "1.2.0",
            "_model_name": "LayoutModel",
            "_view_count": null,
            "_view_module": "@jupyter-widgets/base",
            "_view_module_version": "1.2.0",
            "_view_name": "LayoutView",
            "align_content": null,
            "align_items": null,
            "align_self": null,
            "border": null,
            "bottom": null,
            "display": null,
            "flex": null,
            "flex_flow": null,
            "grid_area": null,
            "grid_auto_columns": null,
            "grid_auto_flow": null,
            "grid_auto_rows": null,
            "grid_column": null,
            "grid_gap": null,
            "grid_row": null,
            "grid_template_areas": null,
            "grid_template_columns": null,
            "grid_template_rows": null,
            "height": null,
            "justify_content": null,
            "justify_items": null,
            "left": null,
            "margin": null,
            "max_height": null,
            "max_width": null,
            "min_height": null,
            "min_width": null,
            "object_fit": null,
            "object_position": null,
            "order": null,
            "overflow": null,
            "overflow_x": null,
            "overflow_y": null,
            "padding": null,
            "right": null,
            "top": null,
            "visibility": null,
            "width": null
          }
        },
        "6041d1f6ea6241faacc01062569dc7b8": {
          "model_module": "@jupyter-widgets/controls",
          "model_name": "ProgressStyleModel",
          "model_module_version": "1.5.0",
          "state": {
            "_model_module": "@jupyter-widgets/controls",
            "_model_module_version": "1.5.0",
            "_model_name": "ProgressStyleModel",
            "_view_count": null,
            "_view_module": "@jupyter-widgets/base",
            "_view_module_version": "1.2.0",
            "_view_name": "StyleView",
            "bar_color": null,
            "description_width": ""
          }
        },
        "92098d409e0e44bda9c340a6f4987cb5": {
          "model_module": "@jupyter-widgets/base",
          "model_name": "LayoutModel",
          "model_module_version": "1.2.0",
          "state": {
            "_model_module": "@jupyter-widgets/base",
            "_model_module_version": "1.2.0",
            "_model_name": "LayoutModel",
            "_view_count": null,
            "_view_module": "@jupyter-widgets/base",
            "_view_module_version": "1.2.0",
            "_view_name": "LayoutView",
            "align_content": null,
            "align_items": null,
            "align_self": null,
            "border": null,
            "bottom": null,
            "display": null,
            "flex": null,
            "flex_flow": null,
            "grid_area": null,
            "grid_auto_columns": null,
            "grid_auto_flow": null,
            "grid_auto_rows": null,
            "grid_column": null,
            "grid_gap": null,
            "grid_row": null,
            "grid_template_areas": null,
            "grid_template_columns": null,
            "grid_template_rows": null,
            "height": null,
            "justify_content": null,
            "justify_items": null,
            "left": null,
            "margin": null,
            "max_height": null,
            "max_width": null,
            "min_height": null,
            "min_width": null,
            "object_fit": null,
            "object_position": null,
            "order": null,
            "overflow": null,
            "overflow_x": null,
            "overflow_y": null,
            "padding": null,
            "right": null,
            "top": null,
            "visibility": null,
            "width": null
          }
        },
        "94c71f41253847a0bb2d3f2ebf94f0d8": {
          "model_module": "@jupyter-widgets/controls",
          "model_name": "DescriptionStyleModel",
          "model_module_version": "1.5.0",
          "state": {
            "_model_module": "@jupyter-widgets/controls",
            "_model_module_version": "1.5.0",
            "_model_name": "DescriptionStyleModel",
            "_view_count": null,
            "_view_module": "@jupyter-widgets/base",
            "_view_module_version": "1.2.0",
            "_view_name": "StyleView",
            "description_width": ""
          }
        },
        "8416291cffb04d808e95d2fb2d678aae": {
          "model_module": "@jupyter-widgets/controls",
          "model_name": "HBoxModel",
          "model_module_version": "1.5.0",
          "state": {
            "_dom_classes": [],
            "_model_module": "@jupyter-widgets/controls",
            "_model_module_version": "1.5.0",
            "_model_name": "HBoxModel",
            "_view_count": null,
            "_view_module": "@jupyter-widgets/controls",
            "_view_module_version": "1.5.0",
            "_view_name": "HBoxView",
            "box_style": "",
            "children": [
              "IPY_MODEL_3b428a73e51f4bf8a78485d357d05fb8",
              "IPY_MODEL_2f8abe464c294b1aa0e74b3631d8d9e9",
              "IPY_MODEL_a01cb10567bf48319d131bb2d6569e6e"
            ],
            "layout": "IPY_MODEL_21a0661d1cde466bb45c5d3e38c8c63d"
          }
        },
        "3b428a73e51f4bf8a78485d357d05fb8": {
          "model_module": "@jupyter-widgets/controls",
          "model_name": "HTMLModel",
          "model_module_version": "1.5.0",
          "state": {
            "_dom_classes": [],
            "_model_module": "@jupyter-widgets/controls",
            "_model_module_version": "1.5.0",
            "_model_name": "HTMLModel",
            "_view_count": null,
            "_view_module": "@jupyter-widgets/controls",
            "_view_module_version": "1.5.0",
            "_view_name": "HTMLView",
            "description": "",
            "description_tooltip": null,
            "layout": "IPY_MODEL_db74ae3f9e36433c8d5c5d23be36ba5e",
            "placeholder": "​",
            "style": "IPY_MODEL_9c0006bb202047e3b129e1668a1721af",
            "value": "Tokenizing dataset: 100%"
          }
        },
        "2f8abe464c294b1aa0e74b3631d8d9e9": {
          "model_module": "@jupyter-widgets/controls",
          "model_name": "FloatProgressModel",
          "model_module_version": "1.5.0",
          "state": {
            "_dom_classes": [],
            "_model_module": "@jupyter-widgets/controls",
            "_model_module_version": "1.5.0",
            "_model_name": "FloatProgressModel",
            "_view_count": null,
            "_view_module": "@jupyter-widgets/controls",
            "_view_module_version": "1.5.0",
            "_view_name": "ProgressView",
            "bar_style": "success",
            "description": "",
            "description_tooltip": null,
            "layout": "IPY_MODEL_ef86ac8aa1ed47978069b9738c6a4922",
            "max": 811,
            "min": 0,
            "orientation": "horizontal",
            "style": "IPY_MODEL_75944fe2795740e59a6cbb0509e6c99c",
            "value": 811
          }
        },
        "a01cb10567bf48319d131bb2d6569e6e": {
          "model_module": "@jupyter-widgets/controls",
          "model_name": "HTMLModel",
          "model_module_version": "1.5.0",
          "state": {
            "_dom_classes": [],
            "_model_module": "@jupyter-widgets/controls",
            "_model_module_version": "1.5.0",
            "_model_name": "HTMLModel",
            "_view_count": null,
            "_view_module": "@jupyter-widgets/controls",
            "_view_module_version": "1.5.0",
            "_view_name": "HTMLView",
            "description": "",
            "description_tooltip": null,
            "layout": "IPY_MODEL_8cde6f068ba74ad9a124619fdb23d50c",
            "placeholder": "​",
            "style": "IPY_MODEL_d2a56185d7e2403f89b363452e432d26",
            "value": " 811/811 [00:00&lt;00:00, 7293.30 examples/s]"
          }
        },
        "21a0661d1cde466bb45c5d3e38c8c63d": {
          "model_module": "@jupyter-widgets/base",
          "model_name": "LayoutModel",
          "model_module_version": "1.2.0",
          "state": {
            "_model_module": "@jupyter-widgets/base",
            "_model_module_version": "1.2.0",
            "_model_name": "LayoutModel",
            "_view_count": null,
            "_view_module": "@jupyter-widgets/base",
            "_view_module_version": "1.2.0",
            "_view_name": "LayoutView",
            "align_content": null,
            "align_items": null,
            "align_self": null,
            "border": null,
            "bottom": null,
            "display": null,
            "flex": null,
            "flex_flow": null,
            "grid_area": null,
            "grid_auto_columns": null,
            "grid_auto_flow": null,
            "grid_auto_rows": null,
            "grid_column": null,
            "grid_gap": null,
            "grid_row": null,
            "grid_template_areas": null,
            "grid_template_columns": null,
            "grid_template_rows": null,
            "height": null,
            "justify_content": null,
            "justify_items": null,
            "left": null,
            "margin": null,
            "max_height": null,
            "max_width": null,
            "min_height": null,
            "min_width": null,
            "object_fit": null,
            "object_position": null,
            "order": null,
            "overflow": null,
            "overflow_x": null,
            "overflow_y": null,
            "padding": null,
            "right": null,
            "top": null,
            "visibility": null,
            "width": null
          }
        },
        "db74ae3f9e36433c8d5c5d23be36ba5e": {
          "model_module": "@jupyter-widgets/base",
          "model_name": "LayoutModel",
          "model_module_version": "1.2.0",
          "state": {
            "_model_module": "@jupyter-widgets/base",
            "_model_module_version": "1.2.0",
            "_model_name": "LayoutModel",
            "_view_count": null,
            "_view_module": "@jupyter-widgets/base",
            "_view_module_version": "1.2.0",
            "_view_name": "LayoutView",
            "align_content": null,
            "align_items": null,
            "align_self": null,
            "border": null,
            "bottom": null,
            "display": null,
            "flex": null,
            "flex_flow": null,
            "grid_area": null,
            "grid_auto_columns": null,
            "grid_auto_flow": null,
            "grid_auto_rows": null,
            "grid_column": null,
            "grid_gap": null,
            "grid_row": null,
            "grid_template_areas": null,
            "grid_template_columns": null,
            "grid_template_rows": null,
            "height": null,
            "justify_content": null,
            "justify_items": null,
            "left": null,
            "margin": null,
            "max_height": null,
            "max_width": null,
            "min_height": null,
            "min_width": null,
            "object_fit": null,
            "object_position": null,
            "order": null,
            "overflow": null,
            "overflow_x": null,
            "overflow_y": null,
            "padding": null,
            "right": null,
            "top": null,
            "visibility": null,
            "width": null
          }
        },
        "9c0006bb202047e3b129e1668a1721af": {
          "model_module": "@jupyter-widgets/controls",
          "model_name": "DescriptionStyleModel",
          "model_module_version": "1.5.0",
          "state": {
            "_model_module": "@jupyter-widgets/controls",
            "_model_module_version": "1.5.0",
            "_model_name": "DescriptionStyleModel",
            "_view_count": null,
            "_view_module": "@jupyter-widgets/base",
            "_view_module_version": "1.2.0",
            "_view_name": "StyleView",
            "description_width": ""
          }
        },
        "ef86ac8aa1ed47978069b9738c6a4922": {
          "model_module": "@jupyter-widgets/base",
          "model_name": "LayoutModel",
          "model_module_version": "1.2.0",
          "state": {
            "_model_module": "@jupyter-widgets/base",
            "_model_module_version": "1.2.0",
            "_model_name": "LayoutModel",
            "_view_count": null,
            "_view_module": "@jupyter-widgets/base",
            "_view_module_version": "1.2.0",
            "_view_name": "LayoutView",
            "align_content": null,
            "align_items": null,
            "align_self": null,
            "border": null,
            "bottom": null,
            "display": null,
            "flex": null,
            "flex_flow": null,
            "grid_area": null,
            "grid_auto_columns": null,
            "grid_auto_flow": null,
            "grid_auto_rows": null,
            "grid_column": null,
            "grid_gap": null,
            "grid_row": null,
            "grid_template_areas": null,
            "grid_template_columns": null,
            "grid_template_rows": null,
            "height": null,
            "justify_content": null,
            "justify_items": null,
            "left": null,
            "margin": null,
            "max_height": null,
            "max_width": null,
            "min_height": null,
            "min_width": null,
            "object_fit": null,
            "object_position": null,
            "order": null,
            "overflow": null,
            "overflow_x": null,
            "overflow_y": null,
            "padding": null,
            "right": null,
            "top": null,
            "visibility": null,
            "width": null
          }
        },
        "75944fe2795740e59a6cbb0509e6c99c": {
          "model_module": "@jupyter-widgets/controls",
          "model_name": "ProgressStyleModel",
          "model_module_version": "1.5.0",
          "state": {
            "_model_module": "@jupyter-widgets/controls",
            "_model_module_version": "1.5.0",
            "_model_name": "ProgressStyleModel",
            "_view_count": null,
            "_view_module": "@jupyter-widgets/base",
            "_view_module_version": "1.2.0",
            "_view_name": "StyleView",
            "bar_color": null,
            "description_width": ""
          }
        },
        "8cde6f068ba74ad9a124619fdb23d50c": {
          "model_module": "@jupyter-widgets/base",
          "model_name": "LayoutModel",
          "model_module_version": "1.2.0",
          "state": {
            "_model_module": "@jupyter-widgets/base",
            "_model_module_version": "1.2.0",
            "_model_name": "LayoutModel",
            "_view_count": null,
            "_view_module": "@jupyter-widgets/base",
            "_view_module_version": "1.2.0",
            "_view_name": "LayoutView",
            "align_content": null,
            "align_items": null,
            "align_self": null,
            "border": null,
            "bottom": null,
            "display": null,
            "flex": null,
            "flex_flow": null,
            "grid_area": null,
            "grid_auto_columns": null,
            "grid_auto_flow": null,
            "grid_auto_rows": null,
            "grid_column": null,
            "grid_gap": null,
            "grid_row": null,
            "grid_template_areas": null,
            "grid_template_columns": null,
            "grid_template_rows": null,
            "height": null,
            "justify_content": null,
            "justify_items": null,
            "left": null,
            "margin": null,
            "max_height": null,
            "max_width": null,
            "min_height": null,
            "min_width": null,
            "object_fit": null,
            "object_position": null,
            "order": null,
            "overflow": null,
            "overflow_x": null,
            "overflow_y": null,
            "padding": null,
            "right": null,
            "top": null,
            "visibility": null,
            "width": null
          }
        },
        "d2a56185d7e2403f89b363452e432d26": {
          "model_module": "@jupyter-widgets/controls",
          "model_name": "DescriptionStyleModel",
          "model_module_version": "1.5.0",
          "state": {
            "_model_module": "@jupyter-widgets/controls",
            "_model_module_version": "1.5.0",
            "_model_name": "DescriptionStyleModel",
            "_view_count": null,
            "_view_module": "@jupyter-widgets/base",
            "_view_module_version": "1.2.0",
            "_view_name": "StyleView",
            "description_width": ""
          }
        },
        "06c2a0000bcd4737b7addb0c2bc107bb": {
          "model_module": "@jupyter-widgets/controls",
          "model_name": "HBoxModel",
          "model_module_version": "1.5.0",
          "state": {
            "_dom_classes": [],
            "_model_module": "@jupyter-widgets/controls",
            "_model_module_version": "1.5.0",
            "_model_name": "HBoxModel",
            "_view_count": null,
            "_view_module": "@jupyter-widgets/controls",
            "_view_module_version": "1.5.0",
            "_view_name": "HBoxView",
            "box_style": "",
            "children": [
              "IPY_MODEL_daddc4944f2245daa2cf55e3989a0e05",
              "IPY_MODEL_24db28ff26c140b29919ad8532b1e962",
              "IPY_MODEL_c95279bf4ecd4524b43fe6cb07125b79"
            ],
            "layout": "IPY_MODEL_0b1a75a9a5904a18a1269d01bfeb6e49"
          }
        },
        "daddc4944f2245daa2cf55e3989a0e05": {
          "model_module": "@jupyter-widgets/controls",
          "model_name": "HTMLModel",
          "model_module_version": "1.5.0",
          "state": {
            "_dom_classes": [],
            "_model_module": "@jupyter-widgets/controls",
            "_model_module_version": "1.5.0",
            "_model_name": "HTMLModel",
            "_view_count": null,
            "_view_module": "@jupyter-widgets/controls",
            "_view_module_version": "1.5.0",
            "_view_name": "HTMLView",
            "description": "",
            "description_tooltip": null,
            "layout": "IPY_MODEL_269a50253eb5452aaf2b485097ddfbed",
            "placeholder": "​",
            "style": "IPY_MODEL_ce149669193d43ffa993b4d055e963c7",
            "value": "Masking tokens in Validation: 100%"
          }
        },
        "24db28ff26c140b29919ad8532b1e962": {
          "model_module": "@jupyter-widgets/controls",
          "model_name": "FloatProgressModel",
          "model_module_version": "1.5.0",
          "state": {
            "_dom_classes": [],
            "_model_module": "@jupyter-widgets/controls",
            "_model_module_version": "1.5.0",
            "_model_name": "FloatProgressModel",
            "_view_count": null,
            "_view_module": "@jupyter-widgets/controls",
            "_view_module_version": "1.5.0",
            "_view_name": "ProgressView",
            "bar_style": "success",
            "description": "",
            "description_tooltip": null,
            "layout": "IPY_MODEL_cf59846f00db43869bcbe85f5e44d12b",
            "max": 398,
            "min": 0,
            "orientation": "horizontal",
            "style": "IPY_MODEL_84f2dd12c02742f295c441f2ea3dc9f8",
            "value": 398
          }
        },
        "c95279bf4ecd4524b43fe6cb07125b79": {
          "model_module": "@jupyter-widgets/controls",
          "model_name": "HTMLModel",
          "model_module_version": "1.5.0",
          "state": {
            "_dom_classes": [],
            "_model_module": "@jupyter-widgets/controls",
            "_model_module_version": "1.5.0",
            "_model_name": "HTMLModel",
            "_view_count": null,
            "_view_module": "@jupyter-widgets/controls",
            "_view_module_version": "1.5.0",
            "_view_name": "HTMLView",
            "description": "",
            "description_tooltip": null,
            "layout": "IPY_MODEL_2716526fb238406996dcacbeb5bf067c",
            "placeholder": "​",
            "style": "IPY_MODEL_e7844af17df243278766df416057ee60",
            "value": " 398/398 [00:00&lt;00:00, 1155.17 examples/s]"
          }
        },
        "0b1a75a9a5904a18a1269d01bfeb6e49": {
          "model_module": "@jupyter-widgets/base",
          "model_name": "LayoutModel",
          "model_module_version": "1.2.0",
          "state": {
            "_model_module": "@jupyter-widgets/base",
            "_model_module_version": "1.2.0",
            "_model_name": "LayoutModel",
            "_view_count": null,
            "_view_module": "@jupyter-widgets/base",
            "_view_module_version": "1.2.0",
            "_view_name": "LayoutView",
            "align_content": null,
            "align_items": null,
            "align_self": null,
            "border": null,
            "bottom": null,
            "display": null,
            "flex": null,
            "flex_flow": null,
            "grid_area": null,
            "grid_auto_columns": null,
            "grid_auto_flow": null,
            "grid_auto_rows": null,
            "grid_column": null,
            "grid_gap": null,
            "grid_row": null,
            "grid_template_areas": null,
            "grid_template_columns": null,
            "grid_template_rows": null,
            "height": null,
            "justify_content": null,
            "justify_items": null,
            "left": null,
            "margin": null,
            "max_height": null,
            "max_width": null,
            "min_height": null,
            "min_width": null,
            "object_fit": null,
            "object_position": null,
            "order": null,
            "overflow": null,
            "overflow_x": null,
            "overflow_y": null,
            "padding": null,
            "right": null,
            "top": null,
            "visibility": null,
            "width": null
          }
        },
        "269a50253eb5452aaf2b485097ddfbed": {
          "model_module": "@jupyter-widgets/base",
          "model_name": "LayoutModel",
          "model_module_version": "1.2.0",
          "state": {
            "_model_module": "@jupyter-widgets/base",
            "_model_module_version": "1.2.0",
            "_model_name": "LayoutModel",
            "_view_count": null,
            "_view_module": "@jupyter-widgets/base",
            "_view_module_version": "1.2.0",
            "_view_name": "LayoutView",
            "align_content": null,
            "align_items": null,
            "align_self": null,
            "border": null,
            "bottom": null,
            "display": null,
            "flex": null,
            "flex_flow": null,
            "grid_area": null,
            "grid_auto_columns": null,
            "grid_auto_flow": null,
            "grid_auto_rows": null,
            "grid_column": null,
            "grid_gap": null,
            "grid_row": null,
            "grid_template_areas": null,
            "grid_template_columns": null,
            "grid_template_rows": null,
            "height": null,
            "justify_content": null,
            "justify_items": null,
            "left": null,
            "margin": null,
            "max_height": null,
            "max_width": null,
            "min_height": null,
            "min_width": null,
            "object_fit": null,
            "object_position": null,
            "order": null,
            "overflow": null,
            "overflow_x": null,
            "overflow_y": null,
            "padding": null,
            "right": null,
            "top": null,
            "visibility": null,
            "width": null
          }
        },
        "ce149669193d43ffa993b4d055e963c7": {
          "model_module": "@jupyter-widgets/controls",
          "model_name": "DescriptionStyleModel",
          "model_module_version": "1.5.0",
          "state": {
            "_model_module": "@jupyter-widgets/controls",
            "_model_module_version": "1.5.0",
            "_model_name": "DescriptionStyleModel",
            "_view_count": null,
            "_view_module": "@jupyter-widgets/base",
            "_view_module_version": "1.2.0",
            "_view_name": "StyleView",
            "description_width": ""
          }
        },
        "cf59846f00db43869bcbe85f5e44d12b": {
          "model_module": "@jupyter-widgets/base",
          "model_name": "LayoutModel",
          "model_module_version": "1.2.0",
          "state": {
            "_model_module": "@jupyter-widgets/base",
            "_model_module_version": "1.2.0",
            "_model_name": "LayoutModel",
            "_view_count": null,
            "_view_module": "@jupyter-widgets/base",
            "_view_module_version": "1.2.0",
            "_view_name": "LayoutView",
            "align_content": null,
            "align_items": null,
            "align_self": null,
            "border": null,
            "bottom": null,
            "display": null,
            "flex": null,
            "flex_flow": null,
            "grid_area": null,
            "grid_auto_columns": null,
            "grid_auto_flow": null,
            "grid_auto_rows": null,
            "grid_column": null,
            "grid_gap": null,
            "grid_row": null,
            "grid_template_areas": null,
            "grid_template_columns": null,
            "grid_template_rows": null,
            "height": null,
            "justify_content": null,
            "justify_items": null,
            "left": null,
            "margin": null,
            "max_height": null,
            "max_width": null,
            "min_height": null,
            "min_width": null,
            "object_fit": null,
            "object_position": null,
            "order": null,
            "overflow": null,
            "overflow_x": null,
            "overflow_y": null,
            "padding": null,
            "right": null,
            "top": null,
            "visibility": null,
            "width": null
          }
        },
        "84f2dd12c02742f295c441f2ea3dc9f8": {
          "model_module": "@jupyter-widgets/controls",
          "model_name": "ProgressStyleModel",
          "model_module_version": "1.5.0",
          "state": {
            "_model_module": "@jupyter-widgets/controls",
            "_model_module_version": "1.5.0",
            "_model_name": "ProgressStyleModel",
            "_view_count": null,
            "_view_module": "@jupyter-widgets/base",
            "_view_module_version": "1.2.0",
            "_view_name": "StyleView",
            "bar_color": null,
            "description_width": ""
          }
        },
        "2716526fb238406996dcacbeb5bf067c": {
          "model_module": "@jupyter-widgets/base",
          "model_name": "LayoutModel",
          "model_module_version": "1.2.0",
          "state": {
            "_model_module": "@jupyter-widgets/base",
            "_model_module_version": "1.2.0",
            "_model_name": "LayoutModel",
            "_view_count": null,
            "_view_module": "@jupyter-widgets/base",
            "_view_module_version": "1.2.0",
            "_view_name": "LayoutView",
            "align_content": null,
            "align_items": null,
            "align_self": null,
            "border": null,
            "bottom": null,
            "display": null,
            "flex": null,
            "flex_flow": null,
            "grid_area": null,
            "grid_auto_columns": null,
            "grid_auto_flow": null,
            "grid_auto_rows": null,
            "grid_column": null,
            "grid_gap": null,
            "grid_row": null,
            "grid_template_areas": null,
            "grid_template_columns": null,
            "grid_template_rows": null,
            "height": null,
            "justify_content": null,
            "justify_items": null,
            "left": null,
            "margin": null,
            "max_height": null,
            "max_width": null,
            "min_height": null,
            "min_width": null,
            "object_fit": null,
            "object_position": null,
            "order": null,
            "overflow": null,
            "overflow_x": null,
            "overflow_y": null,
            "padding": null,
            "right": null,
            "top": null,
            "visibility": null,
            "width": null
          }
        },
        "e7844af17df243278766df416057ee60": {
          "model_module": "@jupyter-widgets/controls",
          "model_name": "DescriptionStyleModel",
          "model_module_version": "1.5.0",
          "state": {
            "_model_module": "@jupyter-widgets/controls",
            "_model_module_version": "1.5.0",
            "_model_name": "DescriptionStyleModel",
            "_view_count": null,
            "_view_module": "@jupyter-widgets/base",
            "_view_module_version": "1.2.0",
            "_view_name": "StyleView",
            "description_width": ""
          }
        },
        "842364cb4e764e7189cdaf2a34d93532": {
          "model_module": "@jupyter-widgets/controls",
          "model_name": "HBoxModel",
          "model_module_version": "1.5.0",
          "state": {
            "_dom_classes": [],
            "_model_module": "@jupyter-widgets/controls",
            "_model_module_version": "1.5.0",
            "_model_name": "HBoxModel",
            "_view_count": null,
            "_view_module": "@jupyter-widgets/controls",
            "_view_module_version": "1.5.0",
            "_view_name": "HBoxView",
            "box_style": "",
            "children": [
              "IPY_MODEL_a3d56b70f2fc42738989df42ffaf91b5",
              "IPY_MODEL_bdea8f682a4242138d377dc490138aee",
              "IPY_MODEL_ce18cfe4d18c46f18a6cab8ec26a9e4f"
            ],
            "layout": "IPY_MODEL_ddb05d0912fc42ca9376d0ba717deefb"
          }
        },
        "a3d56b70f2fc42738989df42ffaf91b5": {
          "model_module": "@jupyter-widgets/controls",
          "model_name": "HTMLModel",
          "model_module_version": "1.5.0",
          "state": {
            "_dom_classes": [],
            "_model_module": "@jupyter-widgets/controls",
            "_model_module_version": "1.5.0",
            "_model_name": "HTMLModel",
            "_view_count": null,
            "_view_module": "@jupyter-widgets/controls",
            "_view_module_version": "1.5.0",
            "_view_name": "HTMLView",
            "description": "",
            "description_tooltip": null,
            "layout": "IPY_MODEL_a030e67b24ee431e91f1670658f2f020",
            "placeholder": "​",
            "style": "IPY_MODEL_1ab8089154324565bd33a69e4110f930",
            "value": "Adding Word Embeddings to Index: 100%"
          }
        },
        "bdea8f682a4242138d377dc490138aee": {
          "model_module": "@jupyter-widgets/controls",
          "model_name": "FloatProgressModel",
          "model_module_version": "1.5.0",
          "state": {
            "_dom_classes": [],
            "_model_module": "@jupyter-widgets/controls",
            "_model_module_version": "1.5.0",
            "_model_name": "FloatProgressModel",
            "_view_count": null,
            "_view_module": "@jupyter-widgets/controls",
            "_view_module_version": "1.5.0",
            "_view_name": "ProgressView",
            "bar_style": "success",
            "description": "",
            "description_tooltip": null,
            "layout": "IPY_MODEL_887f7695a62347b2a5aabe638e47047c",
            "max": 100000,
            "min": 0,
            "orientation": "horizontal",
            "style": "IPY_MODEL_1f3664fbf9404043b430c0d678c2a4be",
            "value": 100000
          }
        },
        "ce18cfe4d18c46f18a6cab8ec26a9e4f": {
          "model_module": "@jupyter-widgets/controls",
          "model_name": "HTMLModel",
          "model_module_version": "1.5.0",
          "state": {
            "_dom_classes": [],
            "_model_module": "@jupyter-widgets/controls",
            "_model_module_version": "1.5.0",
            "_model_name": "HTMLModel",
            "_view_count": null,
            "_view_module": "@jupyter-widgets/controls",
            "_view_module_version": "1.5.0",
            "_view_name": "HTMLView",
            "description": "",
            "description_tooltip": null,
            "layout": "IPY_MODEL_e311121bb3e24cbdb56457ca45c586fc",
            "placeholder": "​",
            "style": "IPY_MODEL_9a3b3d5917d84a2da6c97184e8ac2092",
            "value": " 100000/100000 [00:11&lt;00:00, 13325.87it/s]"
          }
        },
        "ddb05d0912fc42ca9376d0ba717deefb": {
          "model_module": "@jupyter-widgets/base",
          "model_name": "LayoutModel",
          "model_module_version": "1.2.0",
          "state": {
            "_model_module": "@jupyter-widgets/base",
            "_model_module_version": "1.2.0",
            "_model_name": "LayoutModel",
            "_view_count": null,
            "_view_module": "@jupyter-widgets/base",
            "_view_module_version": "1.2.0",
            "_view_name": "LayoutView",
            "align_content": null,
            "align_items": null,
            "align_self": null,
            "border": null,
            "bottom": null,
            "display": null,
            "flex": null,
            "flex_flow": null,
            "grid_area": null,
            "grid_auto_columns": null,
            "grid_auto_flow": null,
            "grid_auto_rows": null,
            "grid_column": null,
            "grid_gap": null,
            "grid_row": null,
            "grid_template_areas": null,
            "grid_template_columns": null,
            "grid_template_rows": null,
            "height": null,
            "justify_content": null,
            "justify_items": null,
            "left": null,
            "margin": null,
            "max_height": null,
            "max_width": null,
            "min_height": null,
            "min_width": null,
            "object_fit": null,
            "object_position": null,
            "order": null,
            "overflow": null,
            "overflow_x": null,
            "overflow_y": null,
            "padding": null,
            "right": null,
            "top": null,
            "visibility": null,
            "width": null
          }
        },
        "a030e67b24ee431e91f1670658f2f020": {
          "model_module": "@jupyter-widgets/base",
          "model_name": "LayoutModel",
          "model_module_version": "1.2.0",
          "state": {
            "_model_module": "@jupyter-widgets/base",
            "_model_module_version": "1.2.0",
            "_model_name": "LayoutModel",
            "_view_count": null,
            "_view_module": "@jupyter-widgets/base",
            "_view_module_version": "1.2.0",
            "_view_name": "LayoutView",
            "align_content": null,
            "align_items": null,
            "align_self": null,
            "border": null,
            "bottom": null,
            "display": null,
            "flex": null,
            "flex_flow": null,
            "grid_area": null,
            "grid_auto_columns": null,
            "grid_auto_flow": null,
            "grid_auto_rows": null,
            "grid_column": null,
            "grid_gap": null,
            "grid_row": null,
            "grid_template_areas": null,
            "grid_template_columns": null,
            "grid_template_rows": null,
            "height": null,
            "justify_content": null,
            "justify_items": null,
            "left": null,
            "margin": null,
            "max_height": null,
            "max_width": null,
            "min_height": null,
            "min_width": null,
            "object_fit": null,
            "object_position": null,
            "order": null,
            "overflow": null,
            "overflow_x": null,
            "overflow_y": null,
            "padding": null,
            "right": null,
            "top": null,
            "visibility": null,
            "width": null
          }
        },
        "1ab8089154324565bd33a69e4110f930": {
          "model_module": "@jupyter-widgets/controls",
          "model_name": "DescriptionStyleModel",
          "model_module_version": "1.5.0",
          "state": {
            "_model_module": "@jupyter-widgets/controls",
            "_model_module_version": "1.5.0",
            "_model_name": "DescriptionStyleModel",
            "_view_count": null,
            "_view_module": "@jupyter-widgets/base",
            "_view_module_version": "1.2.0",
            "_view_name": "StyleView",
            "description_width": ""
          }
        },
        "887f7695a62347b2a5aabe638e47047c": {
          "model_module": "@jupyter-widgets/base",
          "model_name": "LayoutModel",
          "model_module_version": "1.2.0",
          "state": {
            "_model_module": "@jupyter-widgets/base",
            "_model_module_version": "1.2.0",
            "_model_name": "LayoutModel",
            "_view_count": null,
            "_view_module": "@jupyter-widgets/base",
            "_view_module_version": "1.2.0",
            "_view_name": "LayoutView",
            "align_content": null,
            "align_items": null,
            "align_self": null,
            "border": null,
            "bottom": null,
            "display": null,
            "flex": null,
            "flex_flow": null,
            "grid_area": null,
            "grid_auto_columns": null,
            "grid_auto_flow": null,
            "grid_auto_rows": null,
            "grid_column": null,
            "grid_gap": null,
            "grid_row": null,
            "grid_template_areas": null,
            "grid_template_columns": null,
            "grid_template_rows": null,
            "height": null,
            "justify_content": null,
            "justify_items": null,
            "left": null,
            "margin": null,
            "max_height": null,
            "max_width": null,
            "min_height": null,
            "min_width": null,
            "object_fit": null,
            "object_position": null,
            "order": null,
            "overflow": null,
            "overflow_x": null,
            "overflow_y": null,
            "padding": null,
            "right": null,
            "top": null,
            "visibility": null,
            "width": null
          }
        },
        "1f3664fbf9404043b430c0d678c2a4be": {
          "model_module": "@jupyter-widgets/controls",
          "model_name": "ProgressStyleModel",
          "model_module_version": "1.5.0",
          "state": {
            "_model_module": "@jupyter-widgets/controls",
            "_model_module_version": "1.5.0",
            "_model_name": "ProgressStyleModel",
            "_view_count": null,
            "_view_module": "@jupyter-widgets/base",
            "_view_module_version": "1.2.0",
            "_view_name": "StyleView",
            "bar_color": null,
            "description_width": ""
          }
        },
        "e311121bb3e24cbdb56457ca45c586fc": {
          "model_module": "@jupyter-widgets/base",
          "model_name": "LayoutModel",
          "model_module_version": "1.2.0",
          "state": {
            "_model_module": "@jupyter-widgets/base",
            "_model_module_version": "1.2.0",
            "_model_name": "LayoutModel",
            "_view_count": null,
            "_view_module": "@jupyter-widgets/base",
            "_view_module_version": "1.2.0",
            "_view_name": "LayoutView",
            "align_content": null,
            "align_items": null,
            "align_self": null,
            "border": null,
            "bottom": null,
            "display": null,
            "flex": null,
            "flex_flow": null,
            "grid_area": null,
            "grid_auto_columns": null,
            "grid_auto_flow": null,
            "grid_auto_rows": null,
            "grid_column": null,
            "grid_gap": null,
            "grid_row": null,
            "grid_template_areas": null,
            "grid_template_columns": null,
            "grid_template_rows": null,
            "height": null,
            "justify_content": null,
            "justify_items": null,
            "left": null,
            "margin": null,
            "max_height": null,
            "max_width": null,
            "min_height": null,
            "min_width": null,
            "object_fit": null,
            "object_position": null,
            "order": null,
            "overflow": null,
            "overflow_x": null,
            "overflow_y": null,
            "padding": null,
            "right": null,
            "top": null,
            "visibility": null,
            "width": null
          }
        },
        "9a3b3d5917d84a2da6c97184e8ac2092": {
          "model_module": "@jupyter-widgets/controls",
          "model_name": "DescriptionStyleModel",
          "model_module_version": "1.5.0",
          "state": {
            "_model_module": "@jupyter-widgets/controls",
            "_model_module_version": "1.5.0",
            "_model_name": "DescriptionStyleModel",
            "_view_count": null,
            "_view_module": "@jupyter-widgets/base",
            "_view_module_version": "1.2.0",
            "_view_name": "StyleView",
            "description_width": ""
          }
        },
        "9ce8de01b3ec465a971a5e522e5f43dc": {
          "model_module": "@jupyter-widgets/controls",
          "model_name": "HBoxModel",
          "model_module_version": "1.5.0",
          "state": {
            "_dom_classes": [],
            "_model_module": "@jupyter-widgets/controls",
            "_model_module_version": "1.5.0",
            "_model_name": "HBoxModel",
            "_view_count": null,
            "_view_module": "@jupyter-widgets/controls",
            "_view_module_version": "1.5.0",
            "_view_name": "HBoxView",
            "box_style": "",
            "children": [
              "IPY_MODEL_87ddcdb7a4a9405db6a7abfe89750289",
              "IPY_MODEL_968e85812fe84fb19512c34b2ea93234",
              "IPY_MODEL_b426d7903bd04d6b94f46e2e8db6acb9"
            ],
            "layout": "IPY_MODEL_5e823570db544c2f9531a0468804b641"
          }
        },
        "87ddcdb7a4a9405db6a7abfe89750289": {
          "model_module": "@jupyter-widgets/controls",
          "model_name": "HTMLModel",
          "model_module_version": "1.5.0",
          "state": {
            "_dom_classes": [],
            "_model_module": "@jupyter-widgets/controls",
            "_model_module_version": "1.5.0",
            "_model_name": "HTMLModel",
            "_view_count": null,
            "_view_module": "@jupyter-widgets/controls",
            "_view_module_version": "1.5.0",
            "_view_name": "HTMLView",
            "description": "",
            "description_tooltip": null,
            "layout": "IPY_MODEL_10739abebce14d409838bab50d08c8cc",
            "placeholder": "​",
            "style": "IPY_MODEL_261ab33a85f3456cbb1ede51f55f8297",
            "value": "Replacing tokens in Train (CONTEXTUAL):  58%"
          }
        },
        "968e85812fe84fb19512c34b2ea93234": {
          "model_module": "@jupyter-widgets/controls",
          "model_name": "FloatProgressModel",
          "model_module_version": "1.5.0",
          "state": {
            "_dom_classes": [],
            "_model_module": "@jupyter-widgets/controls",
            "_model_module_version": "1.5.0",
            "_model_name": "FloatProgressModel",
            "_view_count": null,
            "_view_module": "@jupyter-widgets/controls",
            "_view_module_version": "1.5.0",
            "_view_name": "ProgressView",
            "bar_style": "",
            "description": "",
            "description_tooltip": null,
            "layout": "IPY_MODEL_1f802d7c10074ff686f83a398edcee14",
            "max": 2802,
            "min": 0,
            "orientation": "horizontal",
            "style": "IPY_MODEL_f2ed904e171a4b8b8a5c1a7c552af2b8",
            "value": 1616
          }
        },
        "b426d7903bd04d6b94f46e2e8db6acb9": {
          "model_module": "@jupyter-widgets/controls",
          "model_name": "HTMLModel",
          "model_module_version": "1.5.0",
          "state": {
            "_dom_classes": [],
            "_model_module": "@jupyter-widgets/controls",
            "_model_module_version": "1.5.0",
            "_model_name": "HTMLModel",
            "_view_count": null,
            "_view_module": "@jupyter-widgets/controls",
            "_view_module_version": "1.5.0",
            "_view_name": "HTMLView",
            "description": "",
            "description_tooltip": null,
            "layout": "IPY_MODEL_428b85246c4a4813be9b041ee3ead915",
            "placeholder": "​",
            "style": "IPY_MODEL_ed54ec4801d247fa85a99c18e5ed7d14",
            "value": " 1616/2802 [00:32&lt;00:15, 74.91 examples/s]"
          }
        },
        "5e823570db544c2f9531a0468804b641": {
          "model_module": "@jupyter-widgets/base",
          "model_name": "LayoutModel",
          "model_module_version": "1.2.0",
          "state": {
            "_model_module": "@jupyter-widgets/base",
            "_model_module_version": "1.2.0",
            "_model_name": "LayoutModel",
            "_view_count": null,
            "_view_module": "@jupyter-widgets/base",
            "_view_module_version": "1.2.0",
            "_view_name": "LayoutView",
            "align_content": null,
            "align_items": null,
            "align_self": null,
            "border": null,
            "bottom": null,
            "display": null,
            "flex": null,
            "flex_flow": null,
            "grid_area": null,
            "grid_auto_columns": null,
            "grid_auto_flow": null,
            "grid_auto_rows": null,
            "grid_column": null,
            "grid_gap": null,
            "grid_row": null,
            "grid_template_areas": null,
            "grid_template_columns": null,
            "grid_template_rows": null,
            "height": null,
            "justify_content": null,
            "justify_items": null,
            "left": null,
            "margin": null,
            "max_height": null,
            "max_width": null,
            "min_height": null,
            "min_width": null,
            "object_fit": null,
            "object_position": null,
            "order": null,
            "overflow": null,
            "overflow_x": null,
            "overflow_y": null,
            "padding": null,
            "right": null,
            "top": null,
            "visibility": null,
            "width": null
          }
        },
        "10739abebce14d409838bab50d08c8cc": {
          "model_module": "@jupyter-widgets/base",
          "model_name": "LayoutModel",
          "model_module_version": "1.2.0",
          "state": {
            "_model_module": "@jupyter-widgets/base",
            "_model_module_version": "1.2.0",
            "_model_name": "LayoutModel",
            "_view_count": null,
            "_view_module": "@jupyter-widgets/base",
            "_view_module_version": "1.2.0",
            "_view_name": "LayoutView",
            "align_content": null,
            "align_items": null,
            "align_self": null,
            "border": null,
            "bottom": null,
            "display": null,
            "flex": null,
            "flex_flow": null,
            "grid_area": null,
            "grid_auto_columns": null,
            "grid_auto_flow": null,
            "grid_auto_rows": null,
            "grid_column": null,
            "grid_gap": null,
            "grid_row": null,
            "grid_template_areas": null,
            "grid_template_columns": null,
            "grid_template_rows": null,
            "height": null,
            "justify_content": null,
            "justify_items": null,
            "left": null,
            "margin": null,
            "max_height": null,
            "max_width": null,
            "min_height": null,
            "min_width": null,
            "object_fit": null,
            "object_position": null,
            "order": null,
            "overflow": null,
            "overflow_x": null,
            "overflow_y": null,
            "padding": null,
            "right": null,
            "top": null,
            "visibility": null,
            "width": null
          }
        },
        "261ab33a85f3456cbb1ede51f55f8297": {
          "model_module": "@jupyter-widgets/controls",
          "model_name": "DescriptionStyleModel",
          "model_module_version": "1.5.0",
          "state": {
            "_model_module": "@jupyter-widgets/controls",
            "_model_module_version": "1.5.0",
            "_model_name": "DescriptionStyleModel",
            "_view_count": null,
            "_view_module": "@jupyter-widgets/base",
            "_view_module_version": "1.2.0",
            "_view_name": "StyleView",
            "description_width": ""
          }
        },
        "1f802d7c10074ff686f83a398edcee14": {
          "model_module": "@jupyter-widgets/base",
          "model_name": "LayoutModel",
          "model_module_version": "1.2.0",
          "state": {
            "_model_module": "@jupyter-widgets/base",
            "_model_module_version": "1.2.0",
            "_model_name": "LayoutModel",
            "_view_count": null,
            "_view_module": "@jupyter-widgets/base",
            "_view_module_version": "1.2.0",
            "_view_name": "LayoutView",
            "align_content": null,
            "align_items": null,
            "align_self": null,
            "border": null,
            "bottom": null,
            "display": null,
            "flex": null,
            "flex_flow": null,
            "grid_area": null,
            "grid_auto_columns": null,
            "grid_auto_flow": null,
            "grid_auto_rows": null,
            "grid_column": null,
            "grid_gap": null,
            "grid_row": null,
            "grid_template_areas": null,
            "grid_template_columns": null,
            "grid_template_rows": null,
            "height": null,
            "justify_content": null,
            "justify_items": null,
            "left": null,
            "margin": null,
            "max_height": null,
            "max_width": null,
            "min_height": null,
            "min_width": null,
            "object_fit": null,
            "object_position": null,
            "order": null,
            "overflow": null,
            "overflow_x": null,
            "overflow_y": null,
            "padding": null,
            "right": null,
            "top": null,
            "visibility": null,
            "width": null
          }
        },
        "f2ed904e171a4b8b8a5c1a7c552af2b8": {
          "model_module": "@jupyter-widgets/controls",
          "model_name": "ProgressStyleModel",
          "model_module_version": "1.5.0",
          "state": {
            "_model_module": "@jupyter-widgets/controls",
            "_model_module_version": "1.5.0",
            "_model_name": "ProgressStyleModel",
            "_view_count": null,
            "_view_module": "@jupyter-widgets/base",
            "_view_module_version": "1.2.0",
            "_view_name": "StyleView",
            "bar_color": null,
            "description_width": ""
          }
        },
        "428b85246c4a4813be9b041ee3ead915": {
          "model_module": "@jupyter-widgets/base",
          "model_name": "LayoutModel",
          "model_module_version": "1.2.0",
          "state": {
            "_model_module": "@jupyter-widgets/base",
            "_model_module_version": "1.2.0",
            "_model_name": "LayoutModel",
            "_view_count": null,
            "_view_module": "@jupyter-widgets/base",
            "_view_module_version": "1.2.0",
            "_view_name": "LayoutView",
            "align_content": null,
            "align_items": null,
            "align_self": null,
            "border": null,
            "bottom": null,
            "display": null,
            "flex": null,
            "flex_flow": null,
            "grid_area": null,
            "grid_auto_columns": null,
            "grid_auto_flow": null,
            "grid_auto_rows": null,
            "grid_column": null,
            "grid_gap": null,
            "grid_row": null,
            "grid_template_areas": null,
            "grid_template_columns": null,
            "grid_template_rows": null,
            "height": null,
            "justify_content": null,
            "justify_items": null,
            "left": null,
            "margin": null,
            "max_height": null,
            "max_width": null,
            "min_height": null,
            "min_width": null,
            "object_fit": null,
            "object_position": null,
            "order": null,
            "overflow": null,
            "overflow_x": null,
            "overflow_y": null,
            "padding": null,
            "right": null,
            "top": null,
            "visibility": null,
            "width": null
          }
        },
        "ed54ec4801d247fa85a99c18e5ed7d14": {
          "model_module": "@jupyter-widgets/controls",
          "model_name": "DescriptionStyleModel",
          "model_module_version": "1.5.0",
          "state": {
            "_model_module": "@jupyter-widgets/controls",
            "_model_module_version": "1.5.0",
            "_model_name": "DescriptionStyleModel",
            "_view_count": null,
            "_view_module": "@jupyter-widgets/base",
            "_view_module_version": "1.2.0",
            "_view_name": "StyleView",
            "description_width": ""
          }
        },
        "045fa7b8c4bb4534ad12121df085cf5f": {
          "model_module": "@jupyter-widgets/controls",
          "model_name": "HBoxModel",
          "model_module_version": "1.5.0",
          "state": {
            "_dom_classes": [],
            "_model_module": "@jupyter-widgets/controls",
            "_model_module_version": "1.5.0",
            "_model_name": "HBoxModel",
            "_view_count": null,
            "_view_module": "@jupyter-widgets/controls",
            "_view_module_version": "1.5.0",
            "_view_name": "HBoxView",
            "box_style": "",
            "children": [
              "IPY_MODEL_0360958a5ab94c1288987e8a8d948b21",
              "IPY_MODEL_11e1f6f94da549479c8e57d8c057439d",
              "IPY_MODEL_3f92c1753b954e8ead774da5ea0161de"
            ],
            "layout": "IPY_MODEL_346c9127b19840f1a99fd26496540984"
          }
        },
        "0360958a5ab94c1288987e8a8d948b21": {
          "model_module": "@jupyter-widgets/controls",
          "model_name": "HTMLModel",
          "model_module_version": "1.5.0",
          "state": {
            "_dom_classes": [],
            "_model_module": "@jupyter-widgets/controls",
            "_model_module_version": "1.5.0",
            "_model_name": "HTMLModel",
            "_view_count": null,
            "_view_module": "@jupyter-widgets/controls",
            "_view_module_version": "1.5.0",
            "_view_name": "HTMLView",
            "description": "",
            "description_tooltip": null,
            "layout": "IPY_MODEL_59eb6b10dec44677b37fabbac216b2c7",
            "placeholder": "​",
            "style": "IPY_MODEL_3ed48415d98b4613876d643c17c71f4a",
            "value": "Interpreting for HS class: 100%"
          }
        },
        "11e1f6f94da549479c8e57d8c057439d": {
          "model_module": "@jupyter-widgets/controls",
          "model_name": "FloatProgressModel",
          "model_module_version": "1.5.0",
          "state": {
            "_dom_classes": [],
            "_model_module": "@jupyter-widgets/controls",
            "_model_module_version": "1.5.0",
            "_model_name": "FloatProgressModel",
            "_view_count": null,
            "_view_module": "@jupyter-widgets/controls",
            "_view_module_version": "1.5.0",
            "_view_name": "ProgressView",
            "bar_style": "success",
            "description": "",
            "description_tooltip": null,
            "layout": "IPY_MODEL_365e792590ac4ad78739aa18d4dbc1ae",
            "max": 6,
            "min": 0,
            "orientation": "horizontal",
            "style": "IPY_MODEL_e13b035cb81b456d91c756928359fd02",
            "value": 6
          }
        },
        "3f92c1753b954e8ead774da5ea0161de": {
          "model_module": "@jupyter-widgets/controls",
          "model_name": "HTMLModel",
          "model_module_version": "1.5.0",
          "state": {
            "_dom_classes": [],
            "_model_module": "@jupyter-widgets/controls",
            "_model_module_version": "1.5.0",
            "_model_name": "HTMLModel",
            "_view_count": null,
            "_view_module": "@jupyter-widgets/controls",
            "_view_module_version": "1.5.0",
            "_view_name": "HTMLView",
            "description": "",
            "description_tooltip": null,
            "layout": "IPY_MODEL_3c7beb1f500d42478d9b136cc80f86d4",
            "placeholder": "​",
            "style": "IPY_MODEL_174a92442c04437c8031e3714f1b13b8",
            "value": " 6/6 [15:16&lt;00:00, 120.89s/it]"
          }
        },
        "346c9127b19840f1a99fd26496540984": {
          "model_module": "@jupyter-widgets/base",
          "model_name": "LayoutModel",
          "model_module_version": "1.2.0",
          "state": {
            "_model_module": "@jupyter-widgets/base",
            "_model_module_version": "1.2.0",
            "_model_name": "LayoutModel",
            "_view_count": null,
            "_view_module": "@jupyter-widgets/base",
            "_view_module_version": "1.2.0",
            "_view_name": "LayoutView",
            "align_content": null,
            "align_items": null,
            "align_self": null,
            "border": null,
            "bottom": null,
            "display": null,
            "flex": null,
            "flex_flow": null,
            "grid_area": null,
            "grid_auto_columns": null,
            "grid_auto_flow": null,
            "grid_auto_rows": null,
            "grid_column": null,
            "grid_gap": null,
            "grid_row": null,
            "grid_template_areas": null,
            "grid_template_columns": null,
            "grid_template_rows": null,
            "height": null,
            "justify_content": null,
            "justify_items": null,
            "left": null,
            "margin": null,
            "max_height": null,
            "max_width": null,
            "min_height": null,
            "min_width": null,
            "object_fit": null,
            "object_position": null,
            "order": null,
            "overflow": null,
            "overflow_x": null,
            "overflow_y": null,
            "padding": null,
            "right": null,
            "top": null,
            "visibility": null,
            "width": null
          }
        },
        "59eb6b10dec44677b37fabbac216b2c7": {
          "model_module": "@jupyter-widgets/base",
          "model_name": "LayoutModel",
          "model_module_version": "1.2.0",
          "state": {
            "_model_module": "@jupyter-widgets/base",
            "_model_module_version": "1.2.0",
            "_model_name": "LayoutModel",
            "_view_count": null,
            "_view_module": "@jupyter-widgets/base",
            "_view_module_version": "1.2.0",
            "_view_name": "LayoutView",
            "align_content": null,
            "align_items": null,
            "align_self": null,
            "border": null,
            "bottom": null,
            "display": null,
            "flex": null,
            "flex_flow": null,
            "grid_area": null,
            "grid_auto_columns": null,
            "grid_auto_flow": null,
            "grid_auto_rows": null,
            "grid_column": null,
            "grid_gap": null,
            "grid_row": null,
            "grid_template_areas": null,
            "grid_template_columns": null,
            "grid_template_rows": null,
            "height": null,
            "justify_content": null,
            "justify_items": null,
            "left": null,
            "margin": null,
            "max_height": null,
            "max_width": null,
            "min_height": null,
            "min_width": null,
            "object_fit": null,
            "object_position": null,
            "order": null,
            "overflow": null,
            "overflow_x": null,
            "overflow_y": null,
            "padding": null,
            "right": null,
            "top": null,
            "visibility": null,
            "width": null
          }
        },
        "3ed48415d98b4613876d643c17c71f4a": {
          "model_module": "@jupyter-widgets/controls",
          "model_name": "DescriptionStyleModel",
          "model_module_version": "1.5.0",
          "state": {
            "_model_module": "@jupyter-widgets/controls",
            "_model_module_version": "1.5.0",
            "_model_name": "DescriptionStyleModel",
            "_view_count": null,
            "_view_module": "@jupyter-widgets/base",
            "_view_module_version": "1.2.0",
            "_view_name": "StyleView",
            "description_width": ""
          }
        },
        "365e792590ac4ad78739aa18d4dbc1ae": {
          "model_module": "@jupyter-widgets/base",
          "model_name": "LayoutModel",
          "model_module_version": "1.2.0",
          "state": {
            "_model_module": "@jupyter-widgets/base",
            "_model_module_version": "1.2.0",
            "_model_name": "LayoutModel",
            "_view_count": null,
            "_view_module": "@jupyter-widgets/base",
            "_view_module_version": "1.2.0",
            "_view_name": "LayoutView",
            "align_content": null,
            "align_items": null,
            "align_self": null,
            "border": null,
            "bottom": null,
            "display": null,
            "flex": null,
            "flex_flow": null,
            "grid_area": null,
            "grid_auto_columns": null,
            "grid_auto_flow": null,
            "grid_auto_rows": null,
            "grid_column": null,
            "grid_gap": null,
            "grid_row": null,
            "grid_template_areas": null,
            "grid_template_columns": null,
            "grid_template_rows": null,
            "height": null,
            "justify_content": null,
            "justify_items": null,
            "left": null,
            "margin": null,
            "max_height": null,
            "max_width": null,
            "min_height": null,
            "min_width": null,
            "object_fit": null,
            "object_position": null,
            "order": null,
            "overflow": null,
            "overflow_x": null,
            "overflow_y": null,
            "padding": null,
            "right": null,
            "top": null,
            "visibility": null,
            "width": null
          }
        },
        "e13b035cb81b456d91c756928359fd02": {
          "model_module": "@jupyter-widgets/controls",
          "model_name": "ProgressStyleModel",
          "model_module_version": "1.5.0",
          "state": {
            "_model_module": "@jupyter-widgets/controls",
            "_model_module_version": "1.5.0",
            "_model_name": "ProgressStyleModel",
            "_view_count": null,
            "_view_module": "@jupyter-widgets/base",
            "_view_module_version": "1.2.0",
            "_view_name": "StyleView",
            "bar_color": null,
            "description_width": ""
          }
        },
        "3c7beb1f500d42478d9b136cc80f86d4": {
          "model_module": "@jupyter-widgets/base",
          "model_name": "LayoutModel",
          "model_module_version": "1.2.0",
          "state": {
            "_model_module": "@jupyter-widgets/base",
            "_model_module_version": "1.2.0",
            "_model_name": "LayoutModel",
            "_view_count": null,
            "_view_module": "@jupyter-widgets/base",
            "_view_module_version": "1.2.0",
            "_view_name": "LayoutView",
            "align_content": null,
            "align_items": null,
            "align_self": null,
            "border": null,
            "bottom": null,
            "display": null,
            "flex": null,
            "flex_flow": null,
            "grid_area": null,
            "grid_auto_columns": null,
            "grid_auto_flow": null,
            "grid_auto_rows": null,
            "grid_column": null,
            "grid_gap": null,
            "grid_row": null,
            "grid_template_areas": null,
            "grid_template_columns": null,
            "grid_template_rows": null,
            "height": null,
            "justify_content": null,
            "justify_items": null,
            "left": null,
            "margin": null,
            "max_height": null,
            "max_width": null,
            "min_height": null,
            "min_width": null,
            "object_fit": null,
            "object_position": null,
            "order": null,
            "overflow": null,
            "overflow_x": null,
            "overflow_y": null,
            "padding": null,
            "right": null,
            "top": null,
            "visibility": null,
            "width": null
          }
        },
        "174a92442c04437c8031e3714f1b13b8": {
          "model_module": "@jupyter-widgets/controls",
          "model_name": "DescriptionStyleModel",
          "model_module_version": "1.5.0",
          "state": {
            "_model_module": "@jupyter-widgets/controls",
            "_model_module_version": "1.5.0",
            "_model_name": "DescriptionStyleModel",
            "_view_count": null,
            "_view_module": "@jupyter-widgets/base",
            "_view_module_version": "1.2.0",
            "_view_name": "StyleView",
            "description_width": ""
          }
        }
      }
    },
    "accelerator": "GPU"
  },
  "nbformat": 4,
  "nbformat_minor": 0
}